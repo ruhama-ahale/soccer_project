{
 "cells": [
  {
   "cell_type": "markdown",
   "metadata": {},
   "source": [
    "# Identifying Top Players and Significant Player Attributes Based on Player Position for European Football"
   ]
  },
  {
   "cell_type": "markdown",
   "metadata": {},
   "source": [
    "**PROBLEM:**\n",
    "The client, a European Football Club wants a model to predict the aggregated overall rating of a player at each age of the player. They want to identify the current top players for each playing position and the significant attributes that affect the player rating for each position. They will use this list of best players to consider during transfer season. In case they need to make a transfer, they will bring in a replacement, a major part of player selection depends upon which position the player will play at. Depending on the need of the team, the managers will consider the up and coming players who will suit their need. Our goal is to fit a model that predicts the overall rating using only the player attributes available to us in the data source.\n",
    "\n",
    "**Data Source**: The data we will use for this problem is sourced from several websites such as \n",
    "\n",
    "http://football-data.mx-api.enetscores.com/: scores, lineup, team formation and events\n",
    "\n",
    "http://www.football-data.co.uk/: betting odds\n",
    "\n",
    "http://sofifa.com/:  players and teams attributes from EA Sports FIFA games, FIFA series and all FIFA assets property of EA Sports;\n",
    "\n",
    "It is curated by Hugomathien and made available on Kaggle\n",
    "Link: https://www.kaggle.com/hugomathien/soccer\n",
    "\n",
    "\n",
    "We want to identify top players playing at each of the four positions - Forward, Defender, Midfielder and Goalkeeper from the dataset of players playing for different clubs in European Football since 2008 up to 2016. From the player attributes data we get a set of attributes such as overall_rating (also referred to as player rating), finishing, balance, diving etc. for the players. From the players table, we get the players age, weight and height. We know that *there is a relationship between the overall rating of a player and the player attributes, the player age, height and weight* so we use these attributes to build a model to predict the overall rating of a player. Using this model, given the attributes for a player we can project overall rating for the player at a future age\n",
    "\n",
    "**Data Wrangling**: We will prepare the data for modeling, data is available in separate tables such as players (player id, birthday, weight), player_attributes (finishing, diving, balance etc.) and matches (player coordinates for a match played). We join these tables to get a dataset with all required player details, attributes and favored playing position. For each player we then aggregate data for each age of the player such that we have average overall rating, average finishing, etc. for each age. This is the final dataset for analysis and model building, to fit a regression model to predict the overall rating we analyze the data to test assumptions and identify patterns. "
   ]
  },
  {
   "cell_type": "markdown",
   "metadata": {},
   "source": [
    "## **Importing the packages**"
   ]
  },
  {
   "cell_type": "code",
   "execution_count": 1,
   "metadata": {
    "collapsed": false
   },
   "outputs": [
    {
     "data": {
      "text/html": [
       "<style>body {\n",
       "    margin: 0;\n",
       "    font-family: Helvetica;\n",
       "}\n",
       "table.dataframe {\n",
       "    border-collapse: collapse;\n",
       "    border: none;\n",
       "}\n",
       "table.dataframe tr {\n",
       "    border: none;\n",
       "}\n",
       "table.dataframe td, table.dataframe th {\n",
       "    margin: 0;\n",
       "    border: 1px solid white;\n",
       "    padding-left: 0.25em;\n",
       "    padding-right: 0.25em;\n",
       "}\n",
       "table.dataframe th:not(:empty) {\n",
       "    background-color: #fec;\n",
       "    text-align: left;\n",
       "    font-weight: normal;\n",
       "}\n",
       "table.dataframe tr:nth-child(2) th:empty {\n",
       "    border-left: none;\n",
       "    border-right: 1px dashed #888;\n",
       "}\n",
       "table.dataframe td {\n",
       "    border: 2px solid #ccf;\n",
       "    background-color: #f4f4ff;\n",
       "}\n",
       "h3 {\n",
       "    color: white;\n",
       "    background-color: black;\n",
       "    padding: 0.5em;\n",
       "}\n",
       "</style>"
      ],
      "text/plain": [
       "<IPython.core.display.HTML object>"
      ]
     },
     "execution_count": 1,
     "metadata": {},
     "output_type": "execute_result"
    }
   ],
   "source": [
    "#import packages\n",
    "import os\n",
    "import math\n",
    "import pandas as pd\n",
    "import numpy as np\n",
    "import sqlite3\n",
    "import warnings\n",
    "warnings.filterwarnings(\"ignore\")\n",
    "import datetime as dt\n",
    "import scipy\n",
    "import scipy.stats\n",
    "import matplotlib.pyplot as plt\n",
    "%matplotlib inline\n",
    "import sklearn\n",
    "\n",
    "\n",
    "# Import regression modules\n",
    "# ols - stands for Ordinary least squares, we'll use this\n",
    "import statsmodels.api as sm\n",
    "from statsmodels.formula.api import ols\n",
    "from scipy.stats.stats import pearsonr\n",
    "from sklearn.linear_model import LinearRegression\n",
    "from sklearn.metrics import mean_squared_error\n",
    "from math import sqrt\n",
    "lm = LinearRegression()\n",
    "\n",
    "\n",
    "#import graph plotly modules\n",
    "import plotly.plotly as py\n",
    "from plotly.graph_objs import *\n",
    "import plotly.tools as tls\n",
    "\n",
    "from sklearn import preprocessing\n",
    "from pandas.tools.plotting import scatter_matrix\n",
    "import seaborn as sns\n",
    "sns.set(style = \"whitegrid\", color_codes = True)\n",
    "np.random.seed(sum(map(ord, \"palettes\")))\n",
    "\n",
    "# special matplotlib argument for improved plots\n",
    "from matplotlib import rcParams\n",
    "sns.set_context(\"poster\")\n",
    "\n",
    "from sklearn import metrics\n",
    "\n",
    "from statsmodels.stats.multicomp import pairwise_tukeyhsd\n",
    "\n",
    "\n",
    "#formatting for table displays\n",
    "from IPython.core.display import HTML\n",
    "css = open('style-table.css').read() + open('style-notebook.css').read()\n",
    "HTML('<style>{}</style>'.format(css))"
   ]
  },
  {
   "cell_type": "markdown",
   "metadata": {},
   "source": [
    " **Data Acquisition and Cleaning**"
   ]
  },
  {
   "cell_type": "markdown",
   "metadata": {},
   "source": [
    "Data is available in sqlite database, below is a snapshot of each tables details:\n",
    "\n",
    "1. Match : Match data with each row having -  match_date, home_team, opponent_team, player_ids of players playing in the match, player_id at each playing coordinate\n",
    "2. Player: Player details- player_id, player_name, birthdate, height, weight\n",
    "3. Player_Attributes: Attributes sourced from several sources for each match player has played - player_id, preferred_foot, attacking_work_rate, overall_rating, crossing, finishing, heading_accuracy, short_passing etc.\n",
    "4. Country: country_id, country_name\n",
    "5. League: id, country_id, league_name\n",
    "\n",
    "Data is collected from this database and processed in order to merge some of these files to get player positions data and player league and country data in a more accesible format. It is not necessary that a player plays at the same position for each match, so we choose the players favoured position using the mode function to calculate the player position. These new tables are then pushed back into the database and this new sqlite database is used as source for this analyis. [Here]() is the link to the ipynb which contains the data manipulations code in detail."
   ]
  },
  {
   "cell_type": "markdown",
   "metadata": {},
   "source": [
    "**Data Source **"
   ]
  },
  {
   "cell_type": "code",
   "execution_count": 7,
   "metadata": {
    "collapsed": false
   },
   "outputs": [],
   "source": [
    "#connect to sqlite database and read files\n",
    "countries = \"\"\n",
    "matches = \"\"\n",
    "leagues = \"\"\n",
    "teams = \"\"\n",
    "\n",
    "with sqlite3.connect('/Users/ruhama.ahale/Documents/git_repository/capstone-project big files/database_with_player_positions_and_league.sqlite') as con:\n",
    "    countries = pd.read_sql_query(\"SELECT * from Country\", con)\n",
    "    matches = pd.read_sql_query(\"SELECT * from Match\", con)\n",
    "    leagues = pd.read_sql_query(\"SELECT * from League\", con)\n",
    "    teams = pd.read_sql_query(\"SELECT * from Team\", con)\n",
    "    players = pd.read_sql_query(\"SELECT * from Player\", con)\n",
    "    player_attributes = pd.read_sql_query(\"SELECT * from Player_Attributes\", con)\n",
    "    player_positions = pd.read_sql_query(\"SELECT * from Player_Positions\", con)\n",
    "    players_with_league = pd.read_sql_query(\"SELECT * from Players_with_League_Country\", con)\n",
    "\n",
    "#len(players_with_league)"
   ]
  },
  {
   "cell_type": "markdown",
   "metadata": {
    "collapsed": true
   },
   "source": [
    "We merge the positions data with the attributes data and players data to get all details required for the players in a single data frame."
   ]
  },
  {
   "cell_type": "code",
   "execution_count": 8,
   "metadata": {
    "collapsed": true
   },
   "outputs": [],
   "source": [
    "def lessPlayerPositionForPrefferedPositions(preferred_x_position, preferred_y_position):\n",
    "    if (preferred_y_position == 1):\n",
    "        return 'Goalkeeper'\n",
    "    if (preferred_y_position > 1 and preferred_y_position <= 3):\n",
    "        return 'Defender'\n",
    "    if (preferred_y_position > 3 and preferred_y_position <= 8):\n",
    "        return 'Midfielder'\n",
    "    if (preferred_y_position > 8):\n",
    "        return 'Forward'\n",
    "    return 'Position Unknown'\n",
    "\n",
    "for index, player in player_positions.iterrows():\n",
    "    preferred_x_position = player['preferred_x_position']\n",
    "    preferred_y_position = player['preferred_y_position']\n",
    "    player_position = lessPlayerPositionForPrefferedPositions(preferred_x_position, preferred_y_position)\n",
    "    player_positions.set_value(index, 'player_position', player_position)\n",
    "    \n",
    "#player_positions.head()"
   ]
  },
  {
   "cell_type": "code",
   "execution_count": 9,
   "metadata": {
    "collapsed": false
   },
   "outputs": [
    {
     "name": "stdout",
     "output_type": "stream",
     "text": [
      "Total unique players in dataset:  10867\n"
     ]
    }
   ],
   "source": [
    "#merge all player files to get the player details required\n",
    "player_positions = player_positions[['player_api_id', 'player_name', 'player_position']]\n",
    "players_final_df = player_attributes\n",
    "players_final_df = player_positions.merge(players_final_df,on='player_api_id')\n",
    "player = players[['player_api_id', 'birthday', 'height', 'weight']]\n",
    "players_final_df = players_final_df.merge(player,on='player_api_id')\n",
    "players_final_df['birthday_date'] = pd.to_datetime(players_final_df['birthday'])\n",
    "players_final_df['date'] = pd.to_datetime(players_final_df['date'])\n",
    "players_final_df['age'] = players_final_df['date'] - players_final_df['birthday_date']\n",
    "players_final_df['age'] = players_final_df['age'].astype(dt.timedelta).map(lambda x: np.nan if pd.isnull(x) else x.days)\n",
    "players_final_df['age'] = round(players_final_df['age']/365,0)\n",
    "players_final_df = players_final_df[players_final_df.date >= '2009-07-31']#taking data only from 09-10 season onwards as data prior to that is not consistent\n",
    "#rearrange the columns to keep feature sets together\n",
    "players_final_df = players_final_df[['player_api_id',  'player_name',  'player_position',   'date',  'birthday_date', 'overall_rating',  'age', 'height',  'weight','finishing',  'heading_accuracy',  'short_passing',  'volleys',  'dribbling',  'curve',  'free_kick_accuracy',  'long_passing',  'ball_control',  'acceleration',  'sprint_speed',  'agility',  'reactions',  'balance',  'shot_power',  'jumping',  'stamina',  'strength',  'long_shots',  'aggression',  'interceptions',  'positioning',  'vision',  'penalties',  'marking',  'standing_tackle',  'sliding_tackle',  'gk_diving',  'gk_handling',  'gk_kicking',  'gk_positioning',  'gk_reflexes']]\n",
    "#number of unique player in our new database\n",
    "print('Total unique players in dataset: ', players_final_df.player_api_id.nunique())\n"
   ]
  },
  {
   "cell_type": "markdown",
   "metadata": {},
   "source": [
    "Since data from 2008-09 season is inconsistent, we exclude that from our analysis"
   ]
  },
  {
   "cell_type": "markdown",
   "metadata": {},
   "source": [
    "**Preparing the Data for Model Prediction and Data Analysis**\n",
    "\n",
    "**Handling Missing Data:**"
   ]
  },
  {
   "cell_type": "code",
   "execution_count": 10,
   "metadata": {
    "collapsed": false
   },
   "outputs": [
    {
     "data": {
      "text/plain": [
       "player_api_id         0.0000\n",
       "player_name           0.0000\n",
       "player_position       0.0000\n",
       "date                  0.0000\n",
       "birthday_date         0.0000\n",
       "overall_rating        0.0611\n",
       "age                   0.0000\n",
       "height                0.0000\n",
       "weight                0.0000\n",
       "finishing             0.0611\n",
       "heading_accuracy      0.0611\n",
       "short_passing         0.0611\n",
       "volleys               0.3578\n",
       "dribbling             0.0611\n",
       "curve                 0.3578\n",
       "free_kick_accuracy    0.0611\n",
       "long_passing          0.0611\n",
       "ball_control          0.0611\n",
       "acceleration          0.0611\n",
       "sprint_speed          0.0611\n",
       "agility               0.3578\n",
       "reactions             0.0611\n",
       "balance               0.3578\n",
       "shot_power            0.0611\n",
       "jumping               0.3578\n",
       "stamina               0.0611\n",
       "strength              0.0611\n",
       "long_shots            0.0611\n",
       "aggression            0.0611\n",
       "interceptions         0.0611\n",
       "positioning           0.0611\n",
       "vision                0.3578\n",
       "penalties             0.0611\n",
       "marking               0.0611\n",
       "standing_tackle       0.0611\n",
       "sliding_tackle        0.3578\n",
       "gk_diving             0.0611\n",
       "gk_handling           0.0611\n",
       "gk_kicking            0.0611\n",
       "gk_positioning        0.0611\n",
       "gk_reflexes           0.0611\n",
       "dtype: float64"
      ]
     },
     "execution_count": 10,
     "metadata": {},
     "output_type": "execute_result"
    }
   ],
   "source": [
    "#Check proportion of missing values\n",
    "players_final_df[players_final_df.columns[:]].isnull().sum()\n",
    "players_final_df.isnull().any(axis=1).sum()\n",
    "prop_missing = round((players_final_df[players_final_df.columns[:]].isnull().sum()/players_final_df[players_final_df.columns[:]].count())*100,4)\n",
    "prop_missing"
   ]
  },
  {
   "cell_type": "markdown",
   "metadata": {},
   "source": [
    "Since the proportion of missing values is very small, we ignore the missing values and delete them from the dataset."
   ]
  },
  {
   "cell_type": "code",
   "execution_count": 11,
   "metadata": {
    "collapsed": false
   },
   "outputs": [
    {
     "name": "stdout",
     "output_type": "stream",
     "text": [
      "Unique players after removing missing data: 10582\n",
      "Percent of players removed:  2.6226189380693876\n"
     ]
    }
   ],
   "source": [
    "players_final_df = players_final_df.dropna(axis=0, how='any')\n",
    "players_final_df.isnull().any(axis=1).sum()\n",
    "print('Unique players after removing missing data:', players_final_df.player_api_id.nunique())\n",
    "print('Percent of players removed: ', ((1- (10582/10867))*100))"
   ]
  },
  {
   "cell_type": "markdown",
   "metadata": {},
   "source": [
    "As the proportion of players with any of the attributes data missing is less than 5% we proceed without these players"
   ]
  },
  {
   "cell_type": "code",
   "execution_count": 12,
   "metadata": {
    "collapsed": false
   },
   "outputs": [
    {
     "name": "stdout",
     "output_type": "stream",
     "text": [
      "Unique players in each position:\n"
     ]
    },
    {
     "data": {
      "text/plain": [
       "player_position\n",
       "Defender      3536\n",
       "Forward       2084\n",
       "Goalkeeper     919\n",
       "Midfielder    4043\n",
       "Name: player_api_id, dtype: int64"
      ]
     },
     "execution_count": 12,
     "metadata": {},
     "output_type": "execute_result"
    }
   ],
   "source": [
    "#count the unique players in each position\n",
    "print('Unique players in each position:')\n",
    "players_final_df.groupby(players_final_df.player_position).player_api_id.nunique()"
   ]
  },
  {
   "cell_type": "markdown",
   "metadata": {},
   "source": [
    "##   **Data Analysis**"
   ]
  },
  {
   "cell_type": "markdown",
   "metadata": {},
   "source": [
    "To get predicted ratings for players at the next age of player, we want data for ratings and attributes of a player at a given age. The data that we have has ratings and attributes at multiple matches for multiple ages of a player. So for one age of a player e.g. 25, there could be more than one match details. To get one data point for each age of a player we aggregate the features at that age using the average function - mean:"
   ]
  },
  {
   "cell_type": "code",
   "execution_count": 17,
   "metadata": {
    "collapsed": false
   },
   "outputs": [
    {
     "data": {
      "text/html": [
       "<div>\n",
       "<table border=\"1\" class=\"dataframe\">\n",
       "  <thead>\n",
       "    <tr style=\"text-align: right;\">\n",
       "      <th></th>\n",
       "      <th>player_api_id</th>\n",
       "      <th>overall_rating</th>\n",
       "      <th>age</th>\n",
       "      <th>height</th>\n",
       "      <th>weight</th>\n",
       "      <th>finishing</th>\n",
       "      <th>heading_accuracy</th>\n",
       "      <th>short_passing</th>\n",
       "      <th>volleys</th>\n",
       "      <th>dribbling</th>\n",
       "      <th>...</th>\n",
       "      <th>vision</th>\n",
       "      <th>penalties</th>\n",
       "      <th>marking</th>\n",
       "      <th>standing_tackle</th>\n",
       "      <th>sliding_tackle</th>\n",
       "      <th>gk_diving</th>\n",
       "      <th>gk_handling</th>\n",
       "      <th>gk_kicking</th>\n",
       "      <th>gk_positioning</th>\n",
       "      <th>gk_reflexes</th>\n",
       "    </tr>\n",
       "  </thead>\n",
       "  <tbody>\n",
       "    <tr>\n",
       "      <th>count</th>\n",
       "      <td>52725.000000</td>\n",
       "      <td>52725.000000</td>\n",
       "      <td>52725.000000</td>\n",
       "      <td>52725.000000</td>\n",
       "      <td>52725.000000</td>\n",
       "      <td>52725.000000</td>\n",
       "      <td>52725.000000</td>\n",
       "      <td>52725.000000</td>\n",
       "      <td>52725.000000</td>\n",
       "      <td>52725.000000</td>\n",
       "      <td>...</td>\n",
       "      <td>52725.000000</td>\n",
       "      <td>52725.000000</td>\n",
       "      <td>52725.000000</td>\n",
       "      <td>52725.000000</td>\n",
       "      <td>52725.000000</td>\n",
       "      <td>52725.000000</td>\n",
       "      <td>52725.000000</td>\n",
       "      <td>52725.000000</td>\n",
       "      <td>52725.000000</td>\n",
       "      <td>52725.00000</td>\n",
       "    </tr>\n",
       "    <tr>\n",
       "      <th>mean</th>\n",
       "      <td>128807.768687</td>\n",
       "      <td>68.168710</td>\n",
       "      <td>26.070422</td>\n",
       "      <td>182.010980</td>\n",
       "      <td>169.056918</td>\n",
       "      <td>48.495372</td>\n",
       "      <td>56.690740</td>\n",
       "      <td>61.567312</td>\n",
       "      <td>48.034650</td>\n",
       "      <td>57.698582</td>\n",
       "      <td>...</td>\n",
       "      <td>56.951881</td>\n",
       "      <td>53.747098</td>\n",
       "      <td>46.596858</td>\n",
       "      <td>50.067561</td>\n",
       "      <td>47.642339</td>\n",
       "      <td>15.383802</td>\n",
       "      <td>16.553127</td>\n",
       "      <td>20.280548</td>\n",
       "      <td>16.633123</td>\n",
       "      <td>16.96874</td>\n",
       "    </tr>\n",
       "    <tr>\n",
       "      <th>std</th>\n",
       "      <td>130042.194779</td>\n",
       "      <td>6.719322</td>\n",
       "      <td>4.563284</td>\n",
       "      <td>6.401438</td>\n",
       "      <td>15.070259</td>\n",
       "      <td>19.201114</td>\n",
       "      <td>16.882404</td>\n",
       "      <td>14.386956</td>\n",
       "      <td>18.321289</td>\n",
       "      <td>18.092654</td>\n",
       "      <td>...</td>\n",
       "      <td>14.993739</td>\n",
       "      <td>15.827144</td>\n",
       "      <td>21.432128</td>\n",
       "      <td>21.639129</td>\n",
       "      <td>21.631294</td>\n",
       "      <td>17.726123</td>\n",
       "      <td>16.632624</td>\n",
       "      <td>20.595837</td>\n",
       "      <td>16.869654</td>\n",
       "      <td>17.99513</td>\n",
       "    </tr>\n",
       "    <tr>\n",
       "      <th>min</th>\n",
       "      <td>2625.000000</td>\n",
       "      <td>37.000000</td>\n",
       "      <td>16.000000</td>\n",
       "      <td>157.480000</td>\n",
       "      <td>117.000000</td>\n",
       "      <td>2.000000</td>\n",
       "      <td>3.000000</td>\n",
       "      <td>3.000000</td>\n",
       "      <td>1.000000</td>\n",
       "      <td>4.000000</td>\n",
       "      <td>...</td>\n",
       "      <td>1.000000</td>\n",
       "      <td>3.000000</td>\n",
       "      <td>1.000000</td>\n",
       "      <td>2.000000</td>\n",
       "      <td>2.000000</td>\n",
       "      <td>1.000000</td>\n",
       "      <td>1.000000</td>\n",
       "      <td>1.000000</td>\n",
       "      <td>1.000000</td>\n",
       "      <td>1.00000</td>\n",
       "    </tr>\n",
       "    <tr>\n",
       "      <th>25%</th>\n",
       "      <td>34225.000000</td>\n",
       "      <td>64.000000</td>\n",
       "      <td>23.000000</td>\n",
       "      <td>177.800000</td>\n",
       "      <td>159.000000</td>\n",
       "      <td>32.500000</td>\n",
       "      <td>49.000000</td>\n",
       "      <td>56.750000</td>\n",
       "      <td>34.000000</td>\n",
       "      <td>49.500000</td>\n",
       "      <td>...</td>\n",
       "      <td>48.000000</td>\n",
       "      <td>44.000000</td>\n",
       "      <td>25.000000</td>\n",
       "      <td>28.000000</td>\n",
       "      <td>25.000000</td>\n",
       "      <td>7.500000</td>\n",
       "      <td>8.000000</td>\n",
       "      <td>8.000000</td>\n",
       "      <td>8.000000</td>\n",
       "      <td>8.00000</td>\n",
       "    </tr>\n",
       "    <tr>\n",
       "      <th>50%</th>\n",
       "      <td>73841.000000</td>\n",
       "      <td>68.000000</td>\n",
       "      <td>26.000000</td>\n",
       "      <td>182.880000</td>\n",
       "      <td>168.000000</td>\n",
       "      <td>51.000000</td>\n",
       "      <td>60.000000</td>\n",
       "      <td>64.333333</td>\n",
       "      <td>51.000000</td>\n",
       "      <td>62.000000</td>\n",
       "      <td>...</td>\n",
       "      <td>59.000000</td>\n",
       "      <td>55.500000</td>\n",
       "      <td>51.000000</td>\n",
       "      <td>56.400000</td>\n",
       "      <td>53.000000</td>\n",
       "      <td>10.000000</td>\n",
       "      <td>12.000000</td>\n",
       "      <td>12.000000</td>\n",
       "      <td>12.000000</td>\n",
       "      <td>12.00000</td>\n",
       "    </tr>\n",
       "    <tr>\n",
       "      <th>75%</th>\n",
       "      <td>183532.000000</td>\n",
       "      <td>73.000000</td>\n",
       "      <td>29.000000</td>\n",
       "      <td>185.420000</td>\n",
       "      <td>179.000000</td>\n",
       "      <td>64.000000</td>\n",
       "      <td>68.000000</td>\n",
       "      <td>71.000000</td>\n",
       "      <td>62.600000</td>\n",
       "      <td>70.333333</td>\n",
       "      <td>...</td>\n",
       "      <td>68.000000</td>\n",
       "      <td>65.500000</td>\n",
       "      <td>66.000000</td>\n",
       "      <td>69.000000</td>\n",
       "      <td>66.400000</td>\n",
       "      <td>13.000000</td>\n",
       "      <td>15.000000</td>\n",
       "      <td>15.000000</td>\n",
       "      <td>15.000000</td>\n",
       "      <td>15.00000</td>\n",
       "    </tr>\n",
       "    <tr>\n",
       "      <th>max</th>\n",
       "      <td>750584.000000</td>\n",
       "      <td>94.000000</td>\n",
       "      <td>44.000000</td>\n",
       "      <td>208.280000</td>\n",
       "      <td>243.000000</td>\n",
       "      <td>97.000000</td>\n",
       "      <td>95.000000</td>\n",
       "      <td>97.000000</td>\n",
       "      <td>93.000000</td>\n",
       "      <td>97.000000</td>\n",
       "      <td>...</td>\n",
       "      <td>97.000000</td>\n",
       "      <td>96.000000</td>\n",
       "      <td>91.000000</td>\n",
       "      <td>94.500000</td>\n",
       "      <td>95.000000</td>\n",
       "      <td>93.000000</td>\n",
       "      <td>89.000000</td>\n",
       "      <td>96.000000</td>\n",
       "      <td>93.000000</td>\n",
       "      <td>94.00000</td>\n",
       "    </tr>\n",
       "  </tbody>\n",
       "</table>\n",
       "<p>8 rows × 37 columns</p>\n",
       "</div>"
      ],
      "text/plain": [
       "       player_api_id  overall_rating           age        height  \\\n",
       "count   52725.000000    52725.000000  52725.000000  52725.000000   \n",
       "mean   128807.768687       68.168710     26.070422    182.010980   \n",
       "std    130042.194779        6.719322      4.563284      6.401438   \n",
       "min      2625.000000       37.000000     16.000000    157.480000   \n",
       "25%     34225.000000       64.000000     23.000000    177.800000   \n",
       "50%     73841.000000       68.000000     26.000000    182.880000   \n",
       "75%    183532.000000       73.000000     29.000000    185.420000   \n",
       "max    750584.000000       94.000000     44.000000    208.280000   \n",
       "\n",
       "             weight     finishing  heading_accuracy  short_passing  \\\n",
       "count  52725.000000  52725.000000      52725.000000   52725.000000   \n",
       "mean     169.056918     48.495372         56.690740      61.567312   \n",
       "std       15.070259     19.201114         16.882404      14.386956   \n",
       "min      117.000000      2.000000          3.000000       3.000000   \n",
       "25%      159.000000     32.500000         49.000000      56.750000   \n",
       "50%      168.000000     51.000000         60.000000      64.333333   \n",
       "75%      179.000000     64.000000         68.000000      71.000000   \n",
       "max      243.000000     97.000000         95.000000      97.000000   \n",
       "\n",
       "            volleys     dribbling     ...             vision     penalties  \\\n",
       "count  52725.000000  52725.000000     ...       52725.000000  52725.000000   \n",
       "mean      48.034650     57.698582     ...          56.951881     53.747098   \n",
       "std       18.321289     18.092654     ...          14.993739     15.827144   \n",
       "min        1.000000      4.000000     ...           1.000000      3.000000   \n",
       "25%       34.000000     49.500000     ...          48.000000     44.000000   \n",
       "50%       51.000000     62.000000     ...          59.000000     55.500000   \n",
       "75%       62.600000     70.333333     ...          68.000000     65.500000   \n",
       "max       93.000000     97.000000     ...          97.000000     96.000000   \n",
       "\n",
       "            marking  standing_tackle  sliding_tackle     gk_diving  \\\n",
       "count  52725.000000     52725.000000    52725.000000  52725.000000   \n",
       "mean      46.596858        50.067561       47.642339     15.383802   \n",
       "std       21.432128        21.639129       21.631294     17.726123   \n",
       "min        1.000000         2.000000        2.000000      1.000000   \n",
       "25%       25.000000        28.000000       25.000000      7.500000   \n",
       "50%       51.000000        56.400000       53.000000     10.000000   \n",
       "75%       66.000000        69.000000       66.400000     13.000000   \n",
       "max       91.000000        94.500000       95.000000     93.000000   \n",
       "\n",
       "        gk_handling    gk_kicking  gk_positioning  gk_reflexes  \n",
       "count  52725.000000  52725.000000    52725.000000  52725.00000  \n",
       "mean      16.553127     20.280548       16.633123     16.96874  \n",
       "std       16.632624     20.595837       16.869654     17.99513  \n",
       "min        1.000000      1.000000        1.000000      1.00000  \n",
       "25%        8.000000      8.000000        8.000000      8.00000  \n",
       "50%       12.000000     12.000000       12.000000     12.00000  \n",
       "75%       15.000000     15.000000       15.000000     15.00000  \n",
       "max       89.000000     96.000000       93.000000     94.00000  \n",
       "\n",
       "[8 rows x 37 columns]"
      ]
     },
     "execution_count": 17,
     "metadata": {},
     "output_type": "execute_result"
    }
   ],
   "source": [
    "players_final_df = players_final_df.sort_values(['player_api_id', 'player_name', 'age'], ascending=[True, False, True])                                                                             \n",
    "#For all players average the data for each age\n",
    "players_agg = players_final_df.groupby([ 'player_api_id', 'player_name', 'player_position',  'age'],as_index=False, sort=False).mean()\n",
    "players_agg = pd.DataFrame(players_agg)\n",
    "players_agg = players_agg[[ 'player_api_id', 'player_name', 'player_position', 'overall_rating',  'age', 'height',  'weight', 'finishing',  'heading_accuracy',  'short_passing',  'volleys',  'dribbling',  'curve',  'free_kick_accuracy',  'long_passing',  'ball_control',  'acceleration',  'sprint_speed',  'agility',  'reactions',  'balance',  'shot_power',  'jumping',  'stamina',  'strength',  'long_shots',  'aggression',  'interceptions',  'positioning',  'vision',  'penalties',  'marking',  'standing_tackle',  'sliding_tackle',  'gk_diving',  'gk_handling',  'gk_kicking',  'gk_positioning',  'gk_reflexes']]\n",
    "players_agg.describe()"
   ]
  },
  {
   "cell_type": "code",
   "execution_count": 18,
   "metadata": {
    "collapsed": true
   },
   "outputs": [],
   "source": [
    "#sort the aggregate data for convinience\n",
    "players_agg = players_agg.sort_values(['age'], ascending=True)\n",
    "\n",
    "#subset into four positional dataframes\n",
    "defender_df = players_agg[players_agg.player_position == 'Defender']\n",
    "forward_df = players_agg[players_agg.player_position == 'Forward']\n",
    "midfielder_df = players_agg[players_agg.player_position == 'Midfielder']\n",
    "goalkeeper_df = players_agg[players_agg.player_position == 'Goalkeeper']\n",
    "\n",
    "#We will use the above datasets for data modeling"
   ]
  },
  {
   "cell_type": "code",
   "execution_count": 19,
   "metadata": {
    "collapsed": false
   },
   "outputs": [
    {
     "name": "stdout",
     "output_type": "stream",
     "text": [
      "Total unique players in players_agg:  10582\n",
      "Total unique players in player_league_country:  7811\n",
      "Total unique players in player_positions:  11060\n",
      "Total unique players missing in players_leagues:  26.185976185976184\n"
     ]
    }
   ],
   "source": [
    "print('Total unique players in players_agg: ', players_agg.player_api_id.nunique())\n",
    "print('Total unique players in player_league_country: ', players_with_league.player_api_id.nunique())\n",
    "print('Total unique players in player_positions: ', player_positions.player_api_id.nunique())\n",
    "print('Total unique players missing in players_leagues: ', \n",
    "      ((players_agg.player_api_id.nunique() - players_with_league.player_api_id.nunique())/players_agg.player_api_id.nunique())*100)\n"
   ]
  },
  {
   "cell_type": "code",
   "execution_count": 20,
   "metadata": {
    "collapsed": false
   },
   "outputs": [
    {
     "data": {
      "text/plain": [
       "26.185976185976184"
      ]
     },
     "execution_count": 20,
     "metadata": {},
     "output_type": "execute_result"
    }
   ],
   "source": [
    "((10582-7811)/10582)*100"
   ]
  },
  {
   "cell_type": "markdown",
   "metadata": {},
   "source": [
    "### ** 3.2 Data Exploration **\n",
    "\n",
    "**3.2.1 Player Age Distribution**\n",
    "\n",
    "Since the relationship of the player age and player rating is of interest to us, as there is a general assumption in football that player rating decreases with age of player, let us explore if this assumption is true for each of the playing positions"
   ]
  },
  {
   "cell_type": "code",
   "execution_count": 21,
   "metadata": {
    "collapsed": true
   },
   "outputs": [],
   "source": [
    "#subset for aggregates of only features by position and age\n",
    "players_features_agg = players_final_df.groupby([ 'player_position', 'age'],as_index=False, sort=False).mean()\n",
    "players_features_agg = pd.DataFrame(players_features_agg)\n",
    "players_features_agg = players_features_agg.sort_values(['age'], ascending=True)\n",
    "players_features_agg.head()\n",
    "\n",
    "\n",
    "#subsets for features only aggregates\n",
    "defender_df_agg = players_features_agg[players_features_agg.player_position == 'Defender']\n",
    "forward_df_agg = players_features_agg[players_features_agg.player_position == 'Forward']\n",
    "midfielder_df_agg = players_features_agg[players_features_agg.player_position == 'Midfielder']\n",
    "goalkeeper_df_agg = players_features_agg[players_features_agg.player_position == 'Goalkeeper']\n",
    "\n"
   ]
  },
  {
   "cell_type": "code",
   "execution_count": 22,
   "metadata": {
    "collapsed": false
   },
   "outputs": [
    {
     "data": {
      "image/png": "[encoded data removed]",
      "text/plain": [
       "<matplotlib.figure.Figure at 0x114fd9ba8>"
      ]
     },
     "metadata": {},
     "output_type": "display_data"
    }
   ],
   "source": [
    "#plot average age vs Average rating by position\n",
    "plt.plot(defender_df_agg.age, defender_df_agg.overall_rating, 'r--')\n",
    "plt.plot(forward_df_agg.age, forward_df_agg.overall_rating, 'bs')\n",
    "plt.plot(midfielder_df_agg.age, midfielder_df_agg.overall_rating, 'g^')\n",
    "plt.plot(goalkeeper_df_agg.age, goalkeeper_df_agg.overall_rating, 'y-')\n",
    "plt.legend(['Defender', 'Forward', 'Midfielder', 'Goalkeeper'], loc='lower right')\n",
    "plt.grid(False)\n",
    "plt.xlabel('Average Age', fontsize=14)\n",
    "plt.ylabel('Average Rating', fontsize=14)\n",
    "plt.title('Average Age VS Average Player Rating')\n",
    "plt.tight_layout()\n",
    "plt.show()"
   ]
  },
  {
   "cell_type": "markdown",
   "metadata": {},
   "source": [
    "From the above plot, we can see that the player rating increases with age and for Defender, Midfielder and Forwards  around the age range of 30-35 the rating starts to drop. While for goalkeepers, the trend is different with ratings remaining high from ages 25 onwards. So the assumption that player rating falls as age increases is true only after age range of 30-33 years.\n"
   ]
  },
  {
   "cell_type": "markdown",
   "metadata": {},
   "source": [
    "**3.2.3 Difference in Ratings Between Positions**"
   ]
  },
  {
   "cell_type": "markdown",
   "metadata": {},
   "source": [
    "To predict the player rating we can separate  the data into train and test datasets and fit a regression model to the data to find a model with a good fit. However, we know that the data has 36 attributes for each player and according to our assumptions about the game, we think that there is a difference between ratings based on which position the player plays at. If this is true, it would make sense for us to separate the data by positions and fit separate models on each position data. For this purpose we test the following hypothesis:\n",
    "\n",
    "H0: There is no significant difference between the mean ratings of the different position groups\n",
    "                                        VS\n",
    "H1: There is significant difference between the mean ratings of the different position groups"
   ]
  },
  {
   "cell_type": "code",
   "execution_count": 523,
   "metadata": {
    "collapsed": false
   },
   "outputs": [
    {
     "data": {
      "text/plain": [
       "F_onewayResult(statistic=83.517342196633763, pvalue=6.6723804857405175e-54)"
      ]
     },
     "execution_count": 523,
     "metadata": {},
     "output_type": "execute_result"
    },
    {
     "data": {
      "image/png": "[encoded data removed]",
      "text/plain": [
       "<matplotlib.figure.Figure at 0x106903198>"
      ]
     },
     "metadata": {},
     "output_type": "display_data"
    }
   ],
   "source": [
    "#subset the data for all positions\n",
    "data = players_agg[['player_position', 'overall_rating']]\n",
    "defn = data[data.player_position == 'Defender']\n",
    "forwd = data[data.player_position == 'Forward']\n",
    "midfld = data[data.player_position == 'Midfielder']\n",
    "gkeep = data[data.player_position == 'Goalkeeper']\n",
    "#Create a boxplot\n",
    "data.boxplot('overall_rating', by='player_position', figsize=(12, 8))\n",
    "stats.f_oneway(defn.overall_rating, forwd.overall_rating, midfld.overall_rating, gkeep.overall_rating)"
   ]
  },
  {
   "cell_type": "markdown",
   "metadata": {},
   "source": [
    "The test result suggests the groups don't have the same sample means in this case, since the p-value is significant at a 95% confidence level. A common post hoc-test is Tukey's test, we carry out Tukey's test using the pairwise_tukeyhsd() function in the statsmodels.stats.multicomp library:"
   ]
  },
  {
   "cell_type": "code",
   "execution_count": 533,
   "metadata": {
    "collapsed": false
   },
   "outputs": [
    {
     "data": {
      "text/html": [
       "<table class=\"simpletable\">\n",
       "<caption>Multiple Comparison of Means - Tukey HSD,FWER=0.05</caption>\n",
       "<tr>\n",
       "    <th>group1</th>     <th>group2</th>   <th>meandiff</th>  <th>lower</th>   <th>upper</th>  <th>reject</th>\n",
       "</tr>\n",
       "<tr>\n",
       "   <td>Defender</td>    <td>Forward</td>   <td>1.2678</td>  <td>1.0532</td>  <td>1.4825</td>   <td>True</td> \n",
       "</tr>\n",
       "<tr>\n",
       "   <td>Defender</td>  <td>Goalkeeper</td>  <td>0.2732</td>  <td>-0.0058</td> <td>0.5523</td>   <td>False</td>\n",
       "</tr>\n",
       "<tr>\n",
       "   <td>Defender</td>  <td>Midfielder</td>  <td>0.6837</td>  <td>0.5058</td>  <td>0.8616</td>   <td>True</td> \n",
       "</tr>\n",
       "<tr>\n",
       "    <td>Forward</td>  <td>Goalkeeper</td>  <td>-0.9946</td> <td>-1.2948</td> <td>-0.6944</td>  <td>True</td> \n",
       "</tr>\n",
       "<tr>\n",
       "    <td>Forward</td>  <td>Midfielder</td>  <td>-0.5842</td> <td>-0.7936</td> <td>-0.3747</td>  <td>True</td> \n",
       "</tr>\n",
       "<tr>\n",
       "  <td>Goalkeeper</td> <td>Midfielder</td>  <td>0.4104</td>  <td>0.1354</td>  <td>0.6855</td>   <td>True</td> \n",
       "</tr>\n",
       "</table>"
      ],
      "text/plain": [
       "<class 'statsmodels.iolib.table.SimpleTable'>"
      ]
     },
     "execution_count": 533,
     "metadata": {},
     "output_type": "execute_result"
    },
    {
     "data": {
      "image/png": "[encoded data removed]",
      "text/plain": [
       "<matplotlib.figure.Figure at 0x1131c69e8>"
      ]
     },
     "metadata": {},
     "output_type": "display_data"
    }
   ],
   "source": [
    "# post hoc analysis to identify difference between groups\n",
    "tukey = pairwise_tukeyhsd(endog=data.overall_rating,     # Data\n",
    "                          groups=data.player_position,   # Groups\n",
    "                          alpha=0.05)          # Significance level\n",
    "\n",
    "tukey.plot_simultaneous()    # Plot group confidence intervals\n",
    "plt.vlines(x=49.57,ymin=-0.5,ymax=4.5, color=\"red\")\n",
    "\n",
    "tukey.summary()      "
   ]
  },
  {
   "cell_type": "markdown",
   "metadata": {},
   "source": [
    "The output of the Tukey test shows the average difference, a confidence interval as well as whether you should reject the null hypothesis for each pair of groups at the given significance level. In this case, the test suggests we reject the null hypothesis for 5 pairs, with an exception of the groups Defender-Goalkeeper. The 95% confidence interval plot reinforces the results visually: only Defender and Goalkeeper groups' confidence intervals overlap.\n",
    "\n",
    "We have enough evidence to conclude that there is difference in ratings between the positional groups and we go forward with our suggestion to fit separate models for each position."
   ]
  }
 ],
 "metadata": {
  "kernelspec": {
   "display_name": "Python 3",
   "language": "python",
   "name": "python3"
  },
  "language_info": {
   "codemirror_mode": {
    "name": "ipython",
    "version": 3
   },
   "file_extension": ".py",
   "mimetype": "text/x-python",
   "name": "python",
   "nbconvert_exporter": "python",
   "pygments_lexer": "ipython3",
   "version": "3.6.0"
  }
 },
 "nbformat": 4,
 "nbformat_minor": 2
}
