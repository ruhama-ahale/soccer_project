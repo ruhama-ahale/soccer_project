{
 "cells": [
  {
   "cell_type": "markdown",
   "metadata": {},
   "source": [
    "# Capstone Project - Data Wrangling"
   ]
  },
  {
   "cell_type": "markdown",
   "metadata": {},
   "source": [
    "**PART 1 - Capstone Project for Springboard Intermediate Data Science: Python**\n",
    "\n",
    "Prepared by: Ruhama Ahale (ruhama.ahale@gmail.com)\n",
    "\n",
    "Mentored by: Raghunandan Patthar\n",
    "\n",
    "October 2017"
   ]
  },
  {
   "cell_type": "markdown",
   "metadata": {},
   "source": [
    "## **INTRODUCTION**"
   ]
  },
  {
   "cell_type": "markdown",
   "metadata": {},
   "source": [
    "The client, an European Football Club wants a model to predict the aggregated overall rating of a player at each age of the player. They want to identify the current top players for each playing position and the significant attributes that affect the player rating for each position."
   ]
  },
  {
   "cell_type": "markdown",
   "metadata": {},
   "source": [
    "\n",
    "**DATA**: \n",
    "\n",
    "We will prepare the data for modeling, data is available in seperate tables such as **players** (player id, birthday, weight), **player_attributes** (finishing, diving, balance etc.) and **matches** (player coordinates for a match played). We join these tables to get a dataset with all required player details, attributes and favoured playing position. For each player we then aggregate data for each age of the player such that we have average overall rating, average finishing, etc for each age. This is the final dataset for analysis and model building, to fit a regression model to predict the overall rating we analyze the data to test assumptions and identify patterns"
   ]
  },
  {
   "cell_type": "markdown",
   "metadata": {},
   "source": [
    "## **Importing the packages**"
   ]
  },
  {
   "cell_type": "code",
   "execution_count": 3,
   "metadata": {
    "collapsed": true
   },
   "outputs": [],
   "source": [
    "import os\n",
    "import pandas as pd\n",
    "import sqlite3\n",
    "import warnings\n",
    "import math\n",
    "import numpy as np\n",
    "\n",
    "warnings.filterwarnings(\"ignore\")"
   ]
  },
  {
   "cell_type": "markdown",
   "metadata": {},
   "source": [
    "## **Data Retrieving**"
   ]
  },
  {
   "cell_type": "code",
   "execution_count": 15,
   "metadata": {
    "collapsed": false
   },
   "outputs": [
    {
     "data": {
      "text/plain": [
       "11060"
      ]
     },
     "execution_count": 15,
     "metadata": {},
     "output_type": "execute_result"
    }
   ],
   "source": [
    "#connect to sqlite database and read files\n",
    "countries = \"\"\n",
    "matches = \"\"\n",
    "leagues = \"\"\n",
    "teams = \"\"\n",
    "\n",
    "with sqlite3.connect('./database.sqlite') as con:\n",
    "    countries = pd.read_sql_query(\"SELECT * from Country\", con)\n",
    "    matches = pd.read_sql_query(\"SELECT * from Match\", con)\n",
    "    leagues = pd.read_sql_query(\"SELECT * from League\", con)\n",
    "    teams = pd.read_sql_query(\"SELECT * from Team\", con)\n",
    "    players = pd.read_sql_query(\"SELECT * from Player\", con)\n",
    "\n",
    "len(players)"
   ]
  },
  {
   "cell_type": "markdown",
   "metadata": {},
   "source": [
    "## **Calculate coordinates for each players preferred position**"
   ]
  },
  {
   "cell_type": "code",
   "execution_count": 16,
   "metadata": {
    "collapsed": false
   },
   "outputs": [
    {
     "name": "stdout",
     "output_type": "stream",
     "text": [
      "--------------------------------------------------------------------------------------------\n",
      "Calculations Started\n",
      "--------------------------------------------------------------------------------------------\n",
      "1. Calculating positions for Aaron Appindangoye\n",
      "--------------------------------------------------------------------------------------------\n",
      "2. Calculating positions for Aaron Cresswell\n",
      "--------------------------------------------------------------------------------------------\n",
      "3. Calculating positions for Aaron Doran\n",
      "--------------------------------------------------------------------------------------------\n",
      "4. Calculating positions for Aaron Galindo\n",
      "--------------------------------------------------------------------------------------------\n",
      "5. Calculating positions for Aaron Hughes\n",
      "--------------------------------------------------------------------------------------------\n",
      "Calculations Completed\n",
      "--------------------------------------------------------------------------------------------\n"
     ]
    },
    {
     "data": {
      "text/html": [
       "<div>\n",
       "<table border=\"1\" class=\"dataframe\">\n",
       "  <thead>\n",
       "    <tr style=\"text-align: right;\">\n",
       "      <th></th>\n",
       "      <th>player_api_id</th>\n",
       "      <th>player_name</th>\n",
       "      <th>matches_played</th>\n",
       "      <th>matches_played_in_position</th>\n",
       "      <th>preferred_x_position</th>\n",
       "      <th>preferred_y_position</th>\n",
       "    </tr>\n",
       "  </thead>\n",
       "  <tbody>\n",
       "    <tr>\n",
       "      <th>1</th>\n",
       "      <td>505942</td>\n",
       "      <td>Aaron Appindangoye</td>\n",
       "      <td>8</td>\n",
       "      <td>8</td>\n",
       "      <td>6</td>\n",
       "      <td>3</td>\n",
       "    </tr>\n",
       "    <tr>\n",
       "      <th>2</th>\n",
       "      <td>155782</td>\n",
       "      <td>Aaron Cresswell</td>\n",
       "      <td>75</td>\n",
       "      <td>75</td>\n",
       "      <td>8</td>\n",
       "      <td>3</td>\n",
       "    </tr>\n",
       "    <tr>\n",
       "      <th>3</th>\n",
       "      <td>162549</td>\n",
       "      <td>Aaron Doran</td>\n",
       "      <td>104</td>\n",
       "      <td>78</td>\n",
       "      <td>2</td>\n",
       "      <td>7</td>\n",
       "    </tr>\n",
       "    <tr>\n",
       "      <th>4</th>\n",
       "      <td>30572</td>\n",
       "      <td>Aaron Galindo</td>\n",
       "      <td>10</td>\n",
       "      <td>10</td>\n",
       "      <td>6</td>\n",
       "      <td>3</td>\n",
       "    </tr>\n",
       "    <tr>\n",
       "      <th>5</th>\n",
       "      <td>23780</td>\n",
       "      <td>Aaron Hughes</td>\n",
       "      <td>162</td>\n",
       "      <td>162</td>\n",
       "      <td>4</td>\n",
       "      <td>3</td>\n",
       "    </tr>\n",
       "  </tbody>\n",
       "</table>\n",
       "</div>"
      ],
      "text/plain": [
       "   player_api_id         player_name  matches_played  \\\n",
       "1         505942  Aaron Appindangoye               8   \n",
       "2         155782     Aaron Cresswell              75   \n",
       "3         162549         Aaron Doran             104   \n",
       "4          30572       Aaron Galindo              10   \n",
       "5          23780        Aaron Hughes             162   \n",
       "\n",
       "   matches_played_in_position  preferred_x_position  preferred_y_position  \n",
       "1                           8                     6                     3  \n",
       "2                          75                     8                     3  \n",
       "3                          78                     2                     7  \n",
       "4                          10                     6                     3  \n",
       "5                         162                     4                     3  "
      ]
     },
     "execution_count": 16,
     "metadata": {},
     "output_type": "execute_result"
    }
   ],
   "source": [
    "from scipy import stats\n",
    "\n",
    "columns = ['player_api_id', 'player_name', 'matches_played', 'matches_played_in_position', 'preferred_x_position', 'preferred_y_position']\n",
    "player_positions = pd.DataFrame([[0, 0, 0, 0, 0, 0]], columns=columns)     \n",
    "cursor = con.cursor()\n",
    "\n",
    "print(\"--------------------------------------------------------------------------------------------\")\n",
    "print(\"Calculations Started\")\n",
    "print(\"--------------------------------------------------------------------------------------------\")\n",
    "\n",
    "for index, player in players.iterrows():\n",
    "    player_api_id = player['player_api_id']\n",
    "    player_name = player['player_name']\n",
    "    matches_played = 0\n",
    "    print(str(index + 1) + \". Calculating positions for \" + player_name)\n",
    "    print(\"--------------------------------------------------------------------------------------------\")\n",
    "    x_positions_array = []\n",
    "    y_positions_array = []\n",
    "    for player_number in range(1,12):\n",
    "        # Fetch x coordinates where player was home player\n",
    "        x_positions = cursor.execute(\"\"\"SELECT home_player_X%d FROM Match WHERE home_player_%d = '%d'\"\"\" % (player_number, player_number, player_api_id)).fetchall()\n",
    "        if len(x_positions) > 0:\n",
    "            matches_played += len(x_positions)\n",
    "            x_positions = [x_position[0] for x_position in x_positions]\n",
    "            x_positions_array += x_positions\n",
    "        # Fetch x coordinates where player was away player\n",
    "        x_positions = cursor.execute(\"\"\"SELECT away_player_X%d FROM Match WHERE away_player_%d = '%d'\"\"\" % (player_number, player_number, player_api_id)).fetchall()\n",
    "        if len(x_positions) > 0:\n",
    "            matches_played += len(x_positions)\n",
    "            x_positions = [x_position[0] for x_position in x_positions]\n",
    "            x_positions_array += x_positions\n",
    "        \n",
    "        # Fetch y coordinates where player was home player\n",
    "        y_positions = cursor.execute(\"\"\"SELECT home_player_Y%d FROM Match WHERE home_player_%d = '%d'\"\"\" % (player_number, player_number, player_api_id)).fetchall()\n",
    "        if len(y_positions) > 0:\n",
    "            y_positions = [y_position[0] for y_position in y_positions]\n",
    "            y_positions_array += y_positions\n",
    "        # Fetch y coordinates where player was away player\n",
    "        y_positions = cursor.execute(\"\"\"SELECT away_player_Y%d FROM Match WHERE away_player_%d = '%d'\"\"\" % (player_number, player_number, player_api_id)).fetchall()\n",
    "        if len(y_positions) > 0:\n",
    "            y_positions = [y_position[0] for y_position in y_positions]\n",
    "            y_positions_array += y_positions\n",
    "\n",
    "    # Filter None values\n",
    "    x_positions_array = list(filter(None, x_positions_array))\n",
    "    y_positions_array = list(filter(None, y_positions_array))\n",
    "    \n",
    "    # Use 'mode' to get the preferred x and y coordinates\n",
    "    # from all the coordinates that the player has played in\n",
    "    preferred_x_position = stats.mode(x_positions_array)[0][0]\n",
    "    preferred_y_position = stats.mode(y_positions_array)[0][0]\n",
    "    matches_played_in_position = max(stats.mode(x_positions_array)[1][0], stats.mode(y_positions_array)[1][0])\n",
    "    player_data = [player_api_id, player_name, matches_played, matches_played_in_position, preferred_x_position, preferred_y_position]\n",
    "    player_data_frame = pd.DataFrame([player_data], columns=columns)\n",
    "    player_positions = player_positions.append(player_data_frame, ignore_index=True)\n",
    "\n",
    "print(\"Calculations Completed\")\n",
    "print(\"--------------------------------------------------------------------------------------------\")\n",
    "\n",
    "player_positions = player_positions.drop(player_positions.index[0])\n",
    "player_positions.head()"
   ]
  },
  {
   "cell_type": "markdown",
   "metadata": {},
   "source": [
    "## **Decide player position based on the preffered position coordinates**"
   ]
  },
  {
   "cell_type": "code",
   "execution_count": 20,
   "metadata": {
    "collapsed": false
   },
   "outputs": [
    {
     "data": {
      "text/html": [
       "<div>\n",
       "<table border=\"1\" class=\"dataframe\">\n",
       "  <thead>\n",
       "    <tr style=\"text-align: right;\">\n",
       "      <th></th>\n",
       "      <th>player_api_id</th>\n",
       "      <th>player_name</th>\n",
       "      <th>matches_played</th>\n",
       "      <th>matches_played_in_position</th>\n",
       "      <th>preferred_x_position</th>\n",
       "      <th>preferred_y_position</th>\n",
       "      <th>player_position</th>\n",
       "    </tr>\n",
       "  </thead>\n",
       "  <tbody>\n",
       "    <tr>\n",
       "      <th>1</th>\n",
       "      <td>505942</td>\n",
       "      <td>Aaron Appindangoye</td>\n",
       "      <td>8</td>\n",
       "      <td>8</td>\n",
       "      <td>6</td>\n",
       "      <td>3</td>\n",
       "      <td>Defender</td>\n",
       "    </tr>\n",
       "    <tr>\n",
       "      <th>2</th>\n",
       "      <td>155782</td>\n",
       "      <td>Aaron Cresswell</td>\n",
       "      <td>75</td>\n",
       "      <td>75</td>\n",
       "      <td>8</td>\n",
       "      <td>3</td>\n",
       "      <td>Defender</td>\n",
       "    </tr>\n",
       "    <tr>\n",
       "      <th>3</th>\n",
       "      <td>162549</td>\n",
       "      <td>Aaron Doran</td>\n",
       "      <td>104</td>\n",
       "      <td>78</td>\n",
       "      <td>2</td>\n",
       "      <td>7</td>\n",
       "      <td>Midfielder</td>\n",
       "    </tr>\n",
       "    <tr>\n",
       "      <th>4</th>\n",
       "      <td>30572</td>\n",
       "      <td>Aaron Galindo</td>\n",
       "      <td>10</td>\n",
       "      <td>10</td>\n",
       "      <td>6</td>\n",
       "      <td>3</td>\n",
       "      <td>Defender</td>\n",
       "    </tr>\n",
       "    <tr>\n",
       "      <th>5</th>\n",
       "      <td>23780</td>\n",
       "      <td>Aaron Hughes</td>\n",
       "      <td>162</td>\n",
       "      <td>162</td>\n",
       "      <td>4</td>\n",
       "      <td>3</td>\n",
       "      <td>Defender</td>\n",
       "    </tr>\n",
       "  </tbody>\n",
       "</table>\n",
       "</div>"
      ],
      "text/plain": [
       "   player_api_id         player_name  matches_played  \\\n",
       "1         505942  Aaron Appindangoye               8   \n",
       "2         155782     Aaron Cresswell              75   \n",
       "3         162549         Aaron Doran             104   \n",
       "4          30572       Aaron Galindo              10   \n",
       "5          23780        Aaron Hughes             162   \n",
       "\n",
       "   matches_played_in_position  preferred_x_position  preferred_y_position  \\\n",
       "1                           8                     6                     3   \n",
       "2                          75                     8                     3   \n",
       "3                          78                     2                     7   \n",
       "4                          10                     6                     3   \n",
       "5                         162                     4                     3   \n",
       "\n",
       "  player_position  \n",
       "1        Defender  \n",
       "2        Defender  \n",
       "3      Midfielder  \n",
       "4        Defender  \n",
       "5        Defender  "
      ]
     },
     "execution_count": 20,
     "metadata": {},
     "output_type": "execute_result"
    }
   ],
   "source": [
    "def playerPositionForPrefferedPositions(preferred_x_position, preferred_y_position):\n",
    "    if (preferred_y_position == 1):\n",
    "        return 'Goalkeeper'\n",
    "    if (preferred_y_position > 1 and preferred_y_position <= 3):\n",
    "        return 'Defender'\n",
    "    if (preferred_y_position > 3 and preferred_y_position <= 8):\n",
    "        return 'Midfielder'\n",
    "    if (preferred_y_position > 8):\n",
    "        return 'Forward'\n",
    "    return 'Position Unknown'\n",
    "\n",
    "for index, player in player_positions.iterrows():\n",
    "    preferred_x_position = player['preferred_x_position']\n",
    "    preferred_y_position = player['preferred_y_position']\n",
    "    player_position = playerPositionForPrefferedPositions(preferred_x_position, preferred_y_position)\n",
    "    player_positions.set_value(index, 'player_position', player_position)\n",
    "    \n",
    "player_positions.head()"
   ]
  },
  {
   "cell_type": "markdown",
   "metadata": {},
   "source": [
    "## **Save data to new table**"
   ]
  },
  {
   "cell_type": "code",
   "execution_count": 21,
   "metadata": {
    "collapsed": true
   },
   "outputs": [],
   "source": [
    "connection = sqlite3.connect(\"./database.sqlite\")\n",
    "player_positions.to_sql('Player_Positions', connection, if_exists = 'replace', index = False)"
   ]
  },
  {
   "cell_type": "markdown",
   "metadata": {},
   "source": [
    "## **Get the league id of the latest match that a player played **"
   ]
  },
  {
   "cell_type": "code",
   "execution_count": 22,
   "metadata": {
    "collapsed": true
   },
   "outputs": [],
   "source": [
    "# Set a placeholder league id for the players\n",
    "place_holder_league_id = 77777777777\n",
    "players['league_id'] = place_holder_league_id\n",
    "\n",
    "# Sort the matches by descending order of date\n",
    "sorted_matches = matches.sort(['date'], ascending=[0])"
   ]
  },
  {
   "cell_type": "code",
   "execution_count": 25,
   "metadata": {
    "collapsed": false
   },
   "outputs": [
    {
     "name": "stdout",
     "output_type": "stream",
     "text": [
      "Calculating for match number 1\n",
      "10895 players still misssing league id\n",
      "Calculating for match number 2\n",
      "10895 players still misssing league id\n",
      "Calculating for match number 3\n",
      "10895 players still misssing league id\n",
      "Calculating for match number 4\n",
      "10895 players still misssing league id\n",
      "Calculating for match number 5\n",
      "10895 players still misssing league id\n"
     ]
    },
    {
     "data": {
      "text/html": [
       "<div>\n",
       "<table border=\"1\" class=\"dataframe\">\n",
       "  <thead>\n",
       "    <tr style=\"text-align: right;\">\n",
       "      <th></th>\n",
       "      <th>id</th>\n",
       "      <th>player_api_id</th>\n",
       "      <th>player_name</th>\n",
       "      <th>player_fifa_api_id</th>\n",
       "      <th>birthday</th>\n",
       "      <th>height</th>\n",
       "      <th>weight</th>\n",
       "      <th>league_id</th>\n",
       "    </tr>\n",
       "  </thead>\n",
       "  <tbody>\n",
       "    <tr>\n",
       "      <th>102</th>\n",
       "      <td>103</td>\n",
       "      <td>38617</td>\n",
       "      <td>Adam Federici</td>\n",
       "      <td>164853</td>\n",
       "      <td>1985-01-31 00:00:00</td>\n",
       "      <td>187.96</td>\n",
       "      <td>198</td>\n",
       "      <td>1729</td>\n",
       "    </tr>\n",
       "    <tr>\n",
       "      <th>137</th>\n",
       "      <td>138</td>\n",
       "      <td>181211</td>\n",
       "      <td>Adama Traore</td>\n",
       "      <td>193177</td>\n",
       "      <td>1990-02-03 00:00:00</td>\n",
       "      <td>170.18</td>\n",
       "      <td>161</td>\n",
       "      <td>24558</td>\n",
       "    </tr>\n",
       "    <tr>\n",
       "      <th>245</th>\n",
       "      <td>246</td>\n",
       "      <td>34268</td>\n",
       "      <td>Alain Nef</td>\n",
       "      <td>49939</td>\n",
       "      <td>1982-02-06 00:00:00</td>\n",
       "      <td>190.50</td>\n",
       "      <td>194</td>\n",
       "      <td>24558</td>\n",
       "    </tr>\n",
       "    <tr>\n",
       "      <th>250</th>\n",
       "      <td>251</td>\n",
       "      <td>95220</td>\n",
       "      <td>Alain Wiss</td>\n",
       "      <td>184261</td>\n",
       "      <td>1990-08-21 00:00:00</td>\n",
       "      <td>180.34</td>\n",
       "      <td>148</td>\n",
       "      <td>24558</td>\n",
       "    </tr>\n",
       "    <tr>\n",
       "      <th>273</th>\n",
       "      <td>274</td>\n",
       "      <td>177689</td>\n",
       "      <td>Alban Pnishi</td>\n",
       "      <td>229013</td>\n",
       "      <td>1990-10-20 00:00:00</td>\n",
       "      <td>187.96</td>\n",
       "      <td>179</td>\n",
       "      <td>24558</td>\n",
       "    </tr>\n",
       "  </tbody>\n",
       "</table>\n",
       "</div>"
      ],
      "text/plain": [
       "      id  player_api_id    player_name  player_fifa_api_id  \\\n",
       "102  103          38617  Adam Federici              164853   \n",
       "137  138         181211   Adama Traore              193177   \n",
       "245  246          34268      Alain Nef               49939   \n",
       "250  251          95220     Alain Wiss              184261   \n",
       "273  274         177689   Alban Pnishi              229013   \n",
       "\n",
       "                birthday  height  weight  league_id  \n",
       "102  1985-01-31 00:00:00  187.96     198       1729  \n",
       "137  1990-02-03 00:00:00  170.18     161      24558  \n",
       "245  1982-02-06 00:00:00  190.50     194      24558  \n",
       "250  1990-08-21 00:00:00  180.34     148      24558  \n",
       "273  1990-10-20 00:00:00  187.96     179      24558  "
      ]
     },
     "execution_count": 25,
     "metadata": {},
     "output_type": "execute_result"
    }
   ],
   "source": [
    "# Get the list of players that player in a particular match\n",
    "def playersFromMatch(match):\n",
    "    match_players = []\n",
    "    for player_number in range(1,12):\n",
    "        home_player_key = 'home_player_%d' % player_number\n",
    "        match_player = match[home_player_key]\n",
    "        if not math.isnan(match_player):\n",
    "            match_players.insert(0, str(int(match_player)))\n",
    "        away_player_key = 'away_player_%d' % player_number\n",
    "        match_player = match[away_player_key]\n",
    "        if not math.isnan(match_player):\n",
    "            match_players.insert(0, str(int(match_player)))\n",
    "    return match_players\n",
    "\n",
    "match_count = 0\n",
    "# Iterate the matches in descending order and get the league id \n",
    "# for the latest match played by a player\n",
    "for index, match in sorted_matches.iterrows():\n",
    "    match_count = match_count + 1\n",
    "    players_in_match = playersFromMatch(match)\n",
    "    for index, player in players.iterrows():\n",
    "        # If player played in a match, use the league id for that match\n",
    "        if str(player['player_api_id']) in players_in_match:\n",
    "            # Set teh player league id only if the player does not already have a league id\n",
    "            if player['league_id'] == place_holder_league_id:\n",
    "                players.set_value(index, 'league_id', match['league_id'])\n",
    "    print(\"Calculating for match number %d\" % match_count)\n",
    "    players_without_league = players.loc[players['league_id'] == place_holder_league_id]\n",
    "    print(\"%d players still misssing league id\" % len(players_without_league))\n",
    "    # Stop when all players have a league id\n",
    "    if(len(players_without_league) <= 0):\n",
    "        break\n",
    "        \n",
    "# These are the players which now have league id\n",
    "players_with_league = players.loc[players['league_id'] != place_holder_league_id]\n",
    "players_with_league.head()"
   ]
  },
  {
   "cell_type": "markdown",
   "metadata": {},
   "source": [
    "## **Get the players current league and league's country **"
   ]
  },
  {
   "cell_type": "code",
   "execution_count": 26,
   "metadata": {
    "collapsed": false
   },
   "outputs": [
    {
     "data": {
      "text/html": [
       "<div>\n",
       "<table border=\"1\" class=\"dataframe\">\n",
       "  <thead>\n",
       "    <tr style=\"text-align: right;\">\n",
       "      <th></th>\n",
       "      <th>id</th>\n",
       "      <th>player_api_id</th>\n",
       "      <th>player_name</th>\n",
       "      <th>player_fifa_api_id</th>\n",
       "      <th>birthday</th>\n",
       "      <th>height</th>\n",
       "      <th>weight</th>\n",
       "      <th>league_id</th>\n",
       "      <th>league_name</th>\n",
       "      <th>country_name</th>\n",
       "    </tr>\n",
       "  </thead>\n",
       "  <tbody>\n",
       "    <tr>\n",
       "      <th>102</th>\n",
       "      <td>103</td>\n",
       "      <td>38617</td>\n",
       "      <td>Adam Federici</td>\n",
       "      <td>164853</td>\n",
       "      <td>1985-01-31 00:00:00</td>\n",
       "      <td>187.96</td>\n",
       "      <td>198</td>\n",
       "      <td>1729</td>\n",
       "      <td>England Premier League</td>\n",
       "      <td>England</td>\n",
       "    </tr>\n",
       "    <tr>\n",
       "      <th>137</th>\n",
       "      <td>138</td>\n",
       "      <td>181211</td>\n",
       "      <td>Adama Traore</td>\n",
       "      <td>193177</td>\n",
       "      <td>1990-02-03 00:00:00</td>\n",
       "      <td>170.18</td>\n",
       "      <td>161</td>\n",
       "      <td>24558</td>\n",
       "      <td>Switzerland Super League</td>\n",
       "      <td>Switzerland</td>\n",
       "    </tr>\n",
       "    <tr>\n",
       "      <th>245</th>\n",
       "      <td>246</td>\n",
       "      <td>34268</td>\n",
       "      <td>Alain Nef</td>\n",
       "      <td>49939</td>\n",
       "      <td>1982-02-06 00:00:00</td>\n",
       "      <td>190.50</td>\n",
       "      <td>194</td>\n",
       "      <td>24558</td>\n",
       "      <td>Switzerland Super League</td>\n",
       "      <td>Switzerland</td>\n",
       "    </tr>\n",
       "    <tr>\n",
       "      <th>250</th>\n",
       "      <td>251</td>\n",
       "      <td>95220</td>\n",
       "      <td>Alain Wiss</td>\n",
       "      <td>184261</td>\n",
       "      <td>1990-08-21 00:00:00</td>\n",
       "      <td>180.34</td>\n",
       "      <td>148</td>\n",
       "      <td>24558</td>\n",
       "      <td>Switzerland Super League</td>\n",
       "      <td>Switzerland</td>\n",
       "    </tr>\n",
       "    <tr>\n",
       "      <th>273</th>\n",
       "      <td>274</td>\n",
       "      <td>177689</td>\n",
       "      <td>Alban Pnishi</td>\n",
       "      <td>229013</td>\n",
       "      <td>1990-10-20 00:00:00</td>\n",
       "      <td>187.96</td>\n",
       "      <td>179</td>\n",
       "      <td>24558</td>\n",
       "      <td>Switzerland Super League</td>\n",
       "      <td>Switzerland</td>\n",
       "    </tr>\n",
       "  </tbody>\n",
       "</table>\n",
       "</div>"
      ],
      "text/plain": [
       "      id  player_api_id    player_name  player_fifa_api_id  \\\n",
       "102  103          38617  Adam Federici              164853   \n",
       "137  138         181211   Adama Traore              193177   \n",
       "245  246          34268      Alain Nef               49939   \n",
       "250  251          95220     Alain Wiss              184261   \n",
       "273  274         177689   Alban Pnishi              229013   \n",
       "\n",
       "                birthday  height  weight  league_id               league_name  \\\n",
       "102  1985-01-31 00:00:00  187.96     198       1729    England Premier League   \n",
       "137  1990-02-03 00:00:00  170.18     161      24558  Switzerland Super League   \n",
       "245  1982-02-06 00:00:00  190.50     194      24558  Switzerland Super League   \n",
       "250  1990-08-21 00:00:00  180.34     148      24558  Switzerland Super League   \n",
       "273  1990-10-20 00:00:00  187.96     179      24558  Switzerland Super League   \n",
       "\n",
       "    country_name  \n",
       "102      England  \n",
       "137  Switzerland  \n",
       "245  Switzerland  \n",
       "250  Switzerland  \n",
       "273  Switzerland  "
      ]
     },
     "execution_count": 26,
     "metadata": {},
     "output_type": "execute_result"
    }
   ],
   "source": [
    "# Set placeholder country and league names\n",
    "players_with_league['league_name'] = \"league name\"\n",
    "players_with_league['country_name'] = \"country name\"\n",
    "\n",
    "for index, player in players_with_league.iterrows():\n",
    "    player_league_id = player['league_id']\n",
    "    # Get country name for player's league\n",
    "    player_country = countries.loc[countries['id'] == player_league_id]['name'].iloc[0]\n",
    "    players_with_league.set_value(index, 'country_name', player_country)\n",
    "    # Get name for player's league\n",
    "    player_league = leagues.loc[leagues['id'] == player_league_id]['name'].iloc[0]\n",
    "    players_with_league.set_value(index, 'league_name', player_league)\n",
    "    \n",
    "players_with_league.head()"
   ]
  },
  {
   "cell_type": "markdown",
   "metadata": {},
   "source": [
    "## **Save data to new table**"
   ]
  },
  {
   "cell_type": "code",
   "execution_count": 27,
   "metadata": {
    "collapsed": true
   },
   "outputs": [],
   "source": [
    "connection = sqlite3.connect(\"./database.sqlite\")\n",
    "players_with_league.to_sql('Players_with_League_Country', connection, if_exists = 'replace', index = False)"
   ]
  }
 ],
 "metadata": {
  "kernelspec": {
   "display_name": "Python 3",
   "language": "python",
   "name": "python3"
  },
  "language_info": {
   "codemirror_mode": {
    "name": "ipython",
    "version": 3
   },
   "file_extension": ".py",
   "mimetype": "text/x-python",
   "name": "python",
   "nbconvert_exporter": "python",
   "pygments_lexer": "ipython3",
   "version": "3.6.0"
  }
 },
 "nbformat": 4,
 "nbformat_minor": 2
}
