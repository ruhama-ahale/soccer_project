{
 "cells": [
  {
   "cell_type": "markdown",
   "metadata": {},
   "source": [
    "**Predicting the best players for playing positions**"
   ]
  },
  {
   "cell_type": "markdown",
   "metadata": {},
   "source": [
    "**The Problem:** The client, a famous European Football Club wants to have a list of players to consider during transfer season. In case they need to make a transfer, they will bring in a replacement. A major part of player selection depends upon which position the player will play at. Depending on the need of the team, the managers will consider the up and coming players who will suit their need. The client requires us to build an algorithm that will predict the best 20 players for each specific position"
   ]
  },
  {
   "cell_type": "markdown",
   "metadata": {},
   "source": [
    "**The Solution:** \n",
    "\n",
    "**Data Source:** The data we will use for this problem is sourced from several websites such as \n",
    "\n",
    "http://football-data.mx-api.enetscores.com/ : scores, lineup, team formation and events\n",
    "\n",
    "http://www.football-data.co.uk/ : betting odds\n",
    "\n",
    "http://sofifa.com/ : players and teams attributes from EA Sports FIFA games. FIFA series and all FIFA assets property of EA Sports;\n",
    "by Hugomathien and made available on Kaggle at https://www.kaggle.com/hugomathien/soccer\n",
    "\n",
    "**Cleaning and Transforming:** \n",
    "1. From the available database, we use the tables 'players' and 'player_attributes' and identify each players preferred position of playing using their X, Y playing coordinates. We create a table of player_positions to make merging of datasets easier\n",
    "2. After merging all the available datasets, we keep only the features we need to predict the performance for a player. We use the feature 'overall_rating' given by FIFA and we calculate the age of each player for the same rating date. This is to understand whether age of the player has impact on player performance. Alternatively, we can also collect rating for each player on the latest date available for the player and use that to correlate age and overall_rating\n",
    "3. We check this data for missing and incorrect values and clean it\n",
    "\n",
    "**Analysing:**\n",
    "1. Test normality of the data\n",
    "2. Test the correlation and autocorrelation in data\n",
    "3. Test linear relationship between overall rating and attributes\n",
    "\n",
    "**Modeling:**\n",
    "1. Modify the data so that each player has aggregated rating, attributes for each age of the player. Remove the last age row of each player as testing data.\n",
    "2. With the remaining data as training dataset, use these aggregated attributes to predict the aggregated overall rating of the player.\n",
    "3. Transform the data if necessary such that assumptions for different models are fulfilled. Fit regression models such as linear or polynomial regression, ridge regression, SVR and find the best fitting model with best parameters.\n",
    "4. Use the best model to find the predicted scores from the test dataset.\n",
    "5. Use these predicted scores to identify top 10 players in each position"
   ]
  },
  {
   "cell_type": "markdown",
   "metadata": {},
   "source": [
    "**INTRODUCTION**"
   ]
  },
  {
   "cell_type": "markdown",
   "metadata": {},
   "source": [
    "Our objective is to identify top 10 players playing at each of the four positions - Forward, Defender, Midfielder and Goalkeeper from the dataset of players playing for different clubs in European Football since 2008 upto 2016. From the player attributes data we get a set of attributes such as finishing, balance, diving etc. for the players. There is also an overall rating field which is taken from the FIFA video game. From the players table we get the players age, weight and height. We assume that there is a relationship between the overall rating of a player and the player attributes, the player age, height and weight and use these attributes to build a model to predict the overall rating of a player. Using this model, given the attributes for a player we can project overall rating for the player at a future age.\n",
    "\n",
    "We will prepare the data for modeling, data is available in seperate tables such as players (player id, birthday, weight), player_attributes (finishing, diving, balance etc.) and matches (player coordinates for a match played). We join these tables to get a dataset with all required player details, attributes and favoured playing position. For each player we then aggregate data for each age of the player such that we have average overall rating, average finishing, etc for each age. This is the final dataset for analysis and model building, to fit a regression model to predict the overall rating we analyze the data to test assumptions and identify patterns\n",
    "\n",
    "Next, for each position dataset, we seperate the data into training and test data and transform the data as required. We then find the best fitting model for this transformed data to predict the overall ratings for the next ages of the players. Using these predicted ratings, we find the top 10 players for each position with the highest rating and analyze their strengths. This will be the data reported to the clubs to select a suitable player for the upcoming transfer season. As per the requirement, we can filter the players by age, country, team or other performance factors to find the best potential players the club will be intersted in."
   ]
  },
  {
   "cell_type": "markdown",
   "metadata": {},
   "source": [
    "**1. Importing the packages**"
   ]
  },
  {
   "cell_type": "code",
   "execution_count": 34,
   "metadata": {
    "collapsed": false
   },
   "outputs": [],
   "source": [
    "#import packages\n",
    "import os\n",
    "import math\n",
    "import pandas as pd\n",
    "import numpy as np\n",
    "import sqlite3\n",
    "import warnings\n",
    "warnings.filterwarnings(\"ignore\")\n",
    "import datetime as dt\n",
    "import scipy\n",
    "import scipy.stats\n",
    "import matplotlib.pyplot as plt\n",
    "%matplotlib inline\n",
    "import sklearn\n",
    "\n",
    "\n",
    "# Import regression modules\n",
    "# ols - stands for Ordinary least squares, we'll use this\n",
    "import statsmodels.api as sm\n",
    "from statsmodels.formula.api import ols\n",
    "from sklearn.linear_model import LinearRegression\n",
    "from sklearn.metrics import mean_squared_error\n",
    "from math import sqrt\n",
    "lm = LinearRegression()\n",
    "\n",
    "#import polynomial module\n",
    "from sklearn.preprocessing import PolynomialFeatures\n",
    "\n",
    "\n",
    "#import modules to run ridge\n",
    "from sklearn.linear_model import Ridge\n",
    "from sklearn.linear_model import RidgeCV\n",
    "from sklearn.preprocessing import scale\n",
    "\n",
    "#import svr modules\n",
    "from sklearn.svm import SVR\n",
    "from sklearn.model_selection import cross_val_score\n",
    "from sklearn.model_selection import KFold\n",
    "from sklearn.metrics import accuracy_score\n",
    "from sklearn import model_selection\n",
    "\n",
    "#import modules for PCA\n",
    "from sklearn.decomposition import PCA\n",
    "\n",
    "\n",
    "#import graph plotly modules\n",
    "import plotly.plotly as py\n",
    "from plotly.graph_objs import *\n",
    "import plotly.tools as tls\n",
    "\n",
    "from sklearn import preprocessing\n",
    "from pandas.tools.plotting import scatter_matrix\n",
    "import seaborn as sns\n",
    "sns.set(style = \"whitegrid\", color_codes = True)\n",
    "np.random.seed(sum(map(ord, \"palettes\")))\n",
    "\n",
    "# special matplotlib argument for improved plots\n",
    "from matplotlib import rcParams\n",
    "sns.set_context(\"poster\")\n",
    "\n",
    "#import gridsearch and train test split\n",
    "from sklearn.model_selection import GridSearchCV\n",
    "from sklearn.model_selection import train_test_split"
   ]
  },
  {
   "cell_type": "code",
   "execution_count": 2,
   "metadata": {
    "collapsed": false
   },
   "outputs": [
    {
     "data": {
      "text/html": [
       "<style>body {\n",
       "    margin: 0;\n",
       "    font-family: Helvetica;\n",
       "}\n",
       "table.dataframe {\n",
       "    border-collapse: collapse;\n",
       "    border: none;\n",
       "}\n",
       "table.dataframe tr {\n",
       "    border: none;\n",
       "}\n",
       "table.dataframe td, table.dataframe th {\n",
       "    margin: 0;\n",
       "    border: 1px solid white;\n",
       "    padding-left: 0.25em;\n",
       "    padding-right: 0.25em;\n",
       "}\n",
       "table.dataframe th:not(:empty) {\n",
       "    background-color: #fec;\n",
       "    text-align: left;\n",
       "    font-weight: normal;\n",
       "}\n",
       "table.dataframe tr:nth-child(2) th:empty {\n",
       "    border-left: none;\n",
       "    border-right: 1px dashed #888;\n",
       "}\n",
       "table.dataframe td {\n",
       "    border: 2px solid #ccf;\n",
       "    background-color: #f4f4ff;\n",
       "}\n",
       "h3 {\n",
       "    color: white;\n",
       "    background-color: black;\n",
       "    padding: 0.5em;\n",
       "}\n",
       "</style>"
      ],
      "text/plain": [
       "<IPython.core.display.HTML object>"
      ]
     },
     "execution_count": 2,
     "metadata": {},
     "output_type": "execute_result"
    }
   ],
   "source": [
    "#formatting for table displays\n",
    "from IPython.core.display import HTML\n",
    "css = open('style-table.css').read() + open('style-notebook.css').read()\n",
    "HTML('<style>{}</style>'.format(css))"
   ]
  },
  {
   "cell_type": "markdown",
   "metadata": {},
   "source": [
    "**2. Data Retrieving and Exploration**"
   ]
  },
  {
   "cell_type": "code",
   "execution_count": 3,
   "metadata": {
    "collapsed": false
   },
   "outputs": [
    {
     "data": {
      "text/plain": [
       "11060"
      ]
     },
     "execution_count": 3,
     "metadata": {},
     "output_type": "execute_result"
    }
   ],
   "source": [
    "countries = \"\"\n",
    "matches = \"\"\n",
    "leagues = \"\"\n",
    "teams = \"\"\n",
    "\n",
    "with sqlite3.connect('/Users/ruhama.ahale/Documents/git_repository/capstone-project big files/database_with_player_positions2.sqlite') as con:\n",
    "    countries = pd.read_sql_query(\"SELECT * from Country\", con)\n",
    "    matches = pd.read_sql_query(\"SELECT * from Match\", con)\n",
    "    leagues = pd.read_sql_query(\"SELECT * from League\", con)\n",
    "    teams = pd.read_sql_query(\"SELECT * from Team\", con)\n",
    "    players = pd.read_sql_query(\"SELECT * from Player\", con)\n",
    "    player_attributes = pd.read_sql_query(\"SELECT * from Player_Attributes\", con)\n",
    "    player_positions = pd.read_sql_query(\"SELECT * from Player_Positions\", con)\n",
    "\n",
    "len(player_positions)"
   ]
  },
  {
   "cell_type": "code",
   "execution_count": 4,
   "metadata": {
    "collapsed": false
   },
   "outputs": [],
   "source": [
    "def lessPlayerPositionForPrefferedPositions(preferred_x_position, preferred_y_position):\n",
    "    if (preferred_y_position == 1):\n",
    "        return 'Goalkeeper'\n",
    "    if (preferred_y_position > 1 and preferred_y_position <= 3):\n",
    "        return 'Defender'\n",
    "    if (preferred_y_position > 3 and preferred_y_position <= 8):\n",
    "        return 'Midfielder'\n",
    "    if (preferred_y_position > 8):\n",
    "        return 'Forward'\n",
    "    return 'Position Unknown'\n",
    "\n",
    "for index, player in player_positions.iterrows():\n",
    "    preferred_x_position = player['preferred_x_position']\n",
    "    preferred_y_position = player['preferred_y_position']\n",
    "    player_position = lessPlayerPositionForPrefferedPositions(preferred_x_position, preferred_y_position)\n",
    "    player_positions.set_value(index, 'player_position', player_position)\n",
    "    \n",
    "#player_positions.head()"
   ]
  },
  {
   "cell_type": "markdown",
   "metadata": {},
   "source": [
    "Step 2: Joining selected table to create final data table"
   ]
  },
  {
   "cell_type": "markdown",
   "metadata": {},
   "source": [
    "Merge all the necessary files to get the final data file"
   ]
  },
  {
   "cell_type": "code",
   "execution_count": 5,
   "metadata": {
    "collapsed": false
   },
   "outputs": [],
   "source": [
    "#merge all player files to get the player details required\n",
    "player_positions = player_positions[['player_api_id', 'player_name', 'player_position']]\n",
    "players_final_df = player_attributes\n",
    "players_final_df = player_positions.merge(players_final_df,on='player_api_id')\n",
    "player = players[['player_api_id', 'birthday', 'height', 'weight']]\n",
    "players_final_df = players_final_df.merge(player,on='player_api_id')\n",
    "players_final_df['birthday_date'] = pd.to_datetime(players_final_df['birthday'])\n",
    "players_final_df['date'] = pd.to_datetime(players_final_df['date'])\n",
    "players_final_df['age'] = players_final_df['date'] - players_final_df['birthday_date']\n",
    "players_final_df['age'] = players_final_df['age'].astype(dt.timedelta).map(lambda x: np.nan if pd.isnull(x) else x.days)\n",
    "players_final_df['age'] = round(players_final_df['age']/365,0)\n",
    "players_final_df = players_final_df[players_final_df.date >= '2009-07-31']#taking data only from 09-10 season onwards as data prior to that is not consistent\n"
   ]
  },
  {
   "cell_type": "code",
   "execution_count": 6,
   "metadata": {
    "collapsed": false
   },
   "outputs": [
    {
     "data": {
      "text/plain": [
       "\"leagues_countries = leagues.merge(countries,on='id')\\nleagues_countries= leagues_countries.rename(columns={'name_x': 'league', 'name_y': 'country'})\\nleagues_countries = leagues_countries[['country_id', 'league', 'country']]\\nleagues_countries.head()\""
      ]
     },
     "execution_count": 6,
     "metadata": {},
     "output_type": "execute_result"
    }
   ],
   "source": [
    "'''leagues_countries = leagues.merge(countries,on='id')\n",
    "leagues_countries= leagues_countries.rename(columns={'name_x': 'league', 'name_y': 'country'})\n",
    "leagues_countries = leagues_countries[['country_id', 'league', 'country']]\n",
    "leagues_countries.head()'''"
   ]
  },
  {
   "cell_type": "markdown",
   "metadata": {},
   "source": [
    "Rearrange columns as required"
   ]
  },
  {
   "cell_type": "code",
   "execution_count": 7,
   "metadata": {
    "collapsed": false
   },
   "outputs": [],
   "source": [
    "#players_final_df.head()"
   ]
  },
  {
   "cell_type": "code",
   "execution_count": 6,
   "metadata": {
    "collapsed": false
   },
   "outputs": [],
   "source": [
    "players_final_df = players_final_df[['player_api_id',  'player_name',  'player_position',   'date',  'birthday_date', 'overall_rating',  'age', 'height',  'weight','finishing',  'heading_accuracy',  'short_passing',  'volleys',  'dribbling',  'curve',  'free_kick_accuracy',  'long_passing',  'ball_control',  'acceleration',  'sprint_speed',  'agility',  'reactions',  'balance',  'shot_power',  'jumping',  'stamina',  'strength',  'long_shots',  'aggression',  'interceptions',  'positioning',  'vision',  'penalties',  'marking',  'standing_tackle',  'sliding_tackle',  'gk_diving',  'gk_handling',  'gk_kicking',  'gk_positioning',  'gk_reflexes']]\n"
   ]
  },
  {
   "cell_type": "code",
   "execution_count": 7,
   "metadata": {
    "collapsed": false
   },
   "outputs": [
    {
     "data": {
      "text/plain": [
       "10867"
      ]
     },
     "execution_count": 7,
     "metadata": {},
     "output_type": "execute_result"
    }
   ],
   "source": [
    "#number of unique player in our new database\n",
    "players_final_df.player_api_id.nunique()"
   ]
  },
  {
   "cell_type": "markdown",
   "metadata": {},
   "source": [
    "**Preparing the Data for Model Prediction and Data Analysis**"
   ]
  },
  {
   "cell_type": "code",
   "execution_count": 8,
   "metadata": {
    "collapsed": false
   },
   "outputs": [],
   "source": [
    "#Check proportion of missing values\n",
    "players_final_df[players_final_df.columns[:]].isnull().sum()\n",
    "players_final_df.isnull().any(axis=1).sum()\n",
    "prop_missing = round((players_final_df[players_final_df.columns[:]].isnull().sum()/players_final_df[players_final_df.columns[:]].count())*100,4)\n",
    "#prop_missing"
   ]
  },
  {
   "cell_type": "markdown",
   "metadata": {},
   "source": [
    "Since the proportion of missing values is very small, we ignore the missing values and delete them from the dataset."
   ]
  },
  {
   "cell_type": "code",
   "execution_count": 9,
   "metadata": {
    "collapsed": false
   },
   "outputs": [
    {
     "data": {
      "text/plain": [
       "0"
      ]
     },
     "execution_count": 9,
     "metadata": {},
     "output_type": "execute_result"
    }
   ],
   "source": [
    "players_final_df = players_final_df.dropna(axis=0, how='any')\n",
    "players_final_df.isnull().any(axis=1).sum()"
   ]
  },
  {
   "cell_type": "code",
   "execution_count": 10,
   "metadata": {
    "collapsed": false
   },
   "outputs": [],
   "source": [
    "#players_final_df.sort_values(['date'], ascending=[False]).head()"
   ]
  },
  {
   "cell_type": "code",
   "execution_count": 11,
   "metadata": {
    "collapsed": false
   },
   "outputs": [
    {
     "data": {
      "text/plain": [
       "player_position\n",
       "Defender      3536\n",
       "Forward       2084\n",
       "Goalkeeper     919\n",
       "Midfielder    4043\n",
       "Name: player_api_id, dtype: int64"
      ]
     },
     "execution_count": 11,
     "metadata": {},
     "output_type": "execute_result"
    }
   ],
   "source": [
    "#count unique players in each position\n",
    "players_final_df.groupby(players_final_df.player_position).player_api_id.nunique()"
   ]
  },
  {
   "cell_type": "markdown",
   "metadata": {},
   "source": [
    "** Data Exploration **"
   ]
  },
  {
   "cell_type": "code",
   "execution_count": 12,
   "metadata": {
    "collapsed": true
   },
   "outputs": [],
   "source": [
    "#Create a subset of data with only features to show coorrelation between features\n",
    "players_features_df = players_final_df[['overall_rating',  'age', 'height',  'weight', 'finishing',  'heading_accuracy',  'short_passing',  'volleys',  'dribbling',  'curve',  'free_kick_accuracy',  'long_passing',  'ball_control',  'acceleration',  'sprint_speed',  'agility',  'reactions',  'balance',  'shot_power',  'jumping',  'stamina',  'strength',  'long_shots',  'aggression',  'interceptions',  'positioning',  'vision',  'penalties',  'marking',  'standing_tackle',  'sliding_tackle',  'gk_diving',  'gk_handling',  'gk_kicking',  'gk_positioning',  'gk_reflexes']]\n"
   ]
  },
  {
   "cell_type": "code",
   "execution_count": 15,
   "metadata": {
    "collapsed": false
   },
   "outputs": [
    {
     "data": {
      "text/plain": [
       "<seaborn.axisgrid.FacetGrid at 0x11b712898>"
      ]
     },
     "execution_count": 15,
     "metadata": {},
     "output_type": "execute_result"
    },
    {
     "data": {
      "image/png": "[encoded data removed]",
      "text/plain": [
       "<matplotlib.figure.Figure at 0x11b7120b8>"
      ]
     },
     "metadata": {},
     "output_type": "display_data"
    }
   ],
   "source": [
    "# peaks for survived/not survived passengers by their age\n",
    "facet = sns.FacetGrid(players_final_df, hue=\"player_position\",aspect=4)\n",
    "facet.map(sns.kdeplot,'age',shade= True)\n",
    "facet.set(xlim=(0, players_final_df['age'].max()))\n",
    "facet.add_legend()\n"
   ]
  },
  {
   "cell_type": "code",
   "execution_count": 16,
   "metadata": {
    "collapsed": false
   },
   "outputs": [
    {
     "data": {
      "text/html": [
       "<div>\n",
       "<table border=\"1\" class=\"dataframe\">\n",
       "  <thead>\n",
       "    <tr style=\"text-align: right;\">\n",
       "      <th></th>\n",
       "      <th>overall_rating</th>\n",
       "      <th>age</th>\n",
       "      <th>height</th>\n",
       "      <th>weight</th>\n",
       "      <th>finishing</th>\n",
       "      <th>heading_accuracy</th>\n",
       "      <th>short_passing</th>\n",
       "      <th>volleys</th>\n",
       "      <th>dribbling</th>\n",
       "      <th>curve</th>\n",
       "      <th>...</th>\n",
       "      <th>vision</th>\n",
       "      <th>penalties</th>\n",
       "      <th>marking</th>\n",
       "      <th>standing_tackle</th>\n",
       "      <th>sliding_tackle</th>\n",
       "      <th>gk_diving</th>\n",
       "      <th>gk_handling</th>\n",
       "      <th>gk_kicking</th>\n",
       "      <th>gk_positioning</th>\n",
       "      <th>gk_reflexes</th>\n",
       "    </tr>\n",
       "  </thead>\n",
       "  <tbody>\n",
       "    <tr>\n",
       "      <th>count</th>\n",
       "      <td>158176.000000</td>\n",
       "      <td>158176.000000</td>\n",
       "      <td>158176.000000</td>\n",
       "      <td>158176.000000</td>\n",
       "      <td>158176.000000</td>\n",
       "      <td>158176.000000</td>\n",
       "      <td>158176.000000</td>\n",
       "      <td>158176.000000</td>\n",
       "      <td>158176.000000</td>\n",
       "      <td>158176.000000</td>\n",
       "      <td>...</td>\n",
       "      <td>158176.000000</td>\n",
       "      <td>158176.000000</td>\n",
       "      <td>158176.000000</td>\n",
       "      <td>158176.000000</td>\n",
       "      <td>158176.000000</td>\n",
       "      <td>158176.000000</td>\n",
       "      <td>158176.000000</td>\n",
       "      <td>158176.000000</td>\n",
       "      <td>158176.000000</td>\n",
       "      <td>158176.000000</td>\n",
       "    </tr>\n",
       "    <tr>\n",
       "      <th>mean</th>\n",
       "      <td>69.059813</td>\n",
       "      <td>26.152590</td>\n",
       "      <td>181.855608</td>\n",
       "      <td>168.659569</td>\n",
       "      <td>50.217650</td>\n",
       "      <td>57.482279</td>\n",
       "      <td>63.059263</td>\n",
       "      <td>49.648948</td>\n",
       "      <td>59.865378</td>\n",
       "      <td>53.395875</td>\n",
       "      <td>...</td>\n",
       "      <td>57.653715</td>\n",
       "      <td>54.699879</td>\n",
       "      <td>46.858613</td>\n",
       "      <td>50.647867</td>\n",
       "      <td>48.131809</td>\n",
       "      <td>14.771666</td>\n",
       "      <td>15.194423</td>\n",
       "      <td>16.923895</td>\n",
       "      <td>15.269232</td>\n",
       "      <td>15.568816</td>\n",
       "    </tr>\n",
       "    <tr>\n",
       "      <th>std</th>\n",
       "      <td>6.621412</td>\n",
       "      <td>4.457463</td>\n",
       "      <td>6.407400</td>\n",
       "      <td>15.105216</td>\n",
       "      <td>18.987869</td>\n",
       "      <td>16.406879</td>\n",
       "      <td>13.896643</td>\n",
       "      <td>18.106483</td>\n",
       "      <td>17.632349</td>\n",
       "      <td>18.184720</td>\n",
       "      <td>...</td>\n",
       "      <td>15.230056</td>\n",
       "      <td>15.674789</td>\n",
       "      <td>21.308352</td>\n",
       "      <td>21.586825</td>\n",
       "      <td>21.532540</td>\n",
       "      <td>16.783005</td>\n",
       "      <td>15.798130</td>\n",
       "      <td>18.208296</td>\n",
       "      <td>16.066339</td>\n",
       "      <td>17.177080</td>\n",
       "    </tr>\n",
       "    <tr>\n",
       "      <th>min</th>\n",
       "      <td>37.000000</td>\n",
       "      <td>16.000000</td>\n",
       "      <td>157.480000</td>\n",
       "      <td>117.000000</td>\n",
       "      <td>1.000000</td>\n",
       "      <td>1.000000</td>\n",
       "      <td>3.000000</td>\n",
       "      <td>1.000000</td>\n",
       "      <td>1.000000</td>\n",
       "      <td>2.000000</td>\n",
       "      <td>...</td>\n",
       "      <td>1.000000</td>\n",
       "      <td>2.000000</td>\n",
       "      <td>1.000000</td>\n",
       "      <td>1.000000</td>\n",
       "      <td>2.000000</td>\n",
       "      <td>1.000000</td>\n",
       "      <td>1.000000</td>\n",
       "      <td>1.000000</td>\n",
       "      <td>1.000000</td>\n",
       "      <td>1.000000</td>\n",
       "    </tr>\n",
       "    <tr>\n",
       "      <th>25%</th>\n",
       "      <td>65.000000</td>\n",
       "      <td>23.000000</td>\n",
       "      <td>177.800000</td>\n",
       "      <td>159.000000</td>\n",
       "      <td>35.000000</td>\n",
       "      <td>50.000000</td>\n",
       "      <td>58.000000</td>\n",
       "      <td>36.000000</td>\n",
       "      <td>53.000000</td>\n",
       "      <td>41.000000</td>\n",
       "      <td>...</td>\n",
       "      <td>49.000000</td>\n",
       "      <td>45.000000</td>\n",
       "      <td>25.000000</td>\n",
       "      <td>29.000000</td>\n",
       "      <td>25.000000</td>\n",
       "      <td>8.000000</td>\n",
       "      <td>8.000000</td>\n",
       "      <td>8.000000</td>\n",
       "      <td>8.000000</td>\n",
       "      <td>8.000000</td>\n",
       "    </tr>\n",
       "    <tr>\n",
       "      <th>50%</th>\n",
       "      <td>69.000000</td>\n",
       "      <td>26.000000</td>\n",
       "      <td>182.880000</td>\n",
       "      <td>168.000000</td>\n",
       "      <td>54.000000</td>\n",
       "      <td>60.000000</td>\n",
       "      <td>66.000000</td>\n",
       "      <td>53.000000</td>\n",
       "      <td>64.000000</td>\n",
       "      <td>56.000000</td>\n",
       "      <td>...</td>\n",
       "      <td>60.000000</td>\n",
       "      <td>56.000000</td>\n",
       "      <td>51.000000</td>\n",
       "      <td>57.000000</td>\n",
       "      <td>53.000000</td>\n",
       "      <td>10.000000</td>\n",
       "      <td>11.000000</td>\n",
       "      <td>11.000000</td>\n",
       "      <td>11.000000</td>\n",
       "      <td>11.000000</td>\n",
       "    </tr>\n",
       "    <tr>\n",
       "      <th>75%</th>\n",
       "      <td>74.000000</td>\n",
       "      <td>29.000000</td>\n",
       "      <td>185.420000</td>\n",
       "      <td>179.000000</td>\n",
       "      <td>66.000000</td>\n",
       "      <td>69.000000</td>\n",
       "      <td>72.000000</td>\n",
       "      <td>64.000000</td>\n",
       "      <td>72.000000</td>\n",
       "      <td>67.000000</td>\n",
       "      <td>...</td>\n",
       "      <td>69.000000</td>\n",
       "      <td>66.000000</td>\n",
       "      <td>66.000000</td>\n",
       "      <td>69.000000</td>\n",
       "      <td>67.000000</td>\n",
       "      <td>13.000000</td>\n",
       "      <td>14.000000</td>\n",
       "      <td>14.000000</td>\n",
       "      <td>14.000000</td>\n",
       "      <td>14.000000</td>\n",
       "    </tr>\n",
       "    <tr>\n",
       "      <th>max</th>\n",
       "      <td>94.000000</td>\n",
       "      <td>44.000000</td>\n",
       "      <td>208.280000</td>\n",
       "      <td>243.000000</td>\n",
       "      <td>97.000000</td>\n",
       "      <td>95.000000</td>\n",
       "      <td>97.000000</td>\n",
       "      <td>93.000000</td>\n",
       "      <td>97.000000</td>\n",
       "      <td>94.000000</td>\n",
       "      <td>...</td>\n",
       "      <td>97.000000</td>\n",
       "      <td>96.000000</td>\n",
       "      <td>93.000000</td>\n",
       "      <td>95.000000</td>\n",
       "      <td>95.000000</td>\n",
       "      <td>93.000000</td>\n",
       "      <td>89.000000</td>\n",
       "      <td>96.000000</td>\n",
       "      <td>93.000000</td>\n",
       "      <td>94.000000</td>\n",
       "    </tr>\n",
       "  </tbody>\n",
       "</table>\n",
       "<p>8 rows × 36 columns</p>\n",
       "</div>"
      ],
      "text/plain": [
       "       overall_rating            age         height         weight  \\\n",
       "count   158176.000000  158176.000000  158176.000000  158176.000000   \n",
       "mean        69.059813      26.152590     181.855608     168.659569   \n",
       "std          6.621412       4.457463       6.407400      15.105216   \n",
       "min         37.000000      16.000000     157.480000     117.000000   \n",
       "25%         65.000000      23.000000     177.800000     159.000000   \n",
       "50%         69.000000      26.000000     182.880000     168.000000   \n",
       "75%         74.000000      29.000000     185.420000     179.000000   \n",
       "max         94.000000      44.000000     208.280000     243.000000   \n",
       "\n",
       "           finishing  heading_accuracy  short_passing        volleys  \\\n",
       "count  158176.000000     158176.000000  158176.000000  158176.000000   \n",
       "mean       50.217650         57.482279      63.059263      49.648948   \n",
       "std        18.987869         16.406879      13.896643      18.106483   \n",
       "min         1.000000          1.000000       3.000000       1.000000   \n",
       "25%        35.000000         50.000000      58.000000      36.000000   \n",
       "50%        54.000000         60.000000      66.000000      53.000000   \n",
       "75%        66.000000         69.000000      72.000000      64.000000   \n",
       "max        97.000000         95.000000      97.000000      93.000000   \n",
       "\n",
       "           dribbling          curve      ...               vision  \\\n",
       "count  158176.000000  158176.000000      ...        158176.000000   \n",
       "mean       59.865378      53.395875      ...            57.653715   \n",
       "std        17.632349      18.184720      ...            15.230056   \n",
       "min         1.000000       2.000000      ...             1.000000   \n",
       "25%        53.000000      41.000000      ...            49.000000   \n",
       "50%        64.000000      56.000000      ...            60.000000   \n",
       "75%        72.000000      67.000000      ...            69.000000   \n",
       "max        97.000000      94.000000      ...            97.000000   \n",
       "\n",
       "           penalties        marking  standing_tackle  sliding_tackle  \\\n",
       "count  158176.000000  158176.000000    158176.000000   158176.000000   \n",
       "mean       54.699879      46.858613        50.647867       48.131809   \n",
       "std        15.674789      21.308352        21.586825       21.532540   \n",
       "min         2.000000       1.000000         1.000000        2.000000   \n",
       "25%        45.000000      25.000000        29.000000       25.000000   \n",
       "50%        56.000000      51.000000        57.000000       53.000000   \n",
       "75%        66.000000      66.000000        69.000000       67.000000   \n",
       "max        96.000000      93.000000        95.000000       95.000000   \n",
       "\n",
       "           gk_diving    gk_handling     gk_kicking  gk_positioning  \\\n",
       "count  158176.000000  158176.000000  158176.000000   158176.000000   \n",
       "mean       14.771666      15.194423      16.923895       15.269232   \n",
       "std        16.783005      15.798130      18.208296       16.066339   \n",
       "min         1.000000       1.000000       1.000000        1.000000   \n",
       "25%         8.000000       8.000000       8.000000        8.000000   \n",
       "50%        10.000000      11.000000      11.000000       11.000000   \n",
       "75%        13.000000      14.000000      14.000000       14.000000   \n",
       "max        93.000000      89.000000      96.000000       93.000000   \n",
       "\n",
       "         gk_reflexes  \n",
       "count  158176.000000  \n",
       "mean       15.568816  \n",
       "std        17.177080  \n",
       "min         1.000000  \n",
       "25%         8.000000  \n",
       "50%        11.000000  \n",
       "75%        14.000000  \n",
       "max        94.000000  \n",
       "\n",
       "[8 rows x 36 columns]"
      ]
     },
     "execution_count": 16,
     "metadata": {},
     "output_type": "execute_result"
    }
   ],
   "source": [
    "players_features_df.describe()"
   ]
  },
  {
   "cell_type": "markdown",
   "metadata": {},
   "source": [
    "**Hypothesis Testing for Regression Models**"
   ]
  },
  {
   "cell_type": "markdown",
   "metadata": {},
   "source": [
    "1. Test the null hypothesis H0: that the sample comes from a Normal Distribution VS Alternate Hypothesis H1: that the same does not come from a Normal Distribution"
   ]
  },
  {
   "cell_type": "code",
   "execution_count": 17,
   "metadata": {
    "collapsed": false
   },
   "outputs": [
    {
     "data": {
      "text/plain": [
       "NormaltestResult(statistic=masked_array(data = [423.83275496325155 4996.721589533559 519.9200556343939 989.0718172616026\n",
       " 23321.191923110033 19367.24118597679 33441.20235395948 12994.472259684368\n",
       " 23035.624510162914 8284.35696231656 9419.733145525384 11116.281616602411\n",
       " 38281.96432497348 12939.461459447355 15528.761308561632 8577.510289316957\n",
       " 6946.387199106733 6776.66699799414 20893.414644217544 7730.349868971919\n",
       " 21201.134938140345 10789.367490152461 11850.165312307337 9879.685601588426\n",
       " 256462.0306989885 12336.714585045815 9359.65558644294 5667.534706526926 --\n",
       " -- -- 94600.94782766112 90958.9463851405 66165.00238557925\n",
       " 91497.45764410638 91894.36667788608],\n",
       "             mask = [False False False False False False False False False False False False\n",
       " False False False False False False False False False False False False\n",
       " False False False False  True  True  True False False False False False],\n",
       "       fill_value = 1e+20)\n",
       ", pvalue=array([  9.24456829e-093,   0.00000000e+000,   1.26123032e-113,\n",
       "         1.68183652e-215,   0.00000000e+000,   0.00000000e+000,\n",
       "         0.00000000e+000,   0.00000000e+000,   0.00000000e+000,\n",
       "         0.00000000e+000,   0.00000000e+000,   0.00000000e+000,\n",
       "         0.00000000e+000,   0.00000000e+000,   0.00000000e+000,\n",
       "         0.00000000e+000,   0.00000000e+000,   0.00000000e+000,\n",
       "         0.00000000e+000,   0.00000000e+000,   0.00000000e+000,\n",
       "         0.00000000e+000,   0.00000000e+000,   0.00000000e+000,\n",
       "         0.00000000e+000,   0.00000000e+000,   0.00000000e+000,\n",
       "         0.00000000e+000,   3.47739594e-076,   0.00000000e+000,\n",
       "         2.10231133e-174,   0.00000000e+000,   0.00000000e+000,\n",
       "         0.00000000e+000,   0.00000000e+000,   0.00000000e+000]))"
      ]
     },
     "execution_count": 17,
     "metadata": {},
     "output_type": "execute_result"
    }
   ],
   "source": [
    "series = players_features_df.values\n",
    "scipy.stats.mstats.normaltest(series)"
   ]
  },
  {
   "cell_type": "markdown",
   "metadata": {},
   "source": [
    "The variables, overall rating, height, weight, marking and sliding tackle are not normally distributed while the rest are. To fit regression models to this data, we will need to normalize these features."
   ]
  },
  {
   "cell_type": "markdown",
   "metadata": {},
   "source": [
    "2. H0: There is linear relationship between the independent and dependent variables VS H1: There is no linear relationship between the independent and dependant variables"
   ]
  },
  {
   "cell_type": "code",
   "execution_count": 25,
   "metadata": {
    "collapsed": false,
    "scrolled": true
   },
   "outputs": [
    {
     "data": {
      "text/plain": [
       "\"\\n#To check the linear relationship between the overall rating and the independent feature variables, we identify the patterns \\n# from the scatterplots below:\\npp = sns.pairplot(data=players_features_df,\\n                  y_vars=['overall_rating'],\\n                  x_vars=['weight', 'height', 'age', 'finishing',  'heading_accuracy'])\\n\\nzz = sns.pairplot(data=players_features_df,\\n                  y_vars=['overall_rating'],\\n                  x_vars=['short_passing',  'volleys',  'dribbling',  'curve',  'free_kick_accuracy'])\\n\\nqq = sns.pairplot(data=players_features_df,\\n                  y_vars=['overall_rating'],\\n                  x_vars=['long_passing',  'ball_control',  'acceleration',  'sprint_speed',  'agility'])\\n\\naa = sns.pairplot(data=players_features_df,\\n                  y_vars=['overall_rating'],\\n                  x_vars=['reactions',  'balance',  'shot_power',  'jumping',  'stamina'])\\n\\naa = sns.pairplot(data=players_features_df,\\n                  y_vars=['overall_rating'],\\n                  x_vars=['strength',  'long_shots',  'aggression',  'interceptions',  'positioning'])\\n\\nbb = sns.pairplot(data=players_features_df,\\n                  y_vars=['overall_rating'],\\n                  x_vars=['vision',  'penalties',  'marking',  'standing_tackle',  'sliding_tackle'])\\n\\ngg = sns.pairplot(data=players_features_df,\\n                  y_vars=['overall_rating'],\\n                  x_vars=['gk_diving',  'gk_handling',  'gk_kicking',  'gk_positioning',  'gk_reflexes'])\\n\\n\\n\""
      ]
     },
     "execution_count": 25,
     "metadata": {},
     "output_type": "execute_result"
    }
   ],
   "source": [
    "'''\n",
    "#To check the linear relationship between the overall rating and the independent feature variables, we identify the patterns \n",
    "# from the scatterplots below:\n",
    "pp = sns.pairplot(data=players_features_df,\n",
    "                  y_vars=['overall_rating'],\n",
    "                  x_vars=['weight', 'height', 'age', 'finishing',  'heading_accuracy'])\n",
    "\n",
    "zz = sns.pairplot(data=players_features_df,\n",
    "                  y_vars=['overall_rating'],\n",
    "                  x_vars=['short_passing',  'volleys',  'dribbling',  'curve',  'free_kick_accuracy'])\n",
    "\n",
    "qq = sns.pairplot(data=players_features_df,\n",
    "                  y_vars=['overall_rating'],\n",
    "                  x_vars=['long_passing',  'ball_control',  'acceleration',  'sprint_speed',  'agility'])\n",
    "\n",
    "aa = sns.pairplot(data=players_features_df,\n",
    "                  y_vars=['overall_rating'],\n",
    "                  x_vars=['reactions',  'balance',  'shot_power',  'jumping',  'stamina'])\n",
    "\n",
    "aa = sns.pairplot(data=players_features_df,\n",
    "                  y_vars=['overall_rating'],\n",
    "                  x_vars=['strength',  'long_shots',  'aggression',  'interceptions',  'positioning'])\n",
    "\n",
    "bb = sns.pairplot(data=players_features_df,\n",
    "                  y_vars=['overall_rating'],\n",
    "                  x_vars=['vision',  'penalties',  'marking',  'standing_tackle',  'sliding_tackle'])\n",
    "\n",
    "gg = sns.pairplot(data=players_features_df,\n",
    "                  y_vars=['overall_rating'],\n",
    "                  x_vars=['gk_diving',  'gk_handling',  'gk_kicking',  'gk_positioning',  'gk_reflexes'])\n",
    "\n",
    "\n",
    "'''"
   ]
  },
  {
   "cell_type": "markdown",
   "metadata": {},
   "source": [
    "As we can see, the relationship between most of the features and the rating is not linear but curvilinear"
   ]
  },
  {
   "cell_type": "markdown",
   "metadata": {},
   "source": [
    "3. Test the hypotheses:\n",
    "H0: There is no multicollinearity present in the data VS H1: There is multicollinearity present in the data"
   ]
  },
  {
   "cell_type": "code",
   "execution_count": 26,
   "metadata": {
    "collapsed": false
   },
   "outputs": [
    {
     "data": {
      "text/plain": [
       "<matplotlib.axes._subplots.AxesSubplot at 0x1214a1d30>"
      ]
     },
     "execution_count": 26,
     "metadata": {},
     "output_type": "execute_result"
    },
    {
     "data": {
      "image/png": "[encoded data removed]",
      "text/plain": [
       "<matplotlib.figure.Figure at 0x12166d550>"
      ]
     },
     "metadata": {},
     "output_type": "display_data"
    }
   ],
   "source": [
    "colormap = plt.cm.viridis\n",
    "plt.figure(figsize=(16,16))\n",
    "#plt.title('Correlation between Features', y=1.05, size = 20)\n",
    "sns.heatmap(players_features_df.corr(),\n",
    "            linewidths=0.1, \n",
    "            vmax=1.0, \n",
    "            square=True, \n",
    "            cmap=colormap, \n",
    "            linecolor='white', \n",
    "            annot=False)"
   ]
  },
  {
   "cell_type": "markdown",
   "metadata": {},
   "source": [
    "As you can see most these variables are correlated, so there is multicollinearity present in the data, to deal with this we will use PCA to find independent components which can be used to predict overall rating."
   ]
  },
  {
   "cell_type": "code",
   "execution_count": 13,
   "metadata": {
    "collapsed": false
   },
   "outputs": [],
   "source": [
    "#Defining the functions:\n",
    "\n",
    "\n",
    "#scree plot function to plot pca components explaining variance in data:\n",
    "def scree_plot_pca(n_components, data):\n",
    "    #the function plots a scree plot of pca components of given data which allows us to select an optimal no of components\n",
    "    pca = PCA(n_components)\n",
    "    pca.fit(data)\n",
    "    var= pca.explained_variance_ratio_\n",
    "    var1=np.cumsum(np.round(pca.explained_variance_ratio_, decimals=4)*100)\n",
    "    plt.plot(var1)\n",
    "    show = plt.show()\n",
    "    return(show)\n",
    "\n",
    "\n",
    "#linear regression scores\n",
    "def linear_regression_fit(x_train, y_train, x_test, y_test):\n",
    "    #fit a linear regression on the data and get accuracy score of linear regression model\n",
    "    lm.fit(x_train, y_train)\n",
    "    y_pred = lm.predict(x_test)\n",
    "    train_score = lm.score(x_train, y_train)\n",
    "    test_score = lm.score(x_test, y_test)\n",
    "    rss = sum((y_pred-y_test)**2)\n",
    "    rms = sqrt(mean_squared_error(y_test, y_pred))\n",
    "    print(\"LR Train Accuracy Score = {:.2f}\".format(train_score*100))\n",
    "    print(\"LR Test Accuracy Score = {:.2f}\".format(test_score*100))\n",
    "    print(\"LR Residual Sum of Squares = %d\" % rss)\n",
    "    print(\"LR Root Mean Squre Error = {:.2f}\" .format(rms))\n",
    "    return()\n",
    "\n",
    "\n",
    "#polynomial model fit regression scores\n",
    "def polynomial_regression_fit(x_train, y_train, x_test, y_test):\n",
    "    #fit a polnomial regression on the data and get accuracy score of polynomial regression model\n",
    "    poly = PolynomialFeatures(degree=2)\n",
    "    vector = y_train\n",
    "    predict = x_test\n",
    "    #transform the x data for proper fitting (for single variable type it returns,[1,x,x**2]\n",
    "    X_ = poly.fit_transform(x_train)\n",
    "    #transform the prediction to fit the model type\n",
    "    predict_ = poly.fit_transform(predict)\n",
    "    #here we can remove polynomial orders we don't want\n",
    "    #for instance I'm removing the `x` component\n",
    "    X_ = np.delete(X_,(1),axis=1)\n",
    "    predict_ = np.delete(predict_,(1),axis=1)\n",
    "    #preform the actual regression\n",
    "    lm.fit(X_, vector)\n",
    "    y_pred = lm.predict(predict_)\n",
    "    train_score = lm.score(X_, vector)\n",
    "    test_score = lm.score(predict_, y_pred)\n",
    "    rss = sum((y_pred-y_test)**2)\n",
    "    rms = sqrt(mean_squared_error(y_test, y_pred))\n",
    "    print(\"Polynomial Regression Train Accuracy Score = {:.2f}\".format(train_score*100))\n",
    "    print(\"Polynomial Regression Test Accuracy Score = {:.2f}\".format(test_score*100))\n",
    "    print(\"Polynomial Regression Residual Sum of Squares = %d\" % rss)\n",
    "    print(\"Polynomial Regression Root Mean Squre Error = {:.2f}\" .format(rms))\n",
    "    return()\n",
    "\n",
    "\n",
    "def ridge_regression_fit(x_train, y_train, x_test, y_test):\n",
    "    #fit a ridge regression on the data and get accuracy score of ridge regression model\n",
    "    clf = Ridge(alpha=0.01)\n",
    "    clf.fit(x_train, y_train)\n",
    "    train_score = clf.score(x_train, y_train)\n",
    "    test_score = clf.score(x_test, y_test)\n",
    "    y_pred = clf.predict(x_test)\n",
    "    rss = sum((y_pred-y_test)**2)\n",
    "    rms = sqrt(mean_squared_error(y_test, y_pred))\n",
    "    print(\"Ridge Train Accuracy Score = {:.2f}\".format(train_score*100))\n",
    "    print(\"Ridge Test Accuracy Score = {:.2f}\".format(test_score*100))\n",
    "    print(\"Ridge Residual Sum of Squares = %d\" % rss)\n",
    "    print(\"Ridge Root Mean Squre Error = {:.2f}\" .format(rms))\n",
    "    return()\n",
    "\n",
    "\n",
    "def svr_fit(x_train, y_train, x_test, y_test):\n",
    "    #fit a svr model on the data and get accuracy score of svr model\n",
    "    svr = SVR(C=2.0, epsilon=0.5, kernel='linear')\n",
    "    svr.fit(X1,y_train)\n",
    "    \n",
    "    pred_SVR = svr.predict(x_test)\n",
    "    \n",
    "    svr_train_score = svr.score(x_train, y_train)\n",
    "    svr_test_score = svr.score(x_test, y_test)\n",
    "    \n",
    "    rss_svr2 = sum((pred_SVR-y_test)**2)\n",
    "    rss_svr = rss_svr2.astype(int)\n",
    "    rms_svr = sqrt(mean_squared_error(y_test, pred_SVR))\n",
    "    \n",
    "    print(\"SVR Train Accuracy Score = {:.2f}\".format(svr_train_score*100))\n",
    "    print(\"SVR Test Accuracy Score = {:.2f}\".format(svr_test_score*100))\n",
    "    \n",
    "    #print(\"SVR Residual Sum of Squares = {:.2f}\" .format(rss_svr))\n",
    "    print(\"SVR Root Mean Squre Error = {:.2f}\" .format(rms_svr))\n",
    "    return()"
   ]
  },
  {
   "cell_type": "code",
   "execution_count": null,
   "metadata": {
    "collapsed": true
   },
   "outputs": [],
   "source": []
  },
  {
   "cell_type": "code",
   "execution_count": null,
   "metadata": {
    "collapsed": true
   },
   "outputs": [],
   "source": []
  },
  {
   "cell_type": "code",
   "execution_count": null,
   "metadata": {
    "collapsed": true
   },
   "outputs": [],
   "source": []
  },
  {
   "cell_type": "code",
   "execution_count": null,
   "metadata": {
    "collapsed": true
   },
   "outputs": [],
   "source": []
  },
  {
   "cell_type": "markdown",
   "metadata": {},
   "source": [
    "Aggregate data by player id and age for each player, get mean of all features"
   ]
  },
  {
   "cell_type": "code",
   "execution_count": 14,
   "metadata": {
    "collapsed": false
   },
   "outputs": [
    {
     "data": {
      "text/html": [
       "<div>\n",
       "<table border=\"1\" class=\"dataframe\">\n",
       "  <thead>\n",
       "    <tr style=\"text-align: right;\">\n",
       "      <th></th>\n",
       "      <th>player_api_id</th>\n",
       "      <th>player_name</th>\n",
       "      <th>player_position</th>\n",
       "      <th>age</th>\n",
       "      <th>overall_rating</th>\n",
       "      <th>height</th>\n",
       "      <th>weight</th>\n",
       "      <th>finishing</th>\n",
       "      <th>heading_accuracy</th>\n",
       "      <th>short_passing</th>\n",
       "      <th>...</th>\n",
       "      <th>vision</th>\n",
       "      <th>penalties</th>\n",
       "      <th>marking</th>\n",
       "      <th>standing_tackle</th>\n",
       "      <th>sliding_tackle</th>\n",
       "      <th>gk_diving</th>\n",
       "      <th>gk_handling</th>\n",
       "      <th>gk_kicking</th>\n",
       "      <th>gk_positioning</th>\n",
       "      <th>gk_reflexes</th>\n",
       "    </tr>\n",
       "  </thead>\n",
       "  <tbody>\n",
       "    <tr>\n",
       "      <th>0</th>\n",
       "      <td>505942</td>\n",
       "      <td>Aaron Appindangoye</td>\n",
       "      <td>Defender</td>\n",
       "      <td>24.0</td>\n",
       "      <td>65.333333</td>\n",
       "      <td>182.88</td>\n",
       "      <td>187</td>\n",
       "      <td>44.0</td>\n",
       "      <td>71.0</td>\n",
       "      <td>61.0</td>\n",
       "      <td>...</td>\n",
       "      <td>54.0</td>\n",
       "      <td>48.0</td>\n",
       "      <td>65.0</td>\n",
       "      <td>68.0</td>\n",
       "      <td>69.0</td>\n",
       "      <td>6.0</td>\n",
       "      <td>11.0</td>\n",
       "      <td>10.0</td>\n",
       "      <td>8.0</td>\n",
       "      <td>8.0</td>\n",
       "    </tr>\n",
       "    <tr>\n",
       "      <th>1</th>\n",
       "      <td>505942</td>\n",
       "      <td>Aaron Appindangoye</td>\n",
       "      <td>Defender</td>\n",
       "      <td>23.0</td>\n",
       "      <td>61.000000</td>\n",
       "      <td>182.88</td>\n",
       "      <td>187</td>\n",
       "      <td>43.0</td>\n",
       "      <td>70.0</td>\n",
       "      <td>60.0</td>\n",
       "      <td>...</td>\n",
       "      <td>53.0</td>\n",
       "      <td>47.0</td>\n",
       "      <td>62.0</td>\n",
       "      <td>63.0</td>\n",
       "      <td>66.0</td>\n",
       "      <td>5.0</td>\n",
       "      <td>10.0</td>\n",
       "      <td>9.0</td>\n",
       "      <td>7.0</td>\n",
       "      <td>7.0</td>\n",
       "    </tr>\n",
       "  </tbody>\n",
       "</table>\n",
       "<p>2 rows × 39 columns</p>\n",
       "</div>"
      ],
      "text/plain": [
       "   player_api_id         player_name player_position   age  overall_rating  \\\n",
       "0         505942  Aaron Appindangoye        Defender  24.0       65.333333   \n",
       "1         505942  Aaron Appindangoye        Defender  23.0       61.000000   \n",
       "\n",
       "   height  weight  finishing  heading_accuracy  short_passing     ...       \\\n",
       "0  182.88     187       44.0              71.0           61.0     ...        \n",
       "1  182.88     187       43.0              70.0           60.0     ...        \n",
       "\n",
       "   vision  penalties  marking  standing_tackle  sliding_tackle  gk_diving  \\\n",
       "0    54.0       48.0     65.0             68.0            69.0        6.0   \n",
       "1    53.0       47.0     62.0             63.0            66.0        5.0   \n",
       "\n",
       "   gk_handling  gk_kicking  gk_positioning  gk_reflexes  \n",
       "0         11.0        10.0             8.0          8.0  \n",
       "1         10.0         9.0             7.0          7.0  \n",
       "\n",
       "[2 rows x 39 columns]"
      ]
     },
     "execution_count": 14,
     "metadata": {},
     "output_type": "execute_result"
    }
   ],
   "source": [
    "#For all players average the data for each age\n",
    "players_agg = players_final_df.groupby([ 'player_api_id', 'player_name', 'player_position',  'age'],as_index=False, sort=False).mean()\n",
    "players_agg = pd.DataFrame(players_agg)\n",
    "players_agg.head(2)"
   ]
  },
  {
   "cell_type": "code",
   "execution_count": 30,
   "metadata": {
    "collapsed": false
   },
   "outputs": [
    {
     "data": {
      "text/html": [
       "<div>\n",
       "<table border=\"1\" class=\"dataframe\">\n",
       "  <thead>\n",
       "    <tr style=\"text-align: right;\">\n",
       "      <th></th>\n",
       "      <th>player_api_id</th>\n",
       "      <th>age</th>\n",
       "      <th>overall_rating</th>\n",
       "      <th>height</th>\n",
       "      <th>weight</th>\n",
       "      <th>finishing</th>\n",
       "      <th>heading_accuracy</th>\n",
       "      <th>short_passing</th>\n",
       "      <th>volleys</th>\n",
       "      <th>dribbling</th>\n",
       "      <th>...</th>\n",
       "      <th>vision</th>\n",
       "      <th>penalties</th>\n",
       "      <th>marking</th>\n",
       "      <th>standing_tackle</th>\n",
       "      <th>sliding_tackle</th>\n",
       "      <th>gk_diving</th>\n",
       "      <th>gk_handling</th>\n",
       "      <th>gk_kicking</th>\n",
       "      <th>gk_positioning</th>\n",
       "      <th>gk_reflexes</th>\n",
       "    </tr>\n",
       "  </thead>\n",
       "  <tbody>\n",
       "    <tr>\n",
       "      <th>count</th>\n",
       "      <td>52725.000000</td>\n",
       "      <td>52725.000000</td>\n",
       "      <td>52725.000000</td>\n",
       "      <td>52725.000000</td>\n",
       "      <td>52725.000000</td>\n",
       "      <td>52725.000000</td>\n",
       "      <td>52725.000000</td>\n",
       "      <td>52725.000000</td>\n",
       "      <td>52725.000000</td>\n",
       "      <td>52725.000000</td>\n",
       "      <td>...</td>\n",
       "      <td>52725.000000</td>\n",
       "      <td>52725.000000</td>\n",
       "      <td>52725.000000</td>\n",
       "      <td>52725.000000</td>\n",
       "      <td>52725.000000</td>\n",
       "      <td>52725.000000</td>\n",
       "      <td>52725.000000</td>\n",
       "      <td>52725.000000</td>\n",
       "      <td>52725.000000</td>\n",
       "      <td>52725.00000</td>\n",
       "    </tr>\n",
       "    <tr>\n",
       "      <th>mean</th>\n",
       "      <td>128807.768687</td>\n",
       "      <td>26.070422</td>\n",
       "      <td>68.168710</td>\n",
       "      <td>182.010980</td>\n",
       "      <td>169.056918</td>\n",
       "      <td>48.495372</td>\n",
       "      <td>56.690740</td>\n",
       "      <td>61.567312</td>\n",
       "      <td>48.034650</td>\n",
       "      <td>57.698582</td>\n",
       "      <td>...</td>\n",
       "      <td>56.951881</td>\n",
       "      <td>53.747098</td>\n",
       "      <td>46.596858</td>\n",
       "      <td>50.067561</td>\n",
       "      <td>47.642339</td>\n",
       "      <td>15.383802</td>\n",
       "      <td>16.553127</td>\n",
       "      <td>20.280548</td>\n",
       "      <td>16.633123</td>\n",
       "      <td>16.96874</td>\n",
       "    </tr>\n",
       "    <tr>\n",
       "      <th>std</th>\n",
       "      <td>130042.194779</td>\n",
       "      <td>4.563284</td>\n",
       "      <td>6.719322</td>\n",
       "      <td>6.401438</td>\n",
       "      <td>15.070259</td>\n",
       "      <td>19.201114</td>\n",
       "      <td>16.882404</td>\n",
       "      <td>14.386956</td>\n",
       "      <td>18.321289</td>\n",
       "      <td>18.092654</td>\n",
       "      <td>...</td>\n",
       "      <td>14.993739</td>\n",
       "      <td>15.827144</td>\n",
       "      <td>21.432128</td>\n",
       "      <td>21.639129</td>\n",
       "      <td>21.631294</td>\n",
       "      <td>17.726123</td>\n",
       "      <td>16.632624</td>\n",
       "      <td>20.595837</td>\n",
       "      <td>16.869654</td>\n",
       "      <td>17.99513</td>\n",
       "    </tr>\n",
       "    <tr>\n",
       "      <th>min</th>\n",
       "      <td>2625.000000</td>\n",
       "      <td>16.000000</td>\n",
       "      <td>37.000000</td>\n",
       "      <td>157.480000</td>\n",
       "      <td>117.000000</td>\n",
       "      <td>2.000000</td>\n",
       "      <td>3.000000</td>\n",
       "      <td>3.000000</td>\n",
       "      <td>1.000000</td>\n",
       "      <td>4.000000</td>\n",
       "      <td>...</td>\n",
       "      <td>1.000000</td>\n",
       "      <td>3.000000</td>\n",
       "      <td>1.000000</td>\n",
       "      <td>2.000000</td>\n",
       "      <td>2.000000</td>\n",
       "      <td>1.000000</td>\n",
       "      <td>1.000000</td>\n",
       "      <td>1.000000</td>\n",
       "      <td>1.000000</td>\n",
       "      <td>1.00000</td>\n",
       "    </tr>\n",
       "    <tr>\n",
       "      <th>25%</th>\n",
       "      <td>34225.000000</td>\n",
       "      <td>23.000000</td>\n",
       "      <td>64.000000</td>\n",
       "      <td>177.800000</td>\n",
       "      <td>159.000000</td>\n",
       "      <td>32.500000</td>\n",
       "      <td>49.000000</td>\n",
       "      <td>56.750000</td>\n",
       "      <td>34.000000</td>\n",
       "      <td>49.500000</td>\n",
       "      <td>...</td>\n",
       "      <td>48.000000</td>\n",
       "      <td>44.000000</td>\n",
       "      <td>25.000000</td>\n",
       "      <td>28.000000</td>\n",
       "      <td>25.000000</td>\n",
       "      <td>7.500000</td>\n",
       "      <td>8.000000</td>\n",
       "      <td>8.000000</td>\n",
       "      <td>8.000000</td>\n",
       "      <td>8.00000</td>\n",
       "    </tr>\n",
       "    <tr>\n",
       "      <th>50%</th>\n",
       "      <td>73841.000000</td>\n",
       "      <td>26.000000</td>\n",
       "      <td>68.000000</td>\n",
       "      <td>182.880000</td>\n",
       "      <td>168.000000</td>\n",
       "      <td>51.000000</td>\n",
       "      <td>60.000000</td>\n",
       "      <td>64.333333</td>\n",
       "      <td>51.000000</td>\n",
       "      <td>62.000000</td>\n",
       "      <td>...</td>\n",
       "      <td>59.000000</td>\n",
       "      <td>55.500000</td>\n",
       "      <td>51.000000</td>\n",
       "      <td>56.400000</td>\n",
       "      <td>53.000000</td>\n",
       "      <td>10.000000</td>\n",
       "      <td>12.000000</td>\n",
       "      <td>12.000000</td>\n",
       "      <td>12.000000</td>\n",
       "      <td>12.00000</td>\n",
       "    </tr>\n",
       "    <tr>\n",
       "      <th>75%</th>\n",
       "      <td>183532.000000</td>\n",
       "      <td>29.000000</td>\n",
       "      <td>73.000000</td>\n",
       "      <td>185.420000</td>\n",
       "      <td>179.000000</td>\n",
       "      <td>64.000000</td>\n",
       "      <td>68.000000</td>\n",
       "      <td>71.000000</td>\n",
       "      <td>62.600000</td>\n",
       "      <td>70.333333</td>\n",
       "      <td>...</td>\n",
       "      <td>68.000000</td>\n",
       "      <td>65.500000</td>\n",
       "      <td>66.000000</td>\n",
       "      <td>69.000000</td>\n",
       "      <td>66.400000</td>\n",
       "      <td>13.000000</td>\n",
       "      <td>15.000000</td>\n",
       "      <td>15.000000</td>\n",
       "      <td>15.000000</td>\n",
       "      <td>15.00000</td>\n",
       "    </tr>\n",
       "    <tr>\n",
       "      <th>max</th>\n",
       "      <td>750584.000000</td>\n",
       "      <td>44.000000</td>\n",
       "      <td>94.000000</td>\n",
       "      <td>208.280000</td>\n",
       "      <td>243.000000</td>\n",
       "      <td>97.000000</td>\n",
       "      <td>95.000000</td>\n",
       "      <td>97.000000</td>\n",
       "      <td>93.000000</td>\n",
       "      <td>97.000000</td>\n",
       "      <td>...</td>\n",
       "      <td>97.000000</td>\n",
       "      <td>96.000000</td>\n",
       "      <td>91.000000</td>\n",
       "      <td>94.500000</td>\n",
       "      <td>95.000000</td>\n",
       "      <td>93.000000</td>\n",
       "      <td>89.000000</td>\n",
       "      <td>96.000000</td>\n",
       "      <td>93.000000</td>\n",
       "      <td>94.00000</td>\n",
       "    </tr>\n",
       "  </tbody>\n",
       "</table>\n",
       "<p>8 rows × 37 columns</p>\n",
       "</div>"
      ],
      "text/plain": [
       "       player_api_id           age  overall_rating        height  \\\n",
       "count   52725.000000  52725.000000    52725.000000  52725.000000   \n",
       "mean   128807.768687     26.070422       68.168710    182.010980   \n",
       "std    130042.194779      4.563284        6.719322      6.401438   \n",
       "min      2625.000000     16.000000       37.000000    157.480000   \n",
       "25%     34225.000000     23.000000       64.000000    177.800000   \n",
       "50%     73841.000000     26.000000       68.000000    182.880000   \n",
       "75%    183532.000000     29.000000       73.000000    185.420000   \n",
       "max    750584.000000     44.000000       94.000000    208.280000   \n",
       "\n",
       "             weight     finishing  heading_accuracy  short_passing  \\\n",
       "count  52725.000000  52725.000000      52725.000000   52725.000000   \n",
       "mean     169.056918     48.495372         56.690740      61.567312   \n",
       "std       15.070259     19.201114         16.882404      14.386956   \n",
       "min      117.000000      2.000000          3.000000       3.000000   \n",
       "25%      159.000000     32.500000         49.000000      56.750000   \n",
       "50%      168.000000     51.000000         60.000000      64.333333   \n",
       "75%      179.000000     64.000000         68.000000      71.000000   \n",
       "max      243.000000     97.000000         95.000000      97.000000   \n",
       "\n",
       "            volleys     dribbling     ...             vision     penalties  \\\n",
       "count  52725.000000  52725.000000     ...       52725.000000  52725.000000   \n",
       "mean      48.034650     57.698582     ...          56.951881     53.747098   \n",
       "std       18.321289     18.092654     ...          14.993739     15.827144   \n",
       "min        1.000000      4.000000     ...           1.000000      3.000000   \n",
       "25%       34.000000     49.500000     ...          48.000000     44.000000   \n",
       "50%       51.000000     62.000000     ...          59.000000     55.500000   \n",
       "75%       62.600000     70.333333     ...          68.000000     65.500000   \n",
       "max       93.000000     97.000000     ...          97.000000     96.000000   \n",
       "\n",
       "            marking  standing_tackle  sliding_tackle     gk_diving  \\\n",
       "count  52725.000000     52725.000000    52725.000000  52725.000000   \n",
       "mean      46.596858        50.067561       47.642339     15.383802   \n",
       "std       21.432128        21.639129       21.631294     17.726123   \n",
       "min        1.000000         2.000000        2.000000      1.000000   \n",
       "25%       25.000000        28.000000       25.000000      7.500000   \n",
       "50%       51.000000        56.400000       53.000000     10.000000   \n",
       "75%       66.000000        69.000000       66.400000     13.000000   \n",
       "max       91.000000        94.500000       95.000000     93.000000   \n",
       "\n",
       "        gk_handling    gk_kicking  gk_positioning  gk_reflexes  \n",
       "count  52725.000000  52725.000000    52725.000000  52725.00000  \n",
       "mean      16.553127     20.280548       16.633123     16.96874  \n",
       "std       16.632624     20.595837       16.869654     17.99513  \n",
       "min        1.000000      1.000000        1.000000      1.00000  \n",
       "25%        8.000000      8.000000        8.000000      8.00000  \n",
       "50%       12.000000     12.000000       12.000000     12.00000  \n",
       "75%       15.000000     15.000000       15.000000     15.00000  \n",
       "max       89.000000     96.000000       93.000000     94.00000  \n",
       "\n",
       "[8 rows x 37 columns]"
      ]
     },
     "execution_count": 30,
     "metadata": {},
     "output_type": "execute_result"
    }
   ],
   "source": [
    "players_agg.describe()"
   ]
  },
  {
   "cell_type": "code",
   "execution_count": 31,
   "metadata": {
    "collapsed": false
   },
   "outputs": [
    {
     "data": {
      "text/plain": [
       "<seaborn.axisgrid.FacetGrid at 0x11e8c1fd0>"
      ]
     },
     "execution_count": 31,
     "metadata": {},
     "output_type": "execute_result"
    },
    {
     "data": {
      "image/png": "[encoded data removed]",
      "text/plain": [
       "<matplotlib.figure.Figure at 0x11e68ca58>"
      ]
     },
     "metadata": {},
     "output_type": "display_data"
    }
   ],
   "source": [
    "# peaks for survived/not survived passengers by their age\n",
    "facet = sns.FacetGrid(players_agg, hue=\"player_position\",aspect=4)\n",
    "facet.map(sns.kdeplot,'age',shade= True)\n",
    "facet.set(xlim=(0, players_agg['age'].max()))\n",
    "facet.add_legend()\n"
   ]
  },
  {
   "cell_type": "markdown",
   "metadata": {},
   "source": [
    "Seperate the data into subsets for each player position"
   ]
  },
  {
   "cell_type": "code",
   "execution_count": 15,
   "metadata": {
    "collapsed": true
   },
   "outputs": [],
   "source": [
    "defender_df = players_agg[players_agg.player_position == 'Defender']\n",
    "forward_df = players_agg[players_agg.player_position == 'Forward']\n",
    "midfielder_df = players_agg[players_agg.player_position == 'Midfielder']\n",
    "goalkeeper_df = players_agg[players_agg.player_position == 'Goalkeeper']"
   ]
  },
  {
   "cell_type": "markdown",
   "metadata": {},
   "source": [
    "Select color pattern for the positions"
   ]
  },
  {
   "cell_type": "code",
   "execution_count": 16,
   "metadata": {
    "collapsed": true
   },
   "outputs": [],
   "source": [
    "Defender = \"blue\"\n",
    "Forward = \"red\"\n",
    "Midfielder = \"orange\"\n",
    "Goalkeeper = \"green\""
   ]
  },
  {
   "cell_type": "code",
   "execution_count": 34,
   "metadata": {
    "collapsed": false
   },
   "outputs": [
    {
     "data": {
      "text/plain": [
       "<matplotlib.axes._subplots.AxesSubplot at 0x11d73d550>"
      ]
     },
     "execution_count": 34,
     "metadata": {},
     "output_type": "execute_result"
    },
    {
     "data": {
      "image/png": "[encoded data removed]",
      "text/plain": [
       "<matplotlib.figure.Figure at 0x11d73d898>"
      ]
     },
     "metadata": {},
     "output_type": "display_data"
    }
   ],
   "source": [
    "plt.figure(figsize=[40,20])\n",
    "plt.subplot(331)\n",
    "\n",
    "sns.distplot(defender_df.overall_rating.values, bins=range(0, 81, 1), kde=False, color=Defender)\n",
    "sns.distplot(forward_df.overall_rating.values, bins=range(0, 81, 1), kde=False, color=Forward)\n",
    "sns.distplot(midfielder_df.overall_rating.values, bins=range(0, 81, 1), kde=False, color=Midfielder)\n",
    "sns.distplot(goalkeeper_df.overall_rating.values, bins=range(0, 81, 1), kde=False, color=Goalkeeper, axlabel='Average Rating')\n"
   ]
  },
  {
   "cell_type": "markdown",
   "metadata": {},
   "source": [
    "**Analysis and Model Building for Positional Datasets**"
   ]
  },
  {
   "cell_type": "markdown",
   "metadata": {},
   "source": [
    "**First Position: Defender **"
   ]
  },
  {
   "cell_type": "markdown",
   "metadata": {},
   "source": [
    "As we are selecting the defender position, let us remove the attributes columns related to goalkeeping as they are irrelevant to this playing position."
   ]
  },
  {
   "cell_type": "code",
   "execution_count": 17,
   "metadata": {
    "collapsed": true
   },
   "outputs": [],
   "source": [
    "#Create a subset of data with only features to show coorrelation between features\n",
    "defender_features_df = defender_df[['overall_rating',  'age', 'height',  'weight', 'finishing',  'heading_accuracy',  'short_passing',  'volleys',  'dribbling',  'curve',  'free_kick_accuracy',  'long_passing',  'ball_control',  'acceleration',  'sprint_speed',  'agility',  'reactions',  'balance',  'shot_power',  'jumping',  'stamina',  'strength',  'long_shots',  'aggression',  'interceptions',  'positioning',  'vision',  'penalties',  'marking',  'standing_tackle',  'sliding_tackle']]\n"
   ]
  },
  {
   "cell_type": "code",
   "execution_count": 36,
   "metadata": {
    "collapsed": false
   },
   "outputs": [
    {
     "data": {
      "text/plain": [
       "<matplotlib.axes._subplots.AxesSubplot at 0x11f091748>"
      ]
     },
     "execution_count": 36,
     "metadata": {},
     "output_type": "execute_result"
    },
    {
     "data": {
      "image/png": "[encoded data removed]",
      "text/plain": [
       "<matplotlib.figure.Figure at 0x11d7f21d0>"
      ]
     },
     "metadata": {},
     "output_type": "display_data"
    }
   ],
   "source": [
    "colormap = plt.cm.viridis\n",
    "plt.figure(figsize=(16,16))\n",
    "#plt.title('Correlation between Features', y=1.05, size = 20)\n",
    "sns.heatmap(defender_features_df.corr(),\n",
    "            linewidths=0.1, \n",
    "            vmax=1.0, \n",
    "            square=True, \n",
    "            cmap=colormap, \n",
    "            linecolor='white', \n",
    "            annot=False)"
   ]
  },
  {
   "cell_type": "markdown",
   "metadata": {},
   "source": [
    "The figure shows the linear relationship between the individual features vs survival and also between each feature. Example, Overall Rating vs Age corr_coef is around 0.4 that means they have +ve linear relationship. +Ve corrcoef mean the two variables have +ve linear relationship and -ve mean they have -ve linear relationship (slope = -ve), close to zero mean they are not correlated, close to +1 or -1 mean they are strongly positively and negatively correlated, respectively."
   ]
  },
  {
   "cell_type": "code",
   "execution_count": 37,
   "metadata": {
    "collapsed": false
   },
   "outputs": [
    {
     "data": {
      "text/plain": [
       "3504.2000000000003"
      ]
     },
     "execution_count": 37,
     "metadata": {},
     "output_type": "execute_result"
    }
   ],
   "source": [
    "len(defender_df)\n",
    "#Get approx 80% of the data as training and 20% as test\n",
    "17521*.20"
   ]
  },
  {
   "cell_type": "markdown",
   "metadata": {},
   "source": [
    "Seperate the test and training datasets"
   ]
  },
  {
   "cell_type": "code",
   "execution_count": 18,
   "metadata": {
    "collapsed": false
   },
   "outputs": [
    {
     "data": {
      "text/plain": [
       "3536"
      ]
     },
     "execution_count": 18,
     "metadata": {},
     "output_type": "execute_result"
    }
   ],
   "source": [
    "#get the max age data out as test data - seperate\n",
    "max_age = defender_df.groupby(['player_api_id'], sort=False).age.max()\n",
    "max_age = pd.DataFrame(max_age.reset_index(name = \"age\"))\n",
    "#merge this max data with the rest of the df to get all other metrics\n",
    "#Merge\n",
    "keys = ['player_api_id','age']\n",
    "i1 = defender_df.set_index(keys).index\n",
    "i2 = max_age.set_index(keys).index\n",
    "test_df = defender_df[i1.isin(i2)]\n",
    "test_df.head(2)\n",
    "len(test_df)"
   ]
  },
  {
   "cell_type": "code",
   "execution_count": 19,
   "metadata": {
    "collapsed": false
   },
   "outputs": [
    {
     "data": {
      "text/plain": [
       "13985"
      ]
     },
     "execution_count": 19,
     "metadata": {},
     "output_type": "execute_result"
    }
   ],
   "source": [
    "#merge this max data with the rest of the df to get all other metrics and remove max date obs to get training data\n",
    "#Merge\n",
    "keys = ['player_api_id','age']\n",
    "i1 = defender_df.set_index(keys).index\n",
    "i2 = max_age.set_index(keys).index\n",
    "train_df = defender_df[~(i1.isin(i2))]\n",
    "train_df.head(2)\n",
    "len(train_df)"
   ]
  },
  {
   "cell_type": "markdown",
   "metadata": {},
   "source": [
    "Plot age of player and average overall rating in a scatter plot using training data"
   ]
  },
  {
   "cell_type": "code",
   "execution_count": 20,
   "metadata": {
    "collapsed": false
   },
   "outputs": [
    {
     "data": {
      "text/plain": [
       "<matplotlib.text.Text at 0x11c847438>"
      ]
     },
     "execution_count": 20,
     "metadata": {},
     "output_type": "execute_result"
    },
    {
     "data": {
      "image/png": "[encoded data removed]",
      "text/plain": [
       "<matplotlib.figure.Figure at 0x11b1ec710>"
      ]
     },
     "metadata": {},
     "output_type": "display_data"
    }
   ],
   "source": [
    "#Scatter plot to check relationship between age and rating\n",
    "plt.scatter(train_df.age, train_df.overall_rating)\n",
    "plt.xlabel(\"Average Age\")\n",
    "plt.ylabel(\"Average Overall Rating\")\n",
    "plt.title(\"Left Back: Player Overall Rating by Age\")"
   ]
  },
  {
   "cell_type": "markdown",
   "metadata": {},
   "source": [
    "As we can see, for each age group the average player rating takes a range of values with some of the lowest ratings found in the ages below 25. Also, the average rating of the left back player tends to increase with age and we can see it starts to fall down around the ages of 30-32"
   ]
  },
  {
   "cell_type": "markdown",
   "metadata": {},
   "source": [
    "Sort the training data such that obs are arranged by age for each player"
   ]
  },
  {
   "cell_type": "code",
   "execution_count": 21,
   "metadata": {
    "collapsed": false
   },
   "outputs": [],
   "source": [
    "train_df = train_df.sort_values(['player_api_id', 'age'], ascending=[True, True])"
   ]
  },
  {
   "cell_type": "markdown",
   "metadata": {},
   "source": [
    "Describing the data"
   ]
  },
  {
   "cell_type": "code",
   "execution_count": 22,
   "metadata": {
    "collapsed": false
   },
   "outputs": [
    {
     "name": "stdout",
     "output_type": "stream",
     "text": [
      "<class 'pandas.core.frame.DataFrame'>\n",
      "Int64Index: 13985 entries, 12618 to 19012\n",
      "Data columns (total 39 columns):\n",
      "player_api_id         13985 non-null int64\n",
      "player_name           13985 non-null object\n",
      "player_position       13985 non-null object\n",
      "age                   13985 non-null float64\n",
      "overall_rating        13985 non-null float64\n",
      "height                13985 non-null float64\n",
      "weight                13985 non-null int64\n",
      "finishing             13985 non-null float64\n",
      "heading_accuracy      13985 non-null float64\n",
      "short_passing         13985 non-null float64\n",
      "volleys               13985 non-null float64\n",
      "dribbling             13985 non-null float64\n",
      "curve                 13985 non-null float64\n",
      "free_kick_accuracy    13985 non-null float64\n",
      "long_passing          13985 non-null float64\n",
      "ball_control          13985 non-null float64\n",
      "acceleration          13985 non-null float64\n",
      "sprint_speed          13985 non-null float64\n",
      "agility               13985 non-null float64\n",
      "reactions             13985 non-null float64\n",
      "balance               13985 non-null float64\n",
      "shot_power            13985 non-null float64\n",
      "jumping               13985 non-null float64\n",
      "stamina               13985 non-null float64\n",
      "strength              13985 non-null float64\n",
      "long_shots            13985 non-null float64\n",
      "aggression            13985 non-null float64\n",
      "interceptions         13985 non-null float64\n",
      "positioning           13985 non-null float64\n",
      "vision                13985 non-null float64\n",
      "penalties             13985 non-null float64\n",
      "marking               13985 non-null float64\n",
      "standing_tackle       13985 non-null float64\n",
      "sliding_tackle        13985 non-null float64\n",
      "gk_diving             13985 non-null float64\n",
      "gk_handling           13985 non-null float64\n",
      "gk_kicking            13985 non-null float64\n",
      "gk_positioning        13985 non-null float64\n",
      "gk_reflexes           13985 non-null float64\n",
      "dtypes: float64(35), int64(2), object(2)\n",
      "memory usage: 4.3+ MB\n"
     ]
    }
   ],
   "source": [
    "train_df.info()"
   ]
  },
  {
   "cell_type": "code",
   "execution_count": 23,
   "metadata": {
    "collapsed": false
   },
   "outputs": [],
   "source": [
    "#rearrange the columns to make it convinient for splitting into x and y subsets:\n",
    "train_df = train_df[['player_api_id',  'player_name',  'player_position', 'overall_rating',  'age', 'height',  'weight', 'finishing',  'heading_accuracy',  'short_passing',  'volleys',  'dribbling',  'curve',  'free_kick_accuracy',  'long_passing',  'ball_control',  'acceleration',  'sprint_speed',  'agility',  'reactions',  'balance',  'shot_power',  'jumping',  'stamina',  'strength',  'long_shots',  'aggression',  'interceptions',  'positioning',  'vision',  'penalties',  'marking',  'standing_tackle',  'sliding_tackle',  'gk_diving',  'gk_handling',  'gk_kicking',  'gk_positioning',  'gk_reflexes']]\n",
    "#train_df.info()\n",
    "test_df = test_df[['player_api_id',  'player_name',  'player_position', 'overall_rating',  'age', 'height',  'weight', 'finishing',  'heading_accuracy',  'short_passing',  'volleys',  'dribbling',  'curve',  'free_kick_accuracy',  'long_passing',  'ball_control',  'acceleration',  'sprint_speed',  'agility',  'reactions',  'balance',  'shot_power',  'jumping',  'stamina',  'strength',  'long_shots',  'aggression',  'interceptions',  'positioning',  'vision',  'penalties',  'marking',  'standing_tackle',  'sliding_tackle',  'gk_diving',  'gk_handling',  'gk_kicking',  'gk_positioning',  'gk_reflexes']]\n"
   ]
  },
  {
   "cell_type": "markdown",
   "metadata": {},
   "source": [
    "Fitting a linear regression model:\n",
    "First check the data to see if it satisfies the foll assumptions of linear regression.\n",
    "\n",
    "Linear relationship\n",
    "\n",
    "Multivariate normality\n",
    "\n",
    "No or little multicollinearity\n",
    "\n",
    "No auto-correlation\n",
    "\n",
    "Homoscedasticity"
   ]
  },
  {
   "cell_type": "markdown",
   "metadata": {},
   "source": [
    "We neeed to scale the data inorder to fit a regression model"
   ]
  },
  {
   "cell_type": "code",
   "execution_count": 24,
   "metadata": {
    "collapsed": true
   },
   "outputs": [],
   "source": [
    "#Split the dataset into train_test datasets keeping the end dates in test\n",
    "x_train_df = train_df.ix[:,4:40].values\n",
    "y_train_df = train_df.ix[:,3:4].values\n",
    "x_test_df = test_df.ix[:,4:40].values\n",
    "y_test_df = test_df.ix[:,3:4].values"
   ]
  },
  {
   "cell_type": "code",
   "execution_count": 25,
   "metadata": {
    "collapsed": false
   },
   "outputs": [
    {
     "data": {
      "text/plain": [
       "<matplotlib.axes._subplots.AxesSubplot at 0x11b941f28>"
      ]
     },
     "execution_count": 25,
     "metadata": {},
     "output_type": "execute_result"
    },
    {
     "data": {
      "image/png": "[encoded data removed]",
      "text/plain": [
       "<matplotlib.figure.Figure at 0x11b566080>"
      ]
     },
     "metadata": {},
     "output_type": "display_data"
    }
   ],
   "source": [
    "from sklearn import preprocessing\n",
    "scalar = preprocessing.StandardScaler().fit(x_train_df)\n",
    "scaled_x_train = pd.DataFrame(scalar.transform(x_train_df))\n",
    "scaled_x_test = pd.DataFrame(scalar.transform(x_test_df))\n",
    "scaled_x_train.boxplot()"
   ]
  },
  {
   "cell_type": "code",
   "execution_count": 26,
   "metadata": {
    "collapsed": false
   },
   "outputs": [
    {
     "name": "stdout",
     "output_type": "stream",
     "text": [
      "(13985, 35)\n",
      "(3536, 35)\n",
      "(13985, 1)\n",
      "(3536, 1)\n"
     ]
    }
   ],
   "source": [
    "#X_train, X_test, y_train, y_test = sklearn.model_selection.train_test_split(\n",
    " #   X, y, test_size=0.30, random_state = 5)\n",
    "print(scaled_x_train.shape)\n",
    "print(scaled_x_test.shape)\n",
    "print(y_train_df.shape)\n",
    "print(y_test_df.shape)"
   ]
  },
  {
   "cell_type": "code",
   "execution_count": 27,
   "metadata": {
    "collapsed": false
   },
   "outputs": [],
   "source": [
    "#scaled_x_train.hist()\n",
    "#Most features are normally distributed\n",
    "#np.shape(scaled_x_train)#X_train, X_test, y_train, y_test = sklearn.model_selection.train_test_split(\n",
    " #   X, y, test_size=0.30, random_state = 5)"
   ]
  },
  {
   "cell_type": "markdown",
   "metadata": {},
   "source": [
    "Use PCA to reduce multicollinearity in the data:"
   ]
  },
  {
   "cell_type": "code",
   "execution_count": 28,
   "metadata": {
    "collapsed": false
   },
   "outputs": [
    {
     "data": {
      "image/png": "[encoded data removed]",
      "text/plain": [
       "<matplotlib.figure.Figure at 0x11b95eda0>"
      ]
     },
     "metadata": {},
     "output_type": "display_data"
    }
   ],
   "source": [
    "scree_plot_pca(35, scaled_x_train)"
   ]
  },
  {
   "cell_type": "markdown",
   "metadata": {},
   "source": [
    "As 20% of the components explain more than 90% of the data, we use the 20% components"
   ]
  },
  {
   "cell_type": "code",
   "execution_count": 29,
   "metadata": {
    "collapsed": false
   },
   "outputs": [
    {
     "name": "stdout",
     "output_type": "stream",
     "text": [
      "(13985, 20)\n"
     ]
    }
   ],
   "source": [
    "#Fitting PCA to the players dataset to check how many components explain 98% variance in the dataset\n",
    "pca=PCA(0.90, whiten=True)\n",
    "X_proj = pca.fit_transform(scaled_x_train)\n",
    "print(X_proj.shape)"
   ]
  },
  {
   "cell_type": "code",
   "execution_count": 30,
   "metadata": {
    "collapsed": false
   },
   "outputs": [],
   "source": [
    "pca = PCA(n_components=20)\n",
    "pca.fit(scaled_x_train)\n",
    "X1=pca.fit_transform(scaled_x_train)"
   ]
  },
  {
   "cell_type": "code",
   "execution_count": 31,
   "metadata": {
    "collapsed": true
   },
   "outputs": [],
   "source": [
    "pca.fit(scaled_x_test)\n",
    "X2=pca.fit_transform(scaled_x_test)"
   ]
  },
  {
   "cell_type": "code",
   "execution_count": 32,
   "metadata": {
    "collapsed": false
   },
   "outputs": [
    {
     "name": "stdout",
     "output_type": "stream",
     "text": [
      "(13985, 20)\n",
      "(3536, 20)\n",
      "(13985, 1)\n",
      "(3536, 1)\n"
     ]
    }
   ],
   "source": [
    "print(X1.shape)\n",
    "print(X2.shape)\n",
    "print(y_train_df.shape)\n",
    "print(y_test_df.shape)"
   ]
  },
  {
   "cell_type": "code",
   "execution_count": 34,
   "metadata": {
    "collapsed": false
   },
   "outputs": [
    {
     "name": "stdout",
     "output_type": "stream",
     "text": [
      "LR Train Accuracy Score = 89.03\n",
      "LR Test Accuracy Score = 65.10\n",
      "LR Residual Sum of Squares = 47940\n",
      "LR Root Mean Squre Error = 3.68\n"
     ]
    },
    {
     "data": {
      "text/plain": [
       "()"
      ]
     },
     "execution_count": 34,
     "metadata": {},
     "output_type": "execute_result"
    }
   ],
   "source": [
    "linear_regression_fit(X1, y_train_df, X2, y_test_df)"
   ]
  },
  {
   "cell_type": "markdown",
   "metadata": {},
   "source": [
    "\n",
    "Linear regression score test accuracy of 65.10, so the model is a good fit however we need a better fitting model"
   ]
  },
  {
   "cell_type": "markdown",
   "metadata": {
    "collapsed": false
   },
   "source": [
    "Polyfit"
   ]
  },
  {
   "cell_type": "code",
   "execution_count": 62,
   "metadata": {
    "collapsed": false
   },
   "outputs": [
    {
     "name": "stdout",
     "output_type": "stream",
     "text": [
      "Ridge Train Accuracy Score = 89.03\n",
      "Ridge Test Accuracy Score = 65.10\n",
      "Ridge Residual Sum of Squares = 47940\n",
      "Ridge Root Mean Squre Error = 3.68\n"
     ]
    },
    {
     "data": {
      "text/plain": [
       "()"
      ]
     },
     "execution_count": 62,
     "metadata": {},
     "output_type": "execute_result"
    }
   ],
   "source": [
    "ridge_regression_fit(X1, y_train_df, X2, y_test_df)"
   ]
  },
  {
   "cell_type": "code",
   "execution_count": 68,
   "metadata": {
    "collapsed": false
   },
   "outputs": [
    {
     "name": "stdout",
     "output_type": "stream",
     "text": [
      "Polynomial Regression Train Accuracy Score = 72.53\n",
      "Polynomial Regression Test Accuracy Score = 100.00\n",
      "Polynomial Regression Residual Sum of Squares = 88800\n",
      "Polynomial Regression Root Mean Squre Error = 5.01\n"
     ]
    },
    {
     "data": {
      "text/plain": [
       "()"
      ]
     },
     "execution_count": 68,
     "metadata": {},
     "output_type": "execute_result"
    }
   ],
   "source": [
    "polynomial_regression_fit(X1, y_train_df, X2, y_test_df)"
   ]
  },
  {
   "cell_type": "markdown",
   "metadata": {},
   "source": [
    "Polynomial regression score test accuracy of 100, so the model is the best fit."
   ]
  },
  {
   "cell_type": "markdown",
   "metadata": {
    "collapsed": true
   },
   "source": [
    "**Fitting Ridge Regression with PCA**"
   ]
  },
  {
   "cell_type": "markdown",
   "metadata": {},
   "source": [
    "Ridge CV"
   ]
  },
  {
   "cell_type": "code",
   "execution_count": 99,
   "metadata": {
    "collapsed": true
   },
   "outputs": [],
   "source": [
    "# Create ridge regression with three possible alpha values\n",
    "regr_cv = RidgeCV(alphas=[0.1, 1.0, 10.0, 100.0])"
   ]
  },
  {
   "cell_type": "code",
   "execution_count": 100,
   "metadata": {
    "collapsed": false
   },
   "outputs": [],
   "source": [
    "# Fit the linear regression\n",
    "model_cv = regr_cv.fit(X1, y_train_df)"
   ]
  },
  {
   "cell_type": "code",
   "execution_count": 101,
   "metadata": {
    "collapsed": false
   },
   "outputs": [
    {
     "data": {
      "text/plain": [
       "100.0"
      ]
     },
     "execution_count": 101,
     "metadata": {},
     "output_type": "execute_result"
    }
   ],
   "source": [
    "# View alpha\n",
    "model_cv.alpha_"
   ]
  },
  {
   "cell_type": "code",
   "execution_count": 108,
   "metadata": {
    "collapsed": true
   },
   "outputs": [],
   "source": [
    "alpha = 10000"
   ]
  },
  {
   "cell_type": "code",
   "execution_count": 63,
   "metadata": {
    "collapsed": false
   },
   "outputs": [],
   "source": [
    "def ridge_regression_fit2(alpha, x_train, y_train, x_test, y_test):\n",
    "    clf = Ridge(alpha)\n",
    "    clf.fit(x_train, y_train)\n",
    "    train_score = clf.score(x_train, y_train)\n",
    "    test_score = clf.score(x_test, y_test)\n",
    "    y_pred = clf.predict(x_test)\n",
    "    rss = sum((y_pred-y_test)**2)\n",
    "    rms = sqrt(mean_squared_error(y_test, y_pred))\n",
    "    print(\"Ridge Train Accuracy Score = {:.2f}\".format(train_score*100))\n",
    "    print(\"Ridge Test Accuracy Score = {:.2f}\".format(test_score*100))\n",
    "    print(\"Ridge Residual Sum of Squares = %d\" % rss)\n",
    "    print(\"Ridge Root Mean Squre Error = {:.2f}\" .format(rms))\n",
    "    return()"
   ]
  },
  {
   "cell_type": "code",
   "execution_count": 110,
   "metadata": {
    "collapsed": false
   },
   "outputs": [
    {
     "name": "stdout",
     "output_type": "stream",
     "text": [
      "Ridge Train Accuracy Score = 87.59\n",
      "Ridge Test Accuracy Score = 68.36\n",
      "Ridge Residual Sum of Squares = 43454\n",
      "Ridge Root Mean Squre Error = 3.51\n"
     ]
    },
    {
     "data": {
      "text/plain": [
       "()"
      ]
     },
     "execution_count": 110,
     "metadata": {},
     "output_type": "execute_result"
    }
   ],
   "source": [
    "ridge_regression_fit2(alpha, X1, y_train_df, X2, y_test_df)"
   ]
  },
  {
   "cell_type": "code",
   "execution_count": 129,
   "metadata": {
    "collapsed": false
   },
   "outputs": [
    {
     "name": "stdout",
     "output_type": "stream",
     "text": [
      "(13985, 20)\n",
      "(3536, 20)\n",
      "(13985, 1)\n",
      "(3536, 1)\n"
     ]
    }
   ],
   "source": [
    "print(X1.shape)\n",
    "print(X2.shape)\n",
    "print(y_train_df.shape)\n",
    "print(y_test_df.shape)"
   ]
  },
  {
   "cell_type": "code",
   "execution_count": 176,
   "metadata": {
    "collapsed": false
   },
   "outputs": [],
   "source": [
    "# We can view the regression coefficients\n",
    "#print('Regression Coefficients: \\n', lm.coef_)"
   ]
  },
  {
   "cell_type": "code",
   "execution_count": 179,
   "metadata": {
    "collapsed": true
   },
   "outputs": [],
   "source": [
    "lm.fit(X1, y_train_df)\n",
    "y_pred = lm.predict(X2)"
   ]
  },
  {
   "cell_type": "code",
   "execution_count": 184,
   "metadata": {
    "collapsed": false
   },
   "outputs": [
    {
     "data": {
      "image/png": "[encoded data removed]",
      "text/plain": [
       "<matplotlib.figure.Figure at 0x126a44cc0>"
      ]
     },
     "metadata": {},
     "output_type": "display_data"
    }
   ],
   "source": [
    "# Plot outputs\n",
    "%matplotlib inline\n",
    "plt.plot(y_pred, y_test_df,'ro')\n",
    "plt.plot([40,100],[40,100], 'g-')\n",
    "plt.xlabel('predicted')\n",
    "plt.ylabel('real')\n",
    "plt.show()"
   ]
  },
  {
   "cell_type": "code",
   "execution_count": 55,
   "metadata": {
    "collapsed": true
   },
   "outputs": [],
   "source": [
    "from sklearn.model_selection import cross_val_score\n",
    "from sklearn import metrics\n",
    "from sklearn.model_selection import ShuffleSplit\n",
    "from sklearn import preprocessing\n",
    "from sklearn.pipeline import make_pipeline\n",
    "from sklearn import svm\n",
    "import timeit\n",
    "from sklearn.model_selection import cross_val_predict"
   ]
  },
  {
   "cell_type": "code",
   "execution_count": 57,
   "metadata": {
    "collapsed": false
   },
   "outputs": [
    {
     "name": "stdout",
     "output_type": "stream",
     "text": [
      "hi\n"
     ]
    }
   ],
   "source": [
    "print('hi')"
   ]
  },
  {
   "cell_type": "code",
   "execution_count": 58,
   "metadata": {
    "collapsed": true
   },
   "outputs": [],
   "source": [
    "# define function for calculating cross validation scores for a model\n",
    "def kfold_cross_val_score(clf, x_train, y_train):\n",
    "    start_time = timeit.default_timer()\n",
    "    #function to calculate accuracy on kfold cross validation for a given model, define model as clf prior to calling function\n",
    "    kfold = KFold(n_splits=5, shuffle=True, random_state=0)\n",
    "    scores = cross_val_score(clf, x_train, y_train, cv=kfold)\n",
    "    predicted = cross_val_predict(clf, x_train, y_train, cv=kfold)\n",
    "    elapsed = timeit.default_timer() - start_time\n",
    "    print('Time elapsed: = {:.2f} '.format(elapsed))\n",
    "    print(\"Cross-validation scores:\\n{}\".format(scores))\n",
    "    print(\"Accuracy: %0.4f (+/- %0.4f)\" % (scores.mean(), scores.std() * 2))\n",
    "    return()"
   ]
  },
  {
   "cell_type": "code",
   "execution_count": 259,
   "metadata": {
    "collapsed": false
   },
   "outputs": [
    {
     "name": "stdout",
     "output_type": "stream",
     "text": [
      "SVR CV Accuracy Scores\n",
      "Time elapsed: = 56.25 \n",
      "Cross-validation scores:\n",
      "[ 0.96461613  0.96095072  0.96102415  0.96214079  0.95297776]\n",
      "Accuracy: 0.9603 (+/- 0.0078)\n"
     ]
    },
    {
     "data": {
      "text/plain": [
       "()"
      ]
     },
     "execution_count": 259,
     "metadata": {},
     "output_type": "execute_result"
    }
   ],
   "source": [
    "print('SVR CV Accuracy Scores')\n",
    "clf = SVR(C=2.0, epsilon=0.5, kernel='rbf')\n",
    "kfold_cross_val_score(clf, X1, y_train_df)"
   ]
  },
  {
   "cell_type": "code",
   "execution_count": 235,
   "metadata": {
    "collapsed": false
   },
   "outputs": [
    {
     "name": "stdout",
     "output_type": "stream",
     "text": [
      "Ridge Regression CV Accuracy Scores\n",
      "Time elapsed: = 0.00 \n",
      "Cross-validation scores:\n",
      "[ 0.88977422  0.87632593  0.89332     0.89625558  0.89035015]\n",
      "Accuracy: 0.8892 (+/- 0.0137)\n"
     ]
    },
    {
     "data": {
      "text/plain": [
       "()"
      ]
     },
     "execution_count": 235,
     "metadata": {},
     "output_type": "execute_result"
    }
   ],
   "source": [
    "print('Ridge Regression CV Accuracy Scores')\n",
    "clf = Ridge(alpha = 100)\n",
    "kfold_cross_val_score(clf, X1, y_train_df)"
   ]
  },
  {
   "cell_type": "code",
   "execution_count": null,
   "metadata": {
    "collapsed": true
   },
   "outputs": [],
   "source": [
    "print('Ridge Regression CV Accuracy Scores')\n",
    "clf = Ridge(alpha = 100)\n",
    "kfold_cross_val_score(clf, X1, y_train_df)"
   ]
  },
  {
   "cell_type": "code",
   "execution_count": 65,
   "metadata": {
    "collapsed": false
   },
   "outputs": [
    {
     "name": "stdout",
     "output_type": "stream",
     "text": [
      "Ridge Train Accuracy Score = 89.03\n",
      "Ridge Test Accuracy Score = 65.11\n",
      "Ridge Residual Sum of Squares = 47928\n",
      "Ridge Root Mean Squre Error = 3.68\n"
     ]
    },
    {
     "data": {
      "text/plain": [
       "()"
      ]
     },
     "execution_count": 65,
     "metadata": {},
     "output_type": "execute_result"
    }
   ],
   "source": [
    "ridge_regression_fit2(10, X1, y_train_df, X2, y_test_df)"
   ]
  },
  {
   "cell_type": "code",
   "execution_count": 66,
   "metadata": {
    "collapsed": false
   },
   "outputs": [
    {
     "name": "stdout",
     "output_type": "stream",
     "text": [
      "Ridge Train Accuracy Score = 89.03\n",
      "Ridge Test Accuracy Score = 65.19\n",
      "Ridge Residual Sum of Squares = 47819\n",
      "Ridge Root Mean Squre Error = 3.68\n"
     ]
    },
    {
     "data": {
      "text/plain": [
       "()"
      ]
     },
     "execution_count": 66,
     "metadata": {},
     "output_type": "execute_result"
    }
   ],
   "source": [
    "ridge_regression_fit2(100, X1, y_train_df, X2, y_test_df)"
   ]
  },
  {
   "cell_type": "code",
   "execution_count": 67,
   "metadata": {
    "collapsed": false
   },
   "outputs": [
    {
     "name": "stdout",
     "output_type": "stream",
     "text": [
      "Ridge Train Accuracy Score = 88.99\n",
      "Ridge Test Accuracy Score = 65.86\n",
      "Ridge Residual Sum of Squares = 46891\n",
      "Ridge Root Mean Squre Error = 3.64\n"
     ]
    },
    {
     "data": {
      "text/plain": [
       "()"
      ]
     },
     "execution_count": 67,
     "metadata": {},
     "output_type": "execute_result"
    }
   ],
   "source": [
    "ridge_regression_fit2(1000, X1, y_train_df, X2, y_test_df)"
   ]
  },
  {
   "cell_type": "code",
   "execution_count": 81,
   "metadata": {
    "collapsed": false
   },
   "outputs": [
    {
     "name": "stdout",
     "output_type": "stream",
     "text": [
      "Ridge Train Accuracy Score = 86.57\n",
      "Ridge Test Accuracy Score = 68.60\n",
      "Ridge Residual Sum of Squares = 43131\n",
      "Ridge Root Mean Squre Error = 3.49\n"
     ]
    },
    {
     "data": {
      "text/plain": [
       "()"
      ]
     },
     "execution_count": 81,
     "metadata": {},
     "output_type": "execute_result"
    }
   ],
   "source": [
    "ridge_regression_fit2(15000, X1, y_train_df, X2, y_test_df)"
   ]
  },
  {
   "cell_type": "code",
   "execution_count": null,
   "metadata": {
    "collapsed": true
   },
   "outputs": [],
   "source": [
    "fit_intercept=True, normalize=False"
   ]
  },
  {
   "cell_type": "code",
   "execution_count": 137,
   "metadata": {
    "collapsed": false
   },
   "outputs": [
    {
     "name": "stdout",
     "output_type": "stream",
     "text": [
      "Ridge Train Accuracy Score = 86.51\n",
      "Ridge Test Accuracy Score = 68.05\n",
      "Ridge Residual Sum of Squares = 43878\n",
      "Ridge Root Mean Squre Error = 3.52\n"
     ]
    }
   ],
   "source": [
    "#fit a ridge regression on the data and get accuracy score of ridge regression model\n",
    "clf = Ridge(alpha=180)\n",
    "clf.fit(X_train_norm, y_train_df)\n",
    "train_score = clf.score(X_train_norm, y_train_df)\n",
    "test_score = clf.score(X_test_norm, y_test_df)\n",
    "y_pred = clf.predict(X_test_norm)\n",
    "rss = sum((y_pred-y_test_df)**2)\n",
    "rms = sqrt(mean_squared_error(y_test_df, y_pred))\n",
    "print(\"Ridge Train Accuracy Score = {:.2f}\".format(train_score*100))\n",
    "print(\"Ridge Test Accuracy Score = {:.2f}\".format(test_score*100))\n",
    "print(\"Ridge Residual Sum of Squares = %d\" % rss)\n",
    "print(\"Ridge Root Mean Squre Error = {:.2f}\" .format(rms))"
   ]
  },
  {
   "cell_type": "code",
   "execution_count": null,
   "metadata": {
    "collapsed": true
   },
   "outputs": [],
   "source": []
  },
  {
   "cell_type": "code",
   "execution_count": null,
   "metadata": {
    "collapsed": true
   },
   "outputs": [],
   "source": [
    "#from sklearn.preprocessing import MinMaxScaler\n",
    "scaling = MinMaxScaler(feature_range=(-1,1)).fit(X1)\n",
    "X_train_norm = scaling.transform(X1)\n",
    "X_test_norm = scaling.transform(X2)"
   ]
  },
  {
   "cell_type": "code",
   "execution_count": 143,
   "metadata": {
    "collapsed": false
   },
   "outputs": [
    {
     "name": "stdout",
     "output_type": "stream",
     "text": [
      "Fitting 2 folds for each of 16 candidates, totalling 32 fits\n"
     ]
    },
    {
     "name": "stderr",
     "output_type": "stream",
     "text": [
      "[Parallel(n_jobs=1)]: Done  32 out of  32 | elapsed:    0.2s finished\n"
     ]
    },
    {
     "data": {
      "text/html": [
       "<div>\n",
       "<table border=\"1\" class=\"dataframe\">\n",
       "  <thead>\n",
       "    <tr style=\"text-align: right;\">\n",
       "      <th></th>\n",
       "      <th>mean_fit_time</th>\n",
       "      <th>mean_score_time</th>\n",
       "      <th>mean_test_score</th>\n",
       "      <th>mean_train_score</th>\n",
       "      <th>param_alpha</th>\n",
       "      <th>params</th>\n",
       "      <th>rank_test_score</th>\n",
       "      <th>split0_test_score</th>\n",
       "      <th>split0_train_score</th>\n",
       "      <th>split1_test_score</th>\n",
       "      <th>split1_train_score</th>\n",
       "      <th>std_fit_time</th>\n",
       "      <th>std_score_time</th>\n",
       "      <th>std_test_score</th>\n",
       "      <th>std_train_score</th>\n",
       "    </tr>\n",
       "  </thead>\n",
       "  <tbody>\n",
       "    <tr>\n",
       "      <th>0</th>\n",
       "      <td>0.004726</td>\n",
       "      <td>0.000587</td>\n",
       "      <td>-14.048381</td>\n",
       "      <td>-8.529886</td>\n",
       "      <td>200</td>\n",
       "      <td>{'alpha': 200}</td>\n",
       "      <td>16</td>\n",
       "      <td>-12.626015</td>\n",
       "      <td>-8.534487</td>\n",
       "      <td>-15.470951</td>\n",
       "      <td>-8.525284</td>\n",
       "      <td>0.000023</td>\n",
       "      <td>0.000045</td>\n",
       "      <td>1.422468</td>\n",
       "      <td>0.004602</td>\n",
       "    </tr>\n",
       "    <tr>\n",
       "      <th>1</th>\n",
       "      <td>0.004704</td>\n",
       "      <td>0.000618</td>\n",
       "      <td>-13.029001</td>\n",
       "      <td>-8.042697</td>\n",
       "      <td>180</td>\n",
       "      <td>{'alpha': 180}</td>\n",
       "      <td>15</td>\n",
       "      <td>-11.749565</td>\n",
       "      <td>-8.060166</td>\n",
       "      <td>-14.308620</td>\n",
       "      <td>-8.025228</td>\n",
       "      <td>0.000190</td>\n",
       "      <td>0.000020</td>\n",
       "      <td>1.279528</td>\n",
       "      <td>0.017469</td>\n",
       "    </tr>\n",
       "    <tr>\n",
       "      <th>2</th>\n",
       "      <td>0.004153</td>\n",
       "      <td>0.000489</td>\n",
       "      <td>-8.788844</td>\n",
       "      <td>-6.136622</td>\n",
       "      <td>100</td>\n",
       "      <td>{'alpha': 100}</td>\n",
       "      <td>14</td>\n",
       "      <td>-8.171905</td>\n",
       "      <td>-6.252459</td>\n",
       "      <td>-9.405871</td>\n",
       "      <td>-6.020785</td>\n",
       "      <td>0.000515</td>\n",
       "      <td>0.000058</td>\n",
       "      <td>0.616983</td>\n",
       "      <td>0.115837</td>\n",
       "    </tr>\n",
       "    <tr>\n",
       "      <th>3</th>\n",
       "      <td>0.004299</td>\n",
       "      <td>0.000680</td>\n",
       "      <td>-5.467365</td>\n",
       "      <td>-4.794737</td>\n",
       "      <td>25</td>\n",
       "      <td>{'alpha': 25}</td>\n",
       "      <td>13</td>\n",
       "      <td>-5.317496</td>\n",
       "      <td>-5.055844</td>\n",
       "      <td>-5.617255</td>\n",
       "      <td>-4.533629</td>\n",
       "      <td>0.000040</td>\n",
       "      <td>0.000234</td>\n",
       "      <td>0.149879</td>\n",
       "      <td>0.261108</td>\n",
       "    </tr>\n",
       "    <tr>\n",
       "      <th>4</th>\n",
       "      <td>0.004686</td>\n",
       "      <td>0.000589</td>\n",
       "      <td>-5.173020</td>\n",
       "      <td>-4.677586</td>\n",
       "      <td>10</td>\n",
       "      <td>{'alpha': 10}</td>\n",
       "      <td>12</td>\n",
       "      <td>-4.981789</td>\n",
       "      <td>-4.958212</td>\n",
       "      <td>-5.364279</td>\n",
       "      <td>-4.396961</td>\n",
       "      <td>0.000072</td>\n",
       "      <td>0.000008</td>\n",
       "      <td>0.191245</td>\n",
       "      <td>0.280625</td>\n",
       "    </tr>\n",
       "    <tr>\n",
       "      <th>5</th>\n",
       "      <td>0.003998</td>\n",
       "      <td>0.000564</td>\n",
       "      <td>-5.129483</td>\n",
       "      <td>-4.656466</td>\n",
       "      <td>4</td>\n",
       "      <td>{'alpha': 4}</td>\n",
       "      <td>7</td>\n",
       "      <td>-4.891889</td>\n",
       "      <td>-4.941002</td>\n",
       "      <td>-5.367111</td>\n",
       "      <td>-4.371929</td>\n",
       "      <td>0.000066</td>\n",
       "      <td>0.000056</td>\n",
       "      <td>0.237611</td>\n",
       "      <td>0.284536</td>\n",
       "    </tr>\n",
       "    <tr>\n",
       "      <th>6</th>\n",
       "      <td>0.003774</td>\n",
       "      <td>0.000515</td>\n",
       "      <td>-5.126569</td>\n",
       "      <td>-4.653296</td>\n",
       "      <td>2</td>\n",
       "      <td>{'alpha': 2}</td>\n",
       "      <td>1</td>\n",
       "      <td>-4.868767</td>\n",
       "      <td>-4.938444</td>\n",
       "      <td>-5.384408</td>\n",
       "      <td>-4.368147</td>\n",
       "      <td>0.000075</td>\n",
       "      <td>0.000084</td>\n",
       "      <td>0.257821</td>\n",
       "      <td>0.285149</td>\n",
       "    </tr>\n",
       "    <tr>\n",
       "      <th>7</th>\n",
       "      <td>0.005351</td>\n",
       "      <td>0.000509</td>\n",
       "      <td>-5.127477</td>\n",
       "      <td>-4.652488</td>\n",
       "      <td>1</td>\n",
       "      <td>{'alpha': 1.0}</td>\n",
       "      <td>2</td>\n",
       "      <td>-4.858595</td>\n",
       "      <td>-4.937796</td>\n",
       "      <td>-5.396397</td>\n",
       "      <td>-4.367181</td>\n",
       "      <td>0.001501</td>\n",
       "      <td>0.000069</td>\n",
       "      <td>0.268901</td>\n",
       "      <td>0.285307</td>\n",
       "    </tr>\n",
       "    <tr>\n",
       "      <th>8</th>\n",
       "      <td>0.004088</td>\n",
       "      <td>0.000644</td>\n",
       "      <td>-5.127854</td>\n",
       "      <td>-4.652391</td>\n",
       "      <td>0.8</td>\n",
       "      <td>{'alpha': 0.8}</td>\n",
       "      <td>3</td>\n",
       "      <td>-4.856675</td>\n",
       "      <td>-4.937717</td>\n",
       "      <td>-5.399071</td>\n",
       "      <td>-4.367064</td>\n",
       "      <td>0.000241</td>\n",
       "      <td>0.000065</td>\n",
       "      <td>0.271198</td>\n",
       "      <td>0.285326</td>\n",
       "    </tr>\n",
       "    <tr>\n",
       "      <th>9</th>\n",
       "      <td>0.003878</td>\n",
       "      <td>0.000526</td>\n",
       "      <td>-5.128542</td>\n",
       "      <td>-4.652285</td>\n",
       "      <td>0.5</td>\n",
       "      <td>{'alpha': 0.5}</td>\n",
       "      <td>4</td>\n",
       "      <td>-4.853868</td>\n",
       "      <td>-4.937632</td>\n",
       "      <td>-5.403256</td>\n",
       "      <td>-4.366937</td>\n",
       "      <td>0.000060</td>\n",
       "      <td>0.000068</td>\n",
       "      <td>0.274694</td>\n",
       "      <td>0.285348</td>\n",
       "    </tr>\n",
       "    <tr>\n",
       "      <th>10</th>\n",
       "      <td>0.004148</td>\n",
       "      <td>0.000532</td>\n",
       "      <td>-5.129084</td>\n",
       "      <td>-4.652241</td>\n",
       "      <td>0.3</td>\n",
       "      <td>{'alpha': 0.3}</td>\n",
       "      <td>5</td>\n",
       "      <td>-4.852045</td>\n",
       "      <td>-4.937597</td>\n",
       "      <td>-5.406163</td>\n",
       "      <td>-4.366885</td>\n",
       "      <td>0.000339</td>\n",
       "      <td>0.000060</td>\n",
       "      <td>0.277059</td>\n",
       "      <td>0.285356</td>\n",
       "    </tr>\n",
       "    <tr>\n",
       "      <th>11</th>\n",
       "      <td>0.004400</td>\n",
       "      <td>0.000479</td>\n",
       "      <td>-5.129380</td>\n",
       "      <td>-4.652227</td>\n",
       "      <td>0.2</td>\n",
       "      <td>{'alpha': 0.2}</td>\n",
       "      <td>6</td>\n",
       "      <td>-4.851148</td>\n",
       "      <td>-4.937586</td>\n",
       "      <td>-5.407652</td>\n",
       "      <td>-4.366868</td>\n",
       "      <td>0.000535</td>\n",
       "      <td>0.000052</td>\n",
       "      <td>0.278252</td>\n",
       "      <td>0.285359</td>\n",
       "    </tr>\n",
       "    <tr>\n",
       "      <th>12</th>\n",
       "      <td>0.004382</td>\n",
       "      <td>0.000545</td>\n",
       "      <td>-5.129693</td>\n",
       "      <td>-4.652219</td>\n",
       "      <td>0.1</td>\n",
       "      <td>{'alpha': 0.1}</td>\n",
       "      <td>8</td>\n",
       "      <td>-4.850261</td>\n",
       "      <td>-4.937580</td>\n",
       "      <td>-5.409165</td>\n",
       "      <td>-4.366859</td>\n",
       "      <td>0.000032</td>\n",
       "      <td>0.000005</td>\n",
       "      <td>0.279452</td>\n",
       "      <td>0.285361</td>\n",
       "    </tr>\n",
       "    <tr>\n",
       "      <th>13</th>\n",
       "      <td>0.004557</td>\n",
       "      <td>0.000654</td>\n",
       "      <td>-5.129856</td>\n",
       "      <td>-4.652217</td>\n",
       "      <td>0.05</td>\n",
       "      <td>{'alpha': 0.05}</td>\n",
       "      <td>9</td>\n",
       "      <td>-4.849821</td>\n",
       "      <td>-4.937578</td>\n",
       "      <td>-5.409930</td>\n",
       "      <td>-4.366856</td>\n",
       "      <td>0.000165</td>\n",
       "      <td>0.000019</td>\n",
       "      <td>0.280055</td>\n",
       "      <td>0.285361</td>\n",
       "    </tr>\n",
       "    <tr>\n",
       "      <th>14</th>\n",
       "      <td>0.007555</td>\n",
       "      <td>0.000904</td>\n",
       "      <td>-5.129955</td>\n",
       "      <td>-4.652216</td>\n",
       "      <td>0.02</td>\n",
       "      <td>{'alpha': 0.02}</td>\n",
       "      <td>10</td>\n",
       "      <td>-4.849558</td>\n",
       "      <td>-4.937578</td>\n",
       "      <td>-5.410392</td>\n",
       "      <td>-4.366855</td>\n",
       "      <td>0.000968</td>\n",
       "      <td>0.000351</td>\n",
       "      <td>0.280417</td>\n",
       "      <td>0.285361</td>\n",
       "    </tr>\n",
       "    <tr>\n",
       "      <th>15</th>\n",
       "      <td>0.004700</td>\n",
       "      <td>0.000552</td>\n",
       "      <td>-5.129989</td>\n",
       "      <td>-4.652216</td>\n",
       "      <td>0.01</td>\n",
       "      <td>{'alpha': 0.01}</td>\n",
       "      <td>11</td>\n",
       "      <td>-4.849471</td>\n",
       "      <td>-4.937577</td>\n",
       "      <td>-5.410547</td>\n",
       "      <td>-4.366855</td>\n",
       "      <td>0.000311</td>\n",
       "      <td>0.000028</td>\n",
       "      <td>0.280538</td>\n",
       "      <td>0.285361</td>\n",
       "    </tr>\n",
       "  </tbody>\n",
       "</table>\n",
       "</div>"
      ],
      "text/plain": [
       "    mean_fit_time  mean_score_time  mean_test_score  mean_train_score  \\\n",
       "0        0.004726         0.000587       -14.048381         -8.529886   \n",
       "1        0.004704         0.000618       -13.029001         -8.042697   \n",
       "2        0.004153         0.000489        -8.788844         -6.136622   \n",
       "3        0.004299         0.000680        -5.467365         -4.794737   \n",
       "4        0.004686         0.000589        -5.173020         -4.677586   \n",
       "5        0.003998         0.000564        -5.129483         -4.656466   \n",
       "6        0.003774         0.000515        -5.126569         -4.653296   \n",
       "7        0.005351         0.000509        -5.127477         -4.652488   \n",
       "8        0.004088         0.000644        -5.127854         -4.652391   \n",
       "9        0.003878         0.000526        -5.128542         -4.652285   \n",
       "10       0.004148         0.000532        -5.129084         -4.652241   \n",
       "11       0.004400         0.000479        -5.129380         -4.652227   \n",
       "12       0.004382         0.000545        -5.129693         -4.652219   \n",
       "13       0.004557         0.000654        -5.129856         -4.652217   \n",
       "14       0.007555         0.000904        -5.129955         -4.652216   \n",
       "15       0.004700         0.000552        -5.129989         -4.652216   \n",
       "\n",
       "   param_alpha           params  rank_test_score  split0_test_score  \\\n",
       "0          200   {'alpha': 200}               16         -12.626015   \n",
       "1          180   {'alpha': 180}               15         -11.749565   \n",
       "2          100   {'alpha': 100}               14          -8.171905   \n",
       "3           25    {'alpha': 25}               13          -5.317496   \n",
       "4           10    {'alpha': 10}               12          -4.981789   \n",
       "5            4     {'alpha': 4}                7          -4.891889   \n",
       "6            2     {'alpha': 2}                1          -4.868767   \n",
       "7            1   {'alpha': 1.0}                2          -4.858595   \n",
       "8          0.8   {'alpha': 0.8}                3          -4.856675   \n",
       "9          0.5   {'alpha': 0.5}                4          -4.853868   \n",
       "10         0.3   {'alpha': 0.3}                5          -4.852045   \n",
       "11         0.2   {'alpha': 0.2}                6          -4.851148   \n",
       "12         0.1   {'alpha': 0.1}                8          -4.850261   \n",
       "13        0.05  {'alpha': 0.05}                9          -4.849821   \n",
       "14        0.02  {'alpha': 0.02}               10          -4.849558   \n",
       "15        0.01  {'alpha': 0.01}               11          -4.849471   \n",
       "\n",
       "    split0_train_score  split1_test_score  split1_train_score  std_fit_time  \\\n",
       "0            -8.534487         -15.470951           -8.525284      0.000023   \n",
       "1            -8.060166         -14.308620           -8.025228      0.000190   \n",
       "2            -6.252459          -9.405871           -6.020785      0.000515   \n",
       "3            -5.055844          -5.617255           -4.533629      0.000040   \n",
       "4            -4.958212          -5.364279           -4.396961      0.000072   \n",
       "5            -4.941002          -5.367111           -4.371929      0.000066   \n",
       "6            -4.938444          -5.384408           -4.368147      0.000075   \n",
       "7            -4.937796          -5.396397           -4.367181      0.001501   \n",
       "8            -4.937717          -5.399071           -4.367064      0.000241   \n",
       "9            -4.937632          -5.403256           -4.366937      0.000060   \n",
       "10           -4.937597          -5.406163           -4.366885      0.000339   \n",
       "11           -4.937586          -5.407652           -4.366868      0.000535   \n",
       "12           -4.937580          -5.409165           -4.366859      0.000032   \n",
       "13           -4.937578          -5.409930           -4.366856      0.000165   \n",
       "14           -4.937578          -5.410392           -4.366855      0.000968   \n",
       "15           -4.937577          -5.410547           -4.366855      0.000311   \n",
       "\n",
       "    std_score_time  std_test_score  std_train_score  \n",
       "0         0.000045        1.422468         0.004602  \n",
       "1         0.000020        1.279528         0.017469  \n",
       "2         0.000058        0.616983         0.115837  \n",
       "3         0.000234        0.149879         0.261108  \n",
       "4         0.000008        0.191245         0.280625  \n",
       "5         0.000056        0.237611         0.284536  \n",
       "6         0.000084        0.257821         0.285149  \n",
       "7         0.000069        0.268901         0.285307  \n",
       "8         0.000065        0.271198         0.285326  \n",
       "9         0.000068        0.274694         0.285348  \n",
       "10        0.000060        0.277059         0.285356  \n",
       "11        0.000052        0.278252         0.285359  \n",
       "12        0.000005        0.279452         0.285361  \n",
       "13        0.000019        0.280055         0.285361  \n",
       "14        0.000351        0.280417         0.285361  \n",
       "15        0.000028        0.280538         0.285361  "
      ]
     },
     "execution_count": 143,
     "metadata": {},
     "output_type": "execute_result"
    }
   ],
   "source": [
    "params={'alpha': [200, 180, 100, 25,10,4,2,1.0,0.8,0.5,0.3,0.2,0.1,0.05,0.02,0.01]}\n",
    "rdg_reg = Ridge(normalize=False)\n",
    "clf = GridSearchCV(rdg_reg,params,cv=2,verbose = 1, scoring = 'neg_mean_squared_error')\n",
    "clf.fit(X_train_norm, y_train_df)\n",
    "train_score2 = clf.score(X_train_norm, y_train_df)\n",
    "#test_score2 = clf.score(X_test_norm, y_test_df)\n",
    "clf.best_params_\n",
    "\n",
    "#{'alpha': 4}\n",
    "\n",
    "pd.DataFrame(clf.cv_results_)\n",
    "\n"
   ]
  },
  {
   "cell_type": "code",
   "execution_count": 109,
   "metadata": {
    "collapsed": false
   },
   "outputs": [
    {
     "name": "stdout",
     "output_type": "stream",
     "text": [
      "Ridge Train Accuracy Score = -476.49\n",
      "Ridge Test Accuracy Score = -1352.37\n"
     ]
    }
   ],
   "source": [
    "print(\"Ridge Train Accuracy Score = {:.2f}\".format(train_score2*100))\n",
    "print(\"Ridge Test Accuracy Score = {:.2f}\".format(test_score2*100))"
   ]
  },
  {
   "cell_type": "code",
   "execution_count": null,
   "metadata": {
    "collapsed": true
   },
   "outputs": [],
   "source": []
  },
  {
   "cell_type": "code",
   "execution_count": null,
   "metadata": {
    "collapsed": true
   },
   "outputs": [],
   "source": []
  },
  {
   "cell_type": "code",
   "execution_count": null,
   "metadata": {
    "collapsed": true
   },
   "outputs": [],
   "source": []
  },
  {
   "cell_type": "code",
   "execution_count": 59,
   "metadata": {
    "collapsed": false
   },
   "outputs": [
    {
     "name": "stdout",
     "output_type": "stream",
     "text": [
      "Polynomial Regression CV Accuracy Scores\n",
      "Time elapsed: = 0.40 \n",
      "Cross-validation scores:\n",
      "[ 0.81073098  0.82049139  0.80454313  0.81132689  0.79963067]\n",
      "Accuracy: 0.8093 (+/- 0.0141)\n"
     ]
    },
    {
     "data": {
      "text/plain": [
       "()"
      ]
     },
     "execution_count": 59,
     "metadata": {},
     "output_type": "execute_result"
    }
   ],
   "source": [
    "print('Polynomial Regression CV Accuracy Scores')\n",
    "poly = PolynomialFeatures(degree=2)\n",
    "X_ = poly.fit_transform(X2)\n",
    "X_ = np.delete(X_,(1),axis=1)\n",
    "clf = lm.fit(X_, y_test_df)\n",
    "kfold_cross_val_score(clf, X_, y_test_df)"
   ]
  },
  {
   "cell_type": "code",
   "execution_count": 233,
   "metadata": {
    "collapsed": false
   },
   "outputs": [
    {
     "name": "stdout",
     "output_type": "stream",
     "text": [
      "Linear Regression Accuracy Scores\n",
      "Time elapsed: = 0.00 \n",
      "Cross-validation scores:\n",
      "[ 0.88979688  0.87638504  0.8933445   0.89616517  0.89031835]\n",
      "Accuracy: 0.8892 (+/- 0.0136)\n"
     ]
    },
    {
     "data": {
      "text/plain": [
       "()"
      ]
     },
     "execution_count": 233,
     "metadata": {},
     "output_type": "execute_result"
    }
   ],
   "source": [
    "print('Linear Regression CV Accuracy Scores')\n",
    "clf = lm.fit(X1, y_train_df)\n",
    "kfold_cross_val_score(clf, X1, y_train_df)"
   ]
  },
  {
   "cell_type": "markdown",
   "metadata": {
    "collapsed": true
   },
   "source": [
    "Fitting a SVR"
   ]
  },
  {
   "cell_type": "markdown",
   "metadata": {},
   "source": [
    "Use the PCA components from above and fit a SVR model:"
   ]
  },
  {
   "cell_type": "code",
   "execution_count": 286,
   "metadata": {
    "collapsed": true
   },
   "outputs": [],
   "source": [
    "def svr_fit2(x_train, y_train, x_test, y_test):\n",
    "    #fit a svr model on the data and get accuracy score of svr model\n",
    "    svr = SVR(C=2.0, epsilon=0.5, kernel='rbf')\n",
    "    svr.fit(X1,y_train)\n",
    "    \n",
    "    pred_SVR = svr.predict(x_test)\n",
    "    a = []\n",
    "    a.append(pred_SVR)\n",
    "    a = np.array(a)\n",
    "    a.flatten()\n",
    "    \n",
    "    svr_train_score = svr.score(x_train, y_train)\n",
    "    svr_test_score = svr.score(x_test, y_test)\n",
    "    \n",
    "    rss_svr = sum((a.T-y_test)**2)\n",
    "    rms_svr = sqrt(mean_squared_error(y_test, pred_SVR))\n",
    "    \n",
    "    print(\"SVR Train Accuracy Score = {:.2f}\".format(svr_train_score*100))\n",
    "    print(\"SVR Test Accuracy Score = {:.2f}\".format(svr_test_score*100))\n",
    "    print(\"SVR Residual Sum of Squares = %d\" % rss_svr)\n",
    "    print(\"SVR Root Mean Squre Error = {:.2f}\" .format(rms_svr))\n",
    "    return()"
   ]
  },
  {
   "cell_type": "code",
   "execution_count": 287,
   "metadata": {
    "collapsed": false
   },
   "outputs": [
    {
     "name": "stdout",
     "output_type": "stream",
     "text": [
      "SVR Train Accuracy Score = 97.57\n",
      "SVR Test Accuracy Score = 67.66\n",
      "SVR Residual Sum of Squares = 44417\n",
      "SVR Root Mean Squre Error = 3.54\n"
     ]
    },
    {
     "data": {
      "text/plain": [
       "()"
      ]
     },
     "execution_count": 287,
     "metadata": {},
     "output_type": "execute_result"
    }
   ],
   "source": [
    "svr_fit2(X1, y_train_df, X2, y_test_df)"
   ]
  },
  {
   "cell_type": "code",
   "execution_count": 60,
   "metadata": {
    "collapsed": true
   },
   "outputs": [],
   "source": [
    "def polynomial_regression_fit2(x_train, y_train, x_test, y_test, degree):\n",
    "    #fit a polnomial regression on the data and get accuracy score of polynomial regression model\n",
    "    poly = PolynomialFeatures(degree)\n",
    "    vector = y_train\n",
    "    predict = x_test\n",
    "    #transform the x data for proper fitting (for single variable type it returns,[1,x,x**2]\n",
    "    X_ = poly.fit_transform(x_train)\n",
    "    #transform the prediction to fit the model type\n",
    "    predict_ = poly.fit_transform(predict)\n",
    "    #here we can remove polynomial orders we don't want\n",
    "    #for instance I'm removing the `x` component\n",
    "    X_ = np.delete(X_,(1),axis=1)\n",
    "    predict_ = np.delete(predict_,(1),axis=1)\n",
    "    #preform the actual regression\n",
    "    lm.fit(X_, vector)\n",
    "    y_pred = lm.predict(predict_)\n",
    "    train_score = lm.score(X_, vector)\n",
    "    test_score = lm.score(predict_, y_pred)\n",
    "    rss = sum((y_pred-y_test)**2)\n",
    "    rms = sqrt(mean_squared_error(y_test, y_pred))\n",
    "    print(\"Polynomial Regression Train Accuracy Score = {:.2f}\".format(train_score*100))\n",
    "    print(\"Polynomial Regression Test Accuracy Score = {:.2f}\".format(test_score*100))\n",
    "    print(\"Polynomial Regression Residual Sum of Squares = %d\" % rss)\n",
    "    print(\"Polynomial Regression Root Mean Squre Error = {:.2f}\" .format(rms))\n",
    "    return()\n"
   ]
  },
  {
   "cell_type": "code",
   "execution_count": 242,
   "metadata": {
    "collapsed": false
   },
   "outputs": [
    {
     "name": "stdout",
     "output_type": "stream",
     "text": [
      "Polynomial Regression Train Accuracy Score = 95.89\n",
      "Polynomial Regression Test Accuracy Score = 100.00\n",
      "Polynomial Regression Residual Sum of Squares = 670577\n",
      "Polynomial Regression Root Mean Squre Error = 13.77\n"
     ]
    },
    {
     "data": {
      "text/plain": [
       "()"
      ]
     },
     "execution_count": 242,
     "metadata": {},
     "output_type": "execute_result"
    }
   ],
   "source": [
    "polynomial_regression_fit2(X1, y_train_df, X2, y_test_df, degree=3)"
   ]
  },
  {
   "cell_type": "code",
   "execution_count": 61,
   "metadata": {
    "collapsed": false
   },
   "outputs": [
    {
     "name": "stdout",
     "output_type": "stream",
     "text": [
      "Polynomial Regression Train Accuracy Score = 72.53\n",
      "Polynomial Regression Test Accuracy Score = 100.00\n",
      "Polynomial Regression Residual Sum of Squares = 88800\n",
      "Polynomial Regression Root Mean Squre Error = 5.01\n"
     ]
    },
    {
     "data": {
      "text/plain": [
       "()"
      ]
     },
     "execution_count": 61,
     "metadata": {},
     "output_type": "execute_result"
    }
   ],
   "source": [
    "polynomial_regression_fit2(X1, y_train_df, X2, y_test_df, degree=2)"
   ]
  },
  {
   "cell_type": "code",
   "execution_count": null,
   "metadata": {
    "collapsed": true
   },
   "outputs": [],
   "source": []
  },
  {
   "cell_type": "code",
   "execution_count": 44,
   "metadata": {
    "collapsed": false
   },
   "outputs": [
    {
     "name": "stdout",
     "output_type": "stream",
     "text": [
      "SVR Train Accuracy Score = 97.57\n",
      "SVR Test Accuracy Score = 67.66\n",
      "SVR Regression Residual Sum of Squares = 44417\n",
      "SVR Root Mean Squre Error = 3.54\n"
     ]
    }
   ],
   "source": [
    "svr = SVR(C=2.0, epsilon=0.5, kernel='rbf')\n",
    "svr.fit(X1,y_train_df)\n",
    "    \n",
    "pred_SVR = svr.predict(X2)\n",
    "a = []\n",
    "a.append(pred_SVR)\n",
    "a = np.array(a)\n",
    "a.flatten()\n",
    "    \n",
    "svr_train_score = svr.score(X1, y_train_df)\n",
    "svr_test_score = svr.score(X2, y_test_df)\n",
    "    \n",
    "\n",
    "rss_svr = sum((a.T-y_test_df)**2)\n",
    "rms_svr = sqrt(mean_squared_error(y_test_df, a.T))\n",
    "    \n",
    "print(\"SVR Train Accuracy Score = {:.2f}\".format(svr_train_score*100))\n",
    "print(\"SVR Test Accuracy Score = {:.2f}\".format(svr_test_score*100))\n",
    "print(\"SVR Regression Residual Sum of Squares = %d\" % rss_svr)\n",
    "print(\"SVR Root Mean Squre Error = {:.2f}\" .format(rms_svr))"
   ]
  },
  {
   "cell_type": "code",
   "execution_count": null,
   "metadata": {
    "collapsed": true
   },
   "outputs": [],
   "source": []
  },
  {
   "cell_type": "code",
   "execution_count": null,
   "metadata": {
    "collapsed": true
   },
   "outputs": [],
   "source": []
  },
  {
   "cell_type": "code",
   "execution_count": 48,
   "metadata": {
    "collapsed": true
   },
   "outputs": [],
   "source": [
    "#from sklearn.preprocessing import MinMaxScaler\n",
    "scaling = MinMaxScaler(feature_range=(-1,1)).fit(X1)\n",
    "X_train_norm = scaling.transform(X1)\n",
    "X_test_norm = scaling.transform(X2)"
   ]
  },
  {
   "cell_type": "code",
   "execution_count": 50,
   "metadata": {
    "collapsed": false
   },
   "outputs": [
    {
     "name": "stdout",
     "output_type": "stream",
     "text": [
      "SVR Train Accuracy Score = 95.99\n",
      "SVR Test Accuracy Score = 65.66\n",
      "SVR Regression Residual Sum of Squares = 47168\n",
      "SVR Root Mean Squre Error = 3.65\n"
     ]
    }
   ],
   "source": [
    "svr = SVR(C=2.0, epsilon=0.3, gamma=0.1, kernel='rbf')\n",
    "svr.fit(X1,y_train_df)\n",
    "    \n",
    "pred_SVR = svr.predict(X2)\n",
    "a = []\n",
    "a.append(pred_SVR)\n",
    "a = np.array(a)\n",
    "a.flatten()\n",
    "    \n",
    "svr_train_score = svr.score(X1, y_train_df)\n",
    "svr_test_score = svr.score(X2, y_test_df)\n",
    "    \n",
    "\n",
    "rss_svr = sum((a.T-y_test_df)**2)\n",
    "rms_svr = sqrt(mean_squared_error(y_test_df, a.T))\n",
    "    \n",
    "print(\"SVR Train Accuracy Score = {:.2f}\".format(svr_train_score*100))\n",
    "print(\"SVR Test Accuracy Score = {:.2f}\".format(svr_test_score*100))\n",
    "print(\"SVR Regression Residual Sum of Squares = %d\" % rss_svr)\n",
    "print(\"SVR Root Mean Squre Error = {:.2f}\" .format(rms_svr))"
   ]
  },
  {
   "cell_type": "code",
   "execution_count": 53,
   "metadata": {
    "collapsed": false
   },
   "outputs": [
    {
     "name": "stdout",
     "output_type": "stream",
     "text": [
      "SVR Train Accuracy Score = 95.64\n",
      "SVR Test Accuracy Score = 67.32\n",
      "SVR Regression Residual Sum of Squares = 44884\n",
      "SVR Root Mean Squre Error1 = 3.56\n"
     ]
    }
   ],
   "source": [
    "svr = SVR(C=2.0, epsilon=0.3, gamma=0.1, kernel='rbf')\n",
    "svr.fit(X_train_norm,y_train_df)\n",
    "    \n",
    "pred_SVR = svr.predict(X_test_norm)\n",
    "a = []\n",
    "a.append(pred_SVR)\n",
    "a = np.array(a)\n",
    "a.flatten()\n",
    "    \n",
    "svr_train_score = svr.score(X_train_norm, y_train_df)\n",
    "svr_test_score = svr.score(X_test_norm, y_test_df)\n",
    "    \n",
    "\n",
    "rss_svr = sum((a.T-y_test_df)**2)\n",
    "rms_svr = sqrt(mean_squared_error(y_test_df, a.T))\n",
    "    \n",
    "print(\"SVR Train Accuracy Score = {:.2f}\".format(svr_train_score*100))\n",
    "print(\"SVR Test Accuracy Score = {:.2f}\".format(svr_test_score*100))\n",
    "print(\"SVR Regression Residual Sum of Squares = %d\" % rss_svr)\n",
    "print(\"SVR Root Mean Squre Error1 = {:.2f}\" .format(rms_svr))"
   ]
  },
  {
   "cell_type": "code",
   "execution_count": 280,
   "metadata": {
    "collapsed": false
   },
   "outputs": [
    {
     "name": "stdout",
     "output_type": "stream",
     "text": [
      "(3536, 1)\n"
     ]
    }
   ],
   "source": [
    "SVR Train Accuracy Score = 97.63\n",
    "SVR Test Accuracy Score = 66.62\n",
    "SVR Regression Residual Sum of Squares = 45852\n",
    "SVR Root Mean Squre Error = 3.60"
   ]
  },
  {
   "cell_type": "code",
   "execution_count": 281,
   "metadata": {
    "collapsed": false
   },
   "outputs": [
    {
     "name": "stdout",
     "output_type": "stream",
     "text": [
      "(3536,)\n"
     ]
    }
   ],
   "source": [
    "print(pred_SVR.shape)"
   ]
  },
  {
   "cell_type": "code",
   "execution_count": 278,
   "metadata": {
    "collapsed": false
   },
   "outputs": [
    {
     "ename": "TypeError",
     "evalue": "'tuple' object is not callable",
     "output_type": "error",
     "traceback": [
      "\u001b[0;31m---------------------------------------------------------------------------\u001b[0m",
      "\u001b[0;31mTypeError\u001b[0m                                 Traceback (most recent call last)",
      "\u001b[0;32m<ipython-input-278-c6fed4d0b05f>\u001b[0m in \u001b[0;36m<module>\u001b[0;34m()\u001b[0m\n\u001b[0;32m----> 1\u001b[0;31m \u001b[0mpred_SVR\u001b[0m\u001b[0;34m.\u001b[0m\u001b[0mT\u001b[0m\u001b[0;34m.\u001b[0m\u001b[0mshape\u001b[0m\u001b[0;34m(\u001b[0m\u001b[0;34m)\u001b[0m\u001b[0;34m\u001b[0m\u001b[0m\n\u001b[0m",
      "\u001b[0;31mTypeError\u001b[0m: 'tuple' object is not callable"
     ]
    }
   ],
   "source": [
    "pred_SVR.T.shape()"
   ]
  },
  {
   "cell_type": "code",
   "execution_count": 276,
   "metadata": {
    "collapsed": false
   },
   "outputs": [
    {
     "data": {
      "text/plain": [
       "array([ 67.20927181,  71.34793942,  69.45220047, ...,  68.33645988,\n",
       "        69.35968659,  68.04753483])"
      ]
     },
     "execution_count": 276,
     "metadata": {},
     "output_type": "execute_result"
    }
   ],
   "source": [
    "a = []\n",
    "a.append(pred_SVR)\n",
    "a = np.array(a)\n",
    "a.flatten()\n"
   ]
  },
  {
   "cell_type": "code",
   "execution_count": 277,
   "metadata": {
    "collapsed": false
   },
   "outputs": [
    {
     "name": "stdout",
     "output_type": "stream",
     "text": [
      "(3536, 1)\n"
     ]
    }
   ],
   "source": [
    "print(a.T.shape)"
   ]
  },
  {
   "cell_type": "code",
   "execution_count": 269,
   "metadata": {
    "collapsed": false
   },
   "outputs": [
    {
     "name": "stdout",
     "output_type": "stream",
     "text": [
      "(3536,)\n"
     ]
    }
   ],
   "source": [
    "pred_SVR\n",
    "y_pred = np.array(pred_SVR)\n",
    "#y = np.expand_dims(y_pred, axis=1)\n",
    "print(y_pred.shape)"
   ]
  },
  {
   "cell_type": "code",
   "execution_count": null,
   "metadata": {
    "collapsed": true
   },
   "outputs": [],
   "source": []
  },
  {
   "cell_type": "code",
   "execution_count": null,
   "metadata": {
    "collapsed": false
   },
   "outputs": [],
   "source": [
    "pred_SVR"
   ]
  },
  {
   "cell_type": "code",
   "execution_count": 35,
   "metadata": {
    "collapsed": true
   },
   "outputs": [],
   "source": [
    "from sklearn import svm, datasets\n",
    "from sklearn.model_selection import GridSearchCV\n",
    "from sklearn.model_selection import train_test_split"
   ]
  },
  {
   "cell_type": "code",
   "execution_count": 36,
   "metadata": {
    "collapsed": true
   },
   "outputs": [],
   "source": [
    "import random"
   ]
  },
  {
   "cell_type": "code",
   "execution_count": 49,
   "metadata": {
    "collapsed": false
   },
   "outputs": [
    {
     "data": {
      "text/plain": [
       "numpy.ndarray"
      ]
     },
     "execution_count": 49,
     "metadata": {},
     "output_type": "execute_result"
    }
   ],
   "source": [
    "type(X1)"
   ]
  },
  {
   "cell_type": "code",
   "execution_count": 35,
   "metadata": {
    "collapsed": false
   },
   "outputs": [],
   "source": [
    "X_train_sample, X_test_sample, y_train_sample, y_test_sample = train_test_split(\n",
    "...     X1, y_train_df, test_size=0.70, random_state=42)"
   ]
  },
  {
   "cell_type": "code",
   "execution_count": 36,
   "metadata": {
    "collapsed": false
   },
   "outputs": [
    {
     "data": {
      "text/plain": [
       "array([[  1.77373278e+00,  -4.94420936e+00,  -4.79692411e-01, ...,\n",
       "         -3.99698951e-01,  -2.63502095e-01,   2.44596648e-01],\n",
       "       [ -3.85885899e+00,   1.63144290e+00,  -1.41740132e+00, ...,\n",
       "          1.45458347e-03,   2.70944772e-02,   7.76193558e-01],\n",
       "       [ -1.04279330e-01,  -4.93179263e+00,  -7.98221530e-01, ...,\n",
       "         -1.20182898e-01,  -1.59958397e-01,  -1.27731007e-01],\n",
       "       ..., \n",
       "       [ -1.21522702e+00,   1.60692823e+00,  -8.08814310e-01, ...,\n",
       "          7.58486553e-01,  -7.85347461e-01,  -1.24645501e-01],\n",
       "       [ -3.12745978e+00,  -2.37695719e+00,   4.48541883e+00, ...,\n",
       "         -7.44207634e-01,  -4.77127009e-01,   6.42702948e-01],\n",
       "       [ -4.01036026e-01,  -1.52490772e+00,   4.94578228e+00, ...,\n",
       "          3.87104522e-01,   1.77262937e-01,  -4.67631283e-01]])"
      ]
     },
     "execution_count": 36,
     "metadata": {},
     "output_type": "execute_result"
    }
   ],
   "source": [
    "X_train_sample"
   ]
  },
  {
   "cell_type": "code",
   "execution_count": 37,
   "metadata": {
    "collapsed": false
   },
   "outputs": [],
   "source": [
    "from sklearn.preprocessing import MinMaxScaler\n",
    "scaling = MinMaxScaler(feature_range=(-1,1)).fit(X1)\n",
    "X_train_sample3 = scaling.transform(X1)"
   ]
  },
  {
   "cell_type": "code",
   "execution_count": 38,
   "metadata": {
    "collapsed": false
   },
   "outputs": [],
   "source": [
    "from sklearn import svm, grid_search\n",
    "def svr_param_selection(X, y):\n",
    "    kernels = ['linear', 'rbf','poly']\n",
    "    Cs = [0.001, 0.01, 0.1, 1, 10, 100]\n",
    "    gammas = [0.001, 0.01, 0.1, 1]\n",
    "    epsilon = [0.1,0.2,0.5,0.3]\n",
    "    param_grid = {'kernel': kernels, 'C': Cs, 'gamma' : gammas, 'epsilon' : epsilon}\n",
    "    grid_search = GridSearchCV(svm.SVR(), param_grid)\n",
    "    grid_search.fit(X, y)\n",
    "    grid_search.best_params_\n",
    "    print('done')\n",
    "    return(grid_search.best_params_)"
   ]
  },
  {
   "cell_type": "code",
   "execution_count": 39,
   "metadata": {
    "collapsed": false
   },
   "outputs": [
    {
     "ename": "KeyboardInterrupt",
     "evalue": "",
     "output_type": "error",
     "traceback": [
      "\u001b[0;31m---------------------------------------------------------------------------\u001b[0m",
      "\u001b[0;31mKeyboardInterrupt\u001b[0m                         Traceback (most recent call last)",
      "\u001b[0;32m<ipython-input-39-19c339e6893c>\u001b[0m in \u001b[0;36m<module>\u001b[0;34m()\u001b[0m\n\u001b[0;32m----> 1\u001b[0;31m \u001b[0msvr_param_selection\u001b[0m\u001b[0;34m(\u001b[0m\u001b[0mX_train_sample3\u001b[0m\u001b[0;34m,\u001b[0m \u001b[0my_train_df\u001b[0m\u001b[0;34m)\u001b[0m\u001b[0;34m\u001b[0m\u001b[0m\n\u001b[0m",
      "\u001b[0;32m<ipython-input-38-34d16952cff6>\u001b[0m in \u001b[0;36msvr_param_selection\u001b[0;34m(X, y)\u001b[0m\n\u001b[1;32m      7\u001b[0m     \u001b[0mparam_grid\u001b[0m \u001b[0;34m=\u001b[0m \u001b[0;34m{\u001b[0m\u001b[0;34m'kernel'\u001b[0m\u001b[0;34m:\u001b[0m \u001b[0mkernels\u001b[0m\u001b[0;34m,\u001b[0m \u001b[0;34m'C'\u001b[0m\u001b[0;34m:\u001b[0m \u001b[0mCs\u001b[0m\u001b[0;34m,\u001b[0m \u001b[0;34m'gamma'\u001b[0m \u001b[0;34m:\u001b[0m \u001b[0mgammas\u001b[0m\u001b[0;34m,\u001b[0m \u001b[0;34m'epsilon'\u001b[0m \u001b[0;34m:\u001b[0m \u001b[0mepsilon\u001b[0m\u001b[0;34m}\u001b[0m\u001b[0;34m\u001b[0m\u001b[0m\n\u001b[1;32m      8\u001b[0m     \u001b[0mgrid_search\u001b[0m \u001b[0;34m=\u001b[0m \u001b[0mGridSearchCV\u001b[0m\u001b[0;34m(\u001b[0m\u001b[0msvm\u001b[0m\u001b[0;34m.\u001b[0m\u001b[0mSVR\u001b[0m\u001b[0;34m(\u001b[0m\u001b[0;34m)\u001b[0m\u001b[0;34m,\u001b[0m \u001b[0mparam_grid\u001b[0m\u001b[0;34m)\u001b[0m\u001b[0;34m\u001b[0m\u001b[0m\n\u001b[0;32m----> 9\u001b[0;31m     \u001b[0mgrid_search\u001b[0m\u001b[0;34m.\u001b[0m\u001b[0mfit\u001b[0m\u001b[0;34m(\u001b[0m\u001b[0mX\u001b[0m\u001b[0;34m,\u001b[0m \u001b[0my\u001b[0m\u001b[0;34m)\u001b[0m\u001b[0;34m\u001b[0m\u001b[0m\n\u001b[0m\u001b[1;32m     10\u001b[0m     \u001b[0mgrid_search\u001b[0m\u001b[0;34m.\u001b[0m\u001b[0mbest_params_\u001b[0m\u001b[0;34m\u001b[0m\u001b[0m\n\u001b[1;32m     11\u001b[0m     \u001b[0mprint\u001b[0m\u001b[0;34m(\u001b[0m\u001b[0;34m'done'\u001b[0m\u001b[0;34m)\u001b[0m\u001b[0;34m\u001b[0m\u001b[0m\n",
      "\u001b[0;32m/Users/ruhama.ahale/anaconda/lib/python3.6/site-packages/sklearn/model_selection/_search.py\u001b[0m in \u001b[0;36mfit\u001b[0;34m(self, X, y, groups)\u001b[0m\n\u001b[1;32m    943\u001b[0m             \u001b[0mtrain\u001b[0m\u001b[0;34m/\u001b[0m\u001b[0mtest\u001b[0m \u001b[0mset\u001b[0m\u001b[0;34m.\u001b[0m\u001b[0;34m\u001b[0m\u001b[0m\n\u001b[1;32m    944\u001b[0m         \"\"\"\n\u001b[0;32m--> 945\u001b[0;31m         \u001b[0;32mreturn\u001b[0m \u001b[0mself\u001b[0m\u001b[0;34m.\u001b[0m\u001b[0m_fit\u001b[0m\u001b[0;34m(\u001b[0m\u001b[0mX\u001b[0m\u001b[0;34m,\u001b[0m \u001b[0my\u001b[0m\u001b[0;34m,\u001b[0m \u001b[0mgroups\u001b[0m\u001b[0;34m,\u001b[0m \u001b[0mParameterGrid\u001b[0m\u001b[0;34m(\u001b[0m\u001b[0mself\u001b[0m\u001b[0;34m.\u001b[0m\u001b[0mparam_grid\u001b[0m\u001b[0;34m)\u001b[0m\u001b[0;34m)\u001b[0m\u001b[0;34m\u001b[0m\u001b[0m\n\u001b[0m\u001b[1;32m    946\u001b[0m \u001b[0;34m\u001b[0m\u001b[0m\n\u001b[1;32m    947\u001b[0m \u001b[0;34m\u001b[0m\u001b[0m\n",
      "\u001b[0;32m/Users/ruhama.ahale/anaconda/lib/python3.6/site-packages/sklearn/model_selection/_search.py\u001b[0m in \u001b[0;36m_fit\u001b[0;34m(self, X, y, groups, parameter_iterable)\u001b[0m\n\u001b[1;32m    562\u001b[0m                                   \u001b[0mreturn_times\u001b[0m\u001b[0;34m=\u001b[0m\u001b[0;32mTrue\u001b[0m\u001b[0;34m,\u001b[0m \u001b[0mreturn_parameters\u001b[0m\u001b[0;34m=\u001b[0m\u001b[0;32mTrue\u001b[0m\u001b[0;34m,\u001b[0m\u001b[0;34m\u001b[0m\u001b[0m\n\u001b[1;32m    563\u001b[0m                                   error_score=self.error_score)\n\u001b[0;32m--> 564\u001b[0;31m           \u001b[0;32mfor\u001b[0m \u001b[0mparameters\u001b[0m \u001b[0;32min\u001b[0m \u001b[0mparameter_iterable\u001b[0m\u001b[0;34m\u001b[0m\u001b[0m\n\u001b[0m\u001b[1;32m    565\u001b[0m           for train, test in cv_iter)\n\u001b[1;32m    566\u001b[0m \u001b[0;34m\u001b[0m\u001b[0m\n",
      "\u001b[0;32m/Users/ruhama.ahale/anaconda/lib/python3.6/site-packages/sklearn/externals/joblib/parallel.py\u001b[0m in \u001b[0;36m__call__\u001b[0;34m(self, iterable)\u001b[0m\n\u001b[1;32m    756\u001b[0m             \u001b[0;31m# was dispatched. In particular this covers the edge\u001b[0m\u001b[0;34m\u001b[0m\u001b[0;34m\u001b[0m\u001b[0m\n\u001b[1;32m    757\u001b[0m             \u001b[0;31m# case of Parallel used with an exhausted iterator.\u001b[0m\u001b[0;34m\u001b[0m\u001b[0;34m\u001b[0m\u001b[0m\n\u001b[0;32m--> 758\u001b[0;31m             \u001b[0;32mwhile\u001b[0m \u001b[0mself\u001b[0m\u001b[0;34m.\u001b[0m\u001b[0mdispatch_one_batch\u001b[0m\u001b[0;34m(\u001b[0m\u001b[0miterator\u001b[0m\u001b[0;34m)\u001b[0m\u001b[0;34m:\u001b[0m\u001b[0;34m\u001b[0m\u001b[0m\n\u001b[0m\u001b[1;32m    759\u001b[0m                 \u001b[0mself\u001b[0m\u001b[0;34m.\u001b[0m\u001b[0m_iterating\u001b[0m \u001b[0;34m=\u001b[0m \u001b[0;32mTrue\u001b[0m\u001b[0;34m\u001b[0m\u001b[0m\n\u001b[1;32m    760\u001b[0m             \u001b[0;32melse\u001b[0m\u001b[0;34m:\u001b[0m\u001b[0;34m\u001b[0m\u001b[0m\n",
      "\u001b[0;32m/Users/ruhama.ahale/anaconda/lib/python3.6/site-packages/sklearn/externals/joblib/parallel.py\u001b[0m in \u001b[0;36mdispatch_one_batch\u001b[0;34m(self, iterator)\u001b[0m\n\u001b[1;32m    606\u001b[0m                 \u001b[0;32mreturn\u001b[0m \u001b[0;32mFalse\u001b[0m\u001b[0;34m\u001b[0m\u001b[0m\n\u001b[1;32m    607\u001b[0m             \u001b[0;32melse\u001b[0m\u001b[0;34m:\u001b[0m\u001b[0;34m\u001b[0m\u001b[0m\n\u001b[0;32m--> 608\u001b[0;31m                 \u001b[0mself\u001b[0m\u001b[0;34m.\u001b[0m\u001b[0m_dispatch\u001b[0m\u001b[0;34m(\u001b[0m\u001b[0mtasks\u001b[0m\u001b[0;34m)\u001b[0m\u001b[0;34m\u001b[0m\u001b[0m\n\u001b[0m\u001b[1;32m    609\u001b[0m                 \u001b[0;32mreturn\u001b[0m \u001b[0;32mTrue\u001b[0m\u001b[0;34m\u001b[0m\u001b[0m\n\u001b[1;32m    610\u001b[0m \u001b[0;34m\u001b[0m\u001b[0m\n",
      "\u001b[0;32m/Users/ruhama.ahale/anaconda/lib/python3.6/site-packages/sklearn/externals/joblib/parallel.py\u001b[0m in \u001b[0;36m_dispatch\u001b[0;34m(self, batch)\u001b[0m\n\u001b[1;32m    569\u001b[0m         \u001b[0mdispatch_timestamp\u001b[0m \u001b[0;34m=\u001b[0m \u001b[0mtime\u001b[0m\u001b[0;34m.\u001b[0m\u001b[0mtime\u001b[0m\u001b[0;34m(\u001b[0m\u001b[0;34m)\u001b[0m\u001b[0;34m\u001b[0m\u001b[0m\n\u001b[1;32m    570\u001b[0m         \u001b[0mcb\u001b[0m \u001b[0;34m=\u001b[0m \u001b[0mBatchCompletionCallBack\u001b[0m\u001b[0;34m(\u001b[0m\u001b[0mdispatch_timestamp\u001b[0m\u001b[0;34m,\u001b[0m \u001b[0mlen\u001b[0m\u001b[0;34m(\u001b[0m\u001b[0mbatch\u001b[0m\u001b[0;34m)\u001b[0m\u001b[0;34m,\u001b[0m \u001b[0mself\u001b[0m\u001b[0;34m)\u001b[0m\u001b[0;34m\u001b[0m\u001b[0m\n\u001b[0;32m--> 571\u001b[0;31m         \u001b[0mjob\u001b[0m \u001b[0;34m=\u001b[0m \u001b[0mself\u001b[0m\u001b[0;34m.\u001b[0m\u001b[0m_backend\u001b[0m\u001b[0;34m.\u001b[0m\u001b[0mapply_async\u001b[0m\u001b[0;34m(\u001b[0m\u001b[0mbatch\u001b[0m\u001b[0;34m,\u001b[0m \u001b[0mcallback\u001b[0m\u001b[0;34m=\u001b[0m\u001b[0mcb\u001b[0m\u001b[0;34m)\u001b[0m\u001b[0;34m\u001b[0m\u001b[0m\n\u001b[0m\u001b[1;32m    572\u001b[0m         \u001b[0mself\u001b[0m\u001b[0;34m.\u001b[0m\u001b[0m_jobs\u001b[0m\u001b[0;34m.\u001b[0m\u001b[0mappend\u001b[0m\u001b[0;34m(\u001b[0m\u001b[0mjob\u001b[0m\u001b[0;34m)\u001b[0m\u001b[0;34m\u001b[0m\u001b[0m\n\u001b[1;32m    573\u001b[0m \u001b[0;34m\u001b[0m\u001b[0m\n",
      "\u001b[0;32m/Users/ruhama.ahale/anaconda/lib/python3.6/site-packages/sklearn/externals/joblib/_parallel_backends.py\u001b[0m in \u001b[0;36mapply_async\u001b[0;34m(self, func, callback)\u001b[0m\n\u001b[1;32m    107\u001b[0m     \u001b[0;32mdef\u001b[0m \u001b[0mapply_async\u001b[0m\u001b[0;34m(\u001b[0m\u001b[0mself\u001b[0m\u001b[0;34m,\u001b[0m \u001b[0mfunc\u001b[0m\u001b[0;34m,\u001b[0m \u001b[0mcallback\u001b[0m\u001b[0;34m=\u001b[0m\u001b[0;32mNone\u001b[0m\u001b[0;34m)\u001b[0m\u001b[0;34m:\u001b[0m\u001b[0;34m\u001b[0m\u001b[0m\n\u001b[1;32m    108\u001b[0m         \u001b[0;34m\"\"\"Schedule a func to be run\"\"\"\u001b[0m\u001b[0;34m\u001b[0m\u001b[0m\n\u001b[0;32m--> 109\u001b[0;31m         \u001b[0mresult\u001b[0m \u001b[0;34m=\u001b[0m \u001b[0mImmediateResult\u001b[0m\u001b[0;34m(\u001b[0m\u001b[0mfunc\u001b[0m\u001b[0;34m)\u001b[0m\u001b[0;34m\u001b[0m\u001b[0m\n\u001b[0m\u001b[1;32m    110\u001b[0m         \u001b[0;32mif\u001b[0m \u001b[0mcallback\u001b[0m\u001b[0;34m:\u001b[0m\u001b[0;34m\u001b[0m\u001b[0m\n\u001b[1;32m    111\u001b[0m             \u001b[0mcallback\u001b[0m\u001b[0;34m(\u001b[0m\u001b[0mresult\u001b[0m\u001b[0;34m)\u001b[0m\u001b[0;34m\u001b[0m\u001b[0m\n",
      "\u001b[0;32m/Users/ruhama.ahale/anaconda/lib/python3.6/site-packages/sklearn/externals/joblib/_parallel_backends.py\u001b[0m in \u001b[0;36m__init__\u001b[0;34m(self, batch)\u001b[0m\n\u001b[1;32m    324\u001b[0m         \u001b[0;31m# Don't delay the application, to avoid keeping the input\u001b[0m\u001b[0;34m\u001b[0m\u001b[0;34m\u001b[0m\u001b[0m\n\u001b[1;32m    325\u001b[0m         \u001b[0;31m# arguments in memory\u001b[0m\u001b[0;34m\u001b[0m\u001b[0;34m\u001b[0m\u001b[0m\n\u001b[0;32m--> 326\u001b[0;31m         \u001b[0mself\u001b[0m\u001b[0;34m.\u001b[0m\u001b[0mresults\u001b[0m \u001b[0;34m=\u001b[0m \u001b[0mbatch\u001b[0m\u001b[0;34m(\u001b[0m\u001b[0;34m)\u001b[0m\u001b[0;34m\u001b[0m\u001b[0m\n\u001b[0m\u001b[1;32m    327\u001b[0m \u001b[0;34m\u001b[0m\u001b[0m\n\u001b[1;32m    328\u001b[0m     \u001b[0;32mdef\u001b[0m \u001b[0mget\u001b[0m\u001b[0;34m(\u001b[0m\u001b[0mself\u001b[0m\u001b[0;34m)\u001b[0m\u001b[0;34m:\u001b[0m\u001b[0;34m\u001b[0m\u001b[0m\n",
      "\u001b[0;32m/Users/ruhama.ahale/anaconda/lib/python3.6/site-packages/sklearn/externals/joblib/parallel.py\u001b[0m in \u001b[0;36m__call__\u001b[0;34m(self)\u001b[0m\n\u001b[1;32m    129\u001b[0m \u001b[0;34m\u001b[0m\u001b[0m\n\u001b[1;32m    130\u001b[0m     \u001b[0;32mdef\u001b[0m \u001b[0m__call__\u001b[0m\u001b[0;34m(\u001b[0m\u001b[0mself\u001b[0m\u001b[0;34m)\u001b[0m\u001b[0;34m:\u001b[0m\u001b[0;34m\u001b[0m\u001b[0m\n\u001b[0;32m--> 131\u001b[0;31m         \u001b[0;32mreturn\u001b[0m \u001b[0;34m[\u001b[0m\u001b[0mfunc\u001b[0m\u001b[0;34m(\u001b[0m\u001b[0;34m*\u001b[0m\u001b[0margs\u001b[0m\u001b[0;34m,\u001b[0m \u001b[0;34m**\u001b[0m\u001b[0mkwargs\u001b[0m\u001b[0;34m)\u001b[0m \u001b[0;32mfor\u001b[0m \u001b[0mfunc\u001b[0m\u001b[0;34m,\u001b[0m \u001b[0margs\u001b[0m\u001b[0;34m,\u001b[0m \u001b[0mkwargs\u001b[0m \u001b[0;32min\u001b[0m \u001b[0mself\u001b[0m\u001b[0;34m.\u001b[0m\u001b[0mitems\u001b[0m\u001b[0;34m]\u001b[0m\u001b[0;34m\u001b[0m\u001b[0m\n\u001b[0m\u001b[1;32m    132\u001b[0m \u001b[0;34m\u001b[0m\u001b[0m\n\u001b[1;32m    133\u001b[0m     \u001b[0;32mdef\u001b[0m \u001b[0m__len__\u001b[0m\u001b[0;34m(\u001b[0m\u001b[0mself\u001b[0m\u001b[0;34m)\u001b[0m\u001b[0;34m:\u001b[0m\u001b[0;34m\u001b[0m\u001b[0m\n",
      "\u001b[0;32m/Users/ruhama.ahale/anaconda/lib/python3.6/site-packages/sklearn/externals/joblib/parallel.py\u001b[0m in \u001b[0;36m<listcomp>\u001b[0;34m(.0)\u001b[0m\n\u001b[1;32m    129\u001b[0m \u001b[0;34m\u001b[0m\u001b[0m\n\u001b[1;32m    130\u001b[0m     \u001b[0;32mdef\u001b[0m \u001b[0m__call__\u001b[0m\u001b[0;34m(\u001b[0m\u001b[0mself\u001b[0m\u001b[0;34m)\u001b[0m\u001b[0;34m:\u001b[0m\u001b[0;34m\u001b[0m\u001b[0m\n\u001b[0;32m--> 131\u001b[0;31m         \u001b[0;32mreturn\u001b[0m \u001b[0;34m[\u001b[0m\u001b[0mfunc\u001b[0m\u001b[0;34m(\u001b[0m\u001b[0;34m*\u001b[0m\u001b[0margs\u001b[0m\u001b[0;34m,\u001b[0m \u001b[0;34m**\u001b[0m\u001b[0mkwargs\u001b[0m\u001b[0;34m)\u001b[0m \u001b[0;32mfor\u001b[0m \u001b[0mfunc\u001b[0m\u001b[0;34m,\u001b[0m \u001b[0margs\u001b[0m\u001b[0;34m,\u001b[0m \u001b[0mkwargs\u001b[0m \u001b[0;32min\u001b[0m \u001b[0mself\u001b[0m\u001b[0;34m.\u001b[0m\u001b[0mitems\u001b[0m\u001b[0;34m]\u001b[0m\u001b[0;34m\u001b[0m\u001b[0m\n\u001b[0m\u001b[1;32m    132\u001b[0m \u001b[0;34m\u001b[0m\u001b[0m\n\u001b[1;32m    133\u001b[0m     \u001b[0;32mdef\u001b[0m \u001b[0m__len__\u001b[0m\u001b[0;34m(\u001b[0m\u001b[0mself\u001b[0m\u001b[0;34m)\u001b[0m\u001b[0;34m:\u001b[0m\u001b[0;34m\u001b[0m\u001b[0m\n",
      "\u001b[0;32m/Users/ruhama.ahale/anaconda/lib/python3.6/site-packages/sklearn/model_selection/_validation.py\u001b[0m in \u001b[0;36m_fit_and_score\u001b[0;34m(estimator, X, y, scorer, train, test, verbose, parameters, fit_params, return_train_score, return_parameters, return_n_test_samples, return_times, error_score)\u001b[0m\n\u001b[1;32m    236\u001b[0m             \u001b[0mestimator\u001b[0m\u001b[0;34m.\u001b[0m\u001b[0mfit\u001b[0m\u001b[0;34m(\u001b[0m\u001b[0mX_train\u001b[0m\u001b[0;34m,\u001b[0m \u001b[0;34m**\u001b[0m\u001b[0mfit_params\u001b[0m\u001b[0;34m)\u001b[0m\u001b[0;34m\u001b[0m\u001b[0m\n\u001b[1;32m    237\u001b[0m         \u001b[0;32melse\u001b[0m\u001b[0;34m:\u001b[0m\u001b[0;34m\u001b[0m\u001b[0m\n\u001b[0;32m--> 238\u001b[0;31m             \u001b[0mestimator\u001b[0m\u001b[0;34m.\u001b[0m\u001b[0mfit\u001b[0m\u001b[0;34m(\u001b[0m\u001b[0mX_train\u001b[0m\u001b[0;34m,\u001b[0m \u001b[0my_train\u001b[0m\u001b[0;34m,\u001b[0m \u001b[0;34m**\u001b[0m\u001b[0mfit_params\u001b[0m\u001b[0;34m)\u001b[0m\u001b[0;34m\u001b[0m\u001b[0m\n\u001b[0m\u001b[1;32m    239\u001b[0m \u001b[0;34m\u001b[0m\u001b[0m\n\u001b[1;32m    240\u001b[0m     \u001b[0;32mexcept\u001b[0m \u001b[0mException\u001b[0m \u001b[0;32mas\u001b[0m \u001b[0me\u001b[0m\u001b[0;34m:\u001b[0m\u001b[0;34m\u001b[0m\u001b[0m\n",
      "\u001b[0;32m/Users/ruhama.ahale/anaconda/lib/python3.6/site-packages/sklearn/svm/base.py\u001b[0m in \u001b[0;36mfit\u001b[0;34m(self, X, y, sample_weight)\u001b[0m\n\u001b[1;32m    187\u001b[0m \u001b[0;34m\u001b[0m\u001b[0m\n\u001b[1;32m    188\u001b[0m         \u001b[0mseed\u001b[0m \u001b[0;34m=\u001b[0m \u001b[0mrnd\u001b[0m\u001b[0;34m.\u001b[0m\u001b[0mrandint\u001b[0m\u001b[0;34m(\u001b[0m\u001b[0mnp\u001b[0m\u001b[0;34m.\u001b[0m\u001b[0miinfo\u001b[0m\u001b[0;34m(\u001b[0m\u001b[0;34m'i'\u001b[0m\u001b[0;34m)\u001b[0m\u001b[0;34m.\u001b[0m\u001b[0mmax\u001b[0m\u001b[0;34m)\u001b[0m\u001b[0;34m\u001b[0m\u001b[0m\n\u001b[0;32m--> 189\u001b[0;31m         \u001b[0mfit\u001b[0m\u001b[0;34m(\u001b[0m\u001b[0mX\u001b[0m\u001b[0;34m,\u001b[0m \u001b[0my\u001b[0m\u001b[0;34m,\u001b[0m \u001b[0msample_weight\u001b[0m\u001b[0;34m,\u001b[0m \u001b[0msolver_type\u001b[0m\u001b[0;34m,\u001b[0m \u001b[0mkernel\u001b[0m\u001b[0;34m,\u001b[0m \u001b[0mrandom_seed\u001b[0m\u001b[0;34m=\u001b[0m\u001b[0mseed\u001b[0m\u001b[0;34m)\u001b[0m\u001b[0;34m\u001b[0m\u001b[0m\n\u001b[0m\u001b[1;32m    190\u001b[0m         \u001b[0;31m# see comment on the other call to np.iinfo in this file\u001b[0m\u001b[0;34m\u001b[0m\u001b[0;34m\u001b[0m\u001b[0m\n\u001b[1;32m    191\u001b[0m \u001b[0;34m\u001b[0m\u001b[0m\n",
      "\u001b[0;32m/Users/ruhama.ahale/anaconda/lib/python3.6/site-packages/sklearn/svm/base.py\u001b[0m in \u001b[0;36m_dense_fit\u001b[0;34m(self, X, y, sample_weight, solver_type, kernel, random_seed)\u001b[0m\n\u001b[1;32m    254\u001b[0m                 \u001b[0mcache_size\u001b[0m\u001b[0;34m=\u001b[0m\u001b[0mself\u001b[0m\u001b[0;34m.\u001b[0m\u001b[0mcache_size\u001b[0m\u001b[0;34m,\u001b[0m \u001b[0mcoef0\u001b[0m\u001b[0;34m=\u001b[0m\u001b[0mself\u001b[0m\u001b[0;34m.\u001b[0m\u001b[0mcoef0\u001b[0m\u001b[0;34m,\u001b[0m\u001b[0;34m\u001b[0m\u001b[0m\n\u001b[1;32m    255\u001b[0m                 \u001b[0mgamma\u001b[0m\u001b[0;34m=\u001b[0m\u001b[0mself\u001b[0m\u001b[0;34m.\u001b[0m\u001b[0m_gamma\u001b[0m\u001b[0;34m,\u001b[0m \u001b[0mepsilon\u001b[0m\u001b[0;34m=\u001b[0m\u001b[0mself\u001b[0m\u001b[0;34m.\u001b[0m\u001b[0mepsilon\u001b[0m\u001b[0;34m,\u001b[0m\u001b[0;34m\u001b[0m\u001b[0m\n\u001b[0;32m--> 256\u001b[0;31m                 max_iter=self.max_iter, random_seed=random_seed)\n\u001b[0m\u001b[1;32m    257\u001b[0m \u001b[0;34m\u001b[0m\u001b[0m\n\u001b[1;32m    258\u001b[0m         \u001b[0mself\u001b[0m\u001b[0;34m.\u001b[0m\u001b[0m_warn_from_fit_status\u001b[0m\u001b[0;34m(\u001b[0m\u001b[0;34m)\u001b[0m\u001b[0;34m\u001b[0m\u001b[0m\n",
      "\u001b[0;31mKeyboardInterrupt\u001b[0m: "
     ]
    }
   ],
   "source": [
    "svr_param_selection(X_train_sample3, y_train_df)"
   ]
  },
  {
   "cell_type": "code",
   "execution_count": 40,
   "metadata": {
    "collapsed": false
   },
   "outputs": [
    {
     "name": "stdout",
     "output_type": "stream",
     "text": [
      "hi you\n"
     ]
    }
   ],
   "source": [
    "print('hi you')"
   ]
  },
  {
   "cell_type": "code",
   "execution_count": 146,
   "metadata": {
    "collapsed": false
   },
   "outputs": [
    {
     "data": {
      "text/plain": [
       "{'C': 100, 'epsilon': 0.3, 'gamma': 0.1, 'kernel': 'rbf'}"
      ]
     },
     "execution_count": 146,
     "metadata": {},
     "output_type": "execute_result"
    }
   ],
   "source": [
    "{'C': 100, 'epsilon': 0.3, 'gamma': 0.1, 'kernel': 'rbf'} #output"
   ]
  },
  {
   "cell_type": "code",
   "execution_count": null,
   "metadata": {
    "collapsed": true
   },
   "outputs": [],
   "source": []
  }
 ],
 "metadata": {
  "kernelspec": {
   "display_name": "Python 3",
   "language": "python",
   "name": "python3"
  },
  "language_info": {
   "codemirror_mode": {
    "name": "ipython",
    "version": 3
   },
   "file_extension": ".py",
   "mimetype": "text/x-python",
   "name": "python",
   "nbconvert_exporter": "python",
   "pygments_lexer": "ipython3",
   "version": "3.6.0"
  }
 },
 "nbformat": 4,
 "nbformat_minor": 2
}
